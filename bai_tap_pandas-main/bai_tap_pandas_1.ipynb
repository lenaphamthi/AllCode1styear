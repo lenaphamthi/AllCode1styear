{
  "nbformat": 4,
  "nbformat_minor": 0,
  "metadata": {
    "colab": {
      "name": "bai_tap_pandas_1.ipynb",
      "provenance": [],
      "authorship_tag": "ABX9TyOqUUi/YFk6Ur9ytcpgrC8S",
      "include_colab_link": true
    },
    "kernelspec": {
      "name": "python3",
      "display_name": "Python 3"
    },
    "language_info": {
      "name": "python"
    }
  },
  "cells": [
    {
      "cell_type": "markdown",
      "metadata": {
        "id": "view-in-github",
        "colab_type": "text"
      },
      "source": [
        "<a href=\"https://colab.research.google.com/github/lenaphamthi/bai_tap_pandas/blob/main/bai_tap_pandas_1.ipynb\" target=\"_parent\"><img src=\"https://colab.research.google.com/assets/colab-badge.svg\" alt=\"Open In Colab\"/></a>"
      ]
    },
    {
      "cell_type": "markdown",
      "source": [
        "Câu 1: Khởi tạo 1 Series với giá trị rỗng\n",
        "- class pandas.Series(data=None, index=None, dtype=None, name=None, copy=False, fastpath=False)"
      ],
      "metadata": {
        "id": "7Xaqks5nF-QA"
      }
    },
    {
      "cell_type": "code",
      "source": [
        "import numpy as np\n",
        "import pandas as pd"
      ],
      "metadata": {
        "id": "NhmBvbPxlWPn"
      },
      "execution_count": 2,
      "outputs": []
    },
    {
      "cell_type": "code",
      "execution_count": null,
      "metadata": {
        "colab": {
          "base_uri": "https://localhost:8080/"
        },
        "id": "IGDrht2R7tQm",
        "outputId": "4fae0a92-e7da-437b-8607-0e77f0fec726"
      },
      "outputs": [
        {
          "output_type": "stream",
          "name": "stderr",
          "text": [
            "/usr/local/lib/python3.7/dist-packages/ipykernel_launcher.py:1: DeprecationWarning: The default dtype for empty Series will be 'object' instead of 'float64' in a future version. Specify a dtype explicitly to silence this warning.\n",
            "  \"\"\"Entry point for launching an IPython kernel.\n"
          ]
        },
        {
          "output_type": "execute_result",
          "data": {
            "text/plain": [
              "Series([], dtype: float64)"
            ]
          },
          "metadata": {},
          "execution_count": 3
        }
      ],
      "source": [
        "pd.Series()"
      ]
    },
    {
      "cell_type": "markdown",
      "source": [
        "Câu 2: Giả sử có 1 vector hàng a có kích thước (1x7) được biểu diễn trong NumPy, hãy tạo 1\n",
        "series tương ứng với các giá trị được sinh ngẫu nhiên.\n",
        "- hàm random.randint(low, high=None, size=None, dtype=int) : sinh giá trị ngẫu nhiên là số nguyên\n"
      ],
      "metadata": {
        "id": "MDxuwZAHF_8y"
      }
    },
    {
      "cell_type": "code",
      "source": [
        "a = np.random.randint(1,10,7)\n",
        "print(\"Vector hang co kich thuoc ngau nhien: \",a)\n",
        "aa = pd.Series(a)\n",
        "print(\"Series tuong ung: \")\n",
        "print(aa)"
      ],
      "metadata": {
        "colab": {
          "base_uri": "https://localhost:8080/"
        },
        "id": "wlOu4tVRGA1A",
        "outputId": "e599cdf7-f994-4a70-90b7-87cd22bec127"
      },
      "execution_count": 6,
      "outputs": [
        {
          "output_type": "stream",
          "name": "stdout",
          "text": [
            "Vector hang co kich thuoc ngau nhien:  [3 8 7 3 7 6 3]\n",
            "Series tuong ung: \n",
            "0    3\n",
            "1    8\n",
            "2    7\n",
            "3    3\n",
            "4    7\n",
            "5    6\n",
            "6    3\n",
            "dtype: int64\n"
          ]
        }
      ]
    },
    {
      "cell_type": "markdown",
      "source": [
        "Câu 3: Giả sử có 1 vector hàng a có kích thước (1x7), hãy nhập các giá trị cho 7 phần tử này từ\n",
        "bàn phím và tạo series tương ứng."
      ],
      "metadata": {
        "id": "seMmtXk5LGdb"
      }
    },
    {
      "cell_type": "code",
      "source": [
        "a = np.array([int(input(f\"nhap phan tu thu {i+1}: \")) for i in range(7)])\n",
        "print(\"Phan tu da nhap: \",a)\n",
        "print(\"series cua 7 phan tu bat ky: \")\n",
        "print(pd.Series(a))"
      ],
      "metadata": {
        "colab": {
          "base_uri": "https://localhost:8080/"
        },
        "id": "WAPPe82wIVfj",
        "outputId": "798771d3-2aab-4d76-da66-adfce52c7554"
      },
      "execution_count": 9,
      "outputs": [
        {
          "output_type": "stream",
          "name": "stdout",
          "text": [
            "nhap phan tu thu 1: 4\n",
            "nhap phan tu thu 2: 6\n",
            "nhap phan tu thu 3: 3\n",
            "nhap phan tu thu 4: 2\n",
            "nhap phan tu thu 5: 5\n",
            "nhap phan tu thu 6: 4\n",
            "nhap phan tu thu 7: 9\n",
            "Phan tu da nhap:  [4 6 3 2 5 4 9]\n",
            "series cua 7 phan tu bat ky: \n",
            "0    4\n",
            "1    6\n",
            "2    3\n",
            "3    2\n",
            "4    5\n",
            "5    4\n",
            "6    9\n",
            "dtype: int64\n"
          ]
        }
      ]
    },
    {
      "cell_type": "markdown",
      "source": [
        "Câu 4: Giả sử có 1 vector cột có kích thước (7x1) được biểu diễn trong NumPy, hãy tạo Series\n",
        "tương ứng."
      ],
      "metadata": {
        "id": "a-tjk48jLhz5"
      }
    },
    {
      "cell_type": "code",
      "source": [
        "a = np.random.randint(1,10,[7,1])\n",
        "print(\"vector cot: \")\n",
        "print(a)\n",
        "#dùng hàm reshape để đổi hàng và cột vì series chỉ nhận dữ liệu 1 chiều\n",
        "aa = a.reshape(7,)\n",
        "print(\"series tuong ung\")\n",
        "print(pd.Series(aa))"
      ],
      "metadata": {
        "colab": {
          "base_uri": "https://localhost:8080/"
        },
        "id": "N9r0ymqOLi3p",
        "outputId": "2d800bc4-6823-4562-b98c-39d44fc08015"
      },
      "execution_count": 13,
      "outputs": [
        {
          "output_type": "stream",
          "name": "stdout",
          "text": [
            "vector cot: \n",
            "[[4]\n",
            " [9]\n",
            " [5]\n",
            " [5]\n",
            " [1]\n",
            " [5]\n",
            " [4]]\n",
            "series tuong ung\n",
            "0    4\n",
            "1    9\n",
            "2    5\n",
            "3    5\n",
            "4    1\n",
            "5    5\n",
            "6    4\n",
            "dtype: int64\n"
          ]
        }
      ]
    },
    {
      "cell_type": "markdown",
      "source": [
        "Câu 5: Chuyển đổi dữ liệu, hãy thực hiện các yêu cầu sau:\n",
        "- Chuyển 1 list thành 1 series\n",
        "- Chuyển 1 tuple thành 1 series\n",
        "- Chuyển 1 dictionary thành 1 series"
      ],
      "metadata": {
        "id": "x0q604gtN5lY"
      }
    },
    {
      "cell_type": "code",
      "source": [
        "l1 = [1,2,3,4]\n",
        "print(\"list :\",l1)\n",
        "print(\"chuyen list thanh series: \")\n",
        "print(pd.Series(l1))"
      ],
      "metadata": {
        "colab": {
          "base_uri": "https://localhost:8080/"
        },
        "id": "2PqQJoU1N6t6",
        "outputId": "db58d3d9-c4ac-4be1-af01-18e7a031726f"
      },
      "execution_count": 16,
      "outputs": [
        {
          "output_type": "stream",
          "name": "stdout",
          "text": [
            "list : [1, 2, 3, 4]\n",
            "chuyen list thanh series: \n",
            "0    1\n",
            "1    2\n",
            "2    3\n",
            "3    4\n",
            "dtype: int64\n"
          ]
        }
      ]
    },
    {
      "cell_type": "code",
      "source": [
        "t1 = (1,3,4,5)\n",
        "print(\"tuple: \",t1)\n",
        "print(\"chuyen tuple thanh series: \")\n",
        "print(pd.Series(t1))"
      ],
      "metadata": {
        "colab": {
          "base_uri": "https://localhost:8080/"
        },
        "id": "X0SR_dHSOX7r",
        "outputId": "7c5b218b-dcf9-4bbe-a4cf-d03133b673a3"
      },
      "execution_count": 18,
      "outputs": [
        {
          "output_type": "stream",
          "name": "stdout",
          "text": [
            "tuple:  (1, 3, 4, 5)\n",
            "chuyen tuple thanh series: \n",
            "0    1\n",
            "1    3\n",
            "2    4\n",
            "3    5\n",
            "dtype: int64\n"
          ]
        }
      ]
    },
    {
      "cell_type": "code",
      "source": [
        "d1 = {\"year\": 2003 , \"age\":18 }\n",
        "print(\"dictionary: \",d1)\n",
        "print(\"chuyen dict thanh series: \")\n",
        "print(pd.Series(d1))"
      ],
      "metadata": {
        "colab": {
          "base_uri": "https://localhost:8080/"
        },
        "id": "bFDFSTnpOseK",
        "outputId": "5015e276-bb84-437b-90c7-f81d7171cb41"
      },
      "execution_count": 22,
      "outputs": [
        {
          "output_type": "stream",
          "name": "stdout",
          "text": [
            "dictionary:  {'year': 2003, 'age': 18}\n",
            "chuyen dict thanh series: \n",
            "year    2003\n",
            "age       18\n",
            "dtype: int64\n"
          ]
        }
      ]
    },
    {
      "cell_type": "markdown",
      "source": [
        "Câu 6: Mỗi phần tử của series đều gắn liền với các chỉ số (index) tương ứng, hãy tạo một series\n",
        "có kích thước (1x20) với giá trị ngẫu nhiên:\n",
        "- Xuất series ra màn hình\n",
        "- Xuất các chỉ số của series ra màn hình\n",
        "- Thay đổi cách đánh chỉ số mặc định của series từ đánh chỉ số bằng số nguyên sang các kiểu\n",
        "đánh chỉ số bằng label và in kết quả ra màn hình"
      ],
      "metadata": {
        "id": "DSl5ClyTN3TZ"
      }
    },
    {
      "cell_type": "code",
      "source": [
        "x = pd.Series(np.random.randint(1,20,[20]))\n",
        "print(x)\n"
      ],
      "metadata": {
        "colab": {
          "base_uri": "https://localhost:8080/"
        },
        "id": "Haz3Ltq7N4Me",
        "outputId": "7047609f-099e-48dd-86d0-447e38b30d9c"
      },
      "execution_count": 27,
      "outputs": [
        {
          "output_type": "stream",
          "name": "stdout",
          "text": [
            "0     13\n",
            "1      4\n",
            "2      6\n",
            "3     13\n",
            "4      6\n",
            "5     15\n",
            "6      1\n",
            "7      4\n",
            "8     10\n",
            "9     10\n",
            "10     8\n",
            "11    14\n",
            "12    18\n",
            "13    11\n",
            "14     3\n",
            "15    12\n",
            "16    14\n",
            "17    11\n",
            "18     1\n",
            "19    10\n",
            "dtype: int64\n"
          ]
        }
      ]
    },
    {
      "cell_type": "code",
      "source": [
        "print(\"chi so cua series: \",x.index)"
      ],
      "metadata": {
        "colab": {
          "base_uri": "https://localhost:8080/"
        },
        "id": "GU8hNooYQ1E8",
        "outputId": "0b3692c4-79ec-4738-f020-e15c858b1b10"
      },
      "execution_count": 28,
      "outputs": [
        {
          "output_type": "stream",
          "name": "stdout",
          "text": [
            "chi so cua series:  RangeIndex(start=0, stop=20, step=1)\n"
          ]
        }
      ]
    },
    {
      "cell_type": "code",
      "source": [
        "print(x)\n",
        "l1 = ['a','b','c','d','e','f','g','h','l','m','n','i','j','k','o','p','q','t','u','w']\n",
        "x.index=l1\n",
        "print(\"Thay doi cach danh chi so: \")\n",
        "print(x)"
      ],
      "metadata": {
        "colab": {
          "base_uri": "https://localhost:8080/"
        },
        "id": "P8LYNhKHrRqr",
        "outputId": "2c43dcf8-868e-45ac-e9e9-bf72736deaff"
      },
      "execution_count": 30,
      "outputs": [
        {
          "output_type": "stream",
          "name": "stdout",
          "text": [
            "0     13\n",
            "1      4\n",
            "2      6\n",
            "3     13\n",
            "4      6\n",
            "5     15\n",
            "6      1\n",
            "7      4\n",
            "8     10\n",
            "9     10\n",
            "10     8\n",
            "11    14\n",
            "12    18\n",
            "13    11\n",
            "14     3\n",
            "15    12\n",
            "16    14\n",
            "17    11\n",
            "18     1\n",
            "19    10\n",
            "dtype: int64\n",
            "Thay doi cach danh chi so: \n",
            "a    13\n",
            "b     4\n",
            "c     6\n",
            "d    13\n",
            "e     6\n",
            "f    15\n",
            "g     1\n",
            "h     4\n",
            "l    10\n",
            "m    10\n",
            "n     8\n",
            "i    14\n",
            "j    18\n",
            "k    11\n",
            "o     3\n",
            "p    12\n",
            "q    14\n",
            "t    11\n",
            "u     1\n",
            "w    10\n",
            "dtype: int64\n"
          ]
        }
      ]
    },
    {
      "cell_type": "markdown",
      "source": [
        "Câu 7: Giả sử có series có kích thước (1x10), giá trị ngẫu nhiên, index được đánh từ ‘a’ trở đi,\n",
        "hãy:\n",
        "- Trích xuất các phần tử của Series có chỉ số là ‘a’, ‘c’, ‘e’\n",
        "- Trích xuất các phần tử của Series có chỉ số từ 3 đến 6"
      ],
      "metadata": {
        "id": "OQIYRD_PRJf5"
      }
    },
    {
      "cell_type": "code",
      "source": [
        "b = pd.Series(np.random.randint(1,10,[10]))\n",
        "l2 = ['a','b','c','d','e','f','g','h','i','j']\n",
        "b.index = l2\n",
        "print(b)\n",
        "print(\"chi so a: \",b.loc['a'])\n",
        "print(\"chi so c: \",b.loc['c'])\n",
        "print(\"chi so e: \",b.loc['e'])"
      ],
      "metadata": {
        "id": "IRyH17eUVl0U",
        "colab": {
          "base_uri": "https://localhost:8080/"
        },
        "outputId": "c2f64112-d991-41ad-c600-d1da16225dee"
      },
      "execution_count": 32,
      "outputs": [
        {
          "output_type": "stream",
          "name": "stdout",
          "text": [
            "a    5\n",
            "b    8\n",
            "c    4\n",
            "d    5\n",
            "e    3\n",
            "f    6\n",
            "g    9\n",
            "h    4\n",
            "i    9\n",
            "j    9\n",
            "dtype: int64\n",
            "chi so a:  5\n",
            "chi so c:  4\n",
            "chi so e:  3\n"
          ]
        }
      ]
    },
    {
      "cell_type": "code",
      "source": [
        "print(b)\n",
        "print(\"chi so tu 3 den 6: \")\n",
        "print(b.iloc[3:7])"
      ],
      "metadata": {
        "colab": {
          "base_uri": "https://localhost:8080/"
        },
        "id": "I1nguBiXKh_T",
        "outputId": "01d40ffd-e3bf-46a8-9151-8287c47d493d"
      },
      "execution_count": 33,
      "outputs": [
        {
          "output_type": "stream",
          "name": "stdout",
          "text": [
            "a    5\n",
            "b    8\n",
            "c    4\n",
            "d    5\n",
            "e    3\n",
            "f    6\n",
            "g    9\n",
            "h    4\n",
            "i    9\n",
            "j    9\n",
            "dtype: int64\n",
            "chi so tu 3 den 6: \n",
            "d    5\n",
            "e    3\n",
            "f    6\n",
            "g    9\n",
            "dtype: int64\n"
          ]
        }
      ]
    }
  ]
}