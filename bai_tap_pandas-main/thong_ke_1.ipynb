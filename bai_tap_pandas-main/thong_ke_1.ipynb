{
 "cells": [
  {
   "cell_type": "markdown",
   "id": "c4d5f0e0",
   "metadata": {},
   "source": [
    "# Pandas 03"
   ]
  },
  {
   "cell_type": "markdown",
   "id": "5dd4762a",
   "metadata": {},
   "source": [
    "## 1. Dùng pandas đọc tập tin trên vào 1 dataframe."
   ]
  },
  {
   "cell_type": "code",
   "execution_count": null,
   "id": "ee11de3b",
   "metadata": {},
   "outputs": [],
   "source": [
    "import pandas as pd"
   ]
  },
  {
   "cell_type": "code",
   "execution_count": 5,
   "id": "a4819909",
   "metadata": {},
   "outputs": [],
   "source": [
    "#1 Dùng pandas đọc tập tin trên vào 1 dataframe.\n",
    "df = pd.read_csv(\"C:\\\\Users\\\\LENOVO\\\\Downloads\\\\1000 Sales Records.csv\")"
   ]
  },
  {
   "cell_type": "code",
   "execution_count": 8,
   "id": "e8ba2007",
   "metadata": {},
   "outputs": [
    {
     "data": {
      "text/html": [
       "<div>\n",
       "<style scoped>\n",
       "    .dataframe tbody tr th:only-of-type {\n",
       "        vertical-align: middle;\n",
       "    }\n",
       "\n",
       "    .dataframe tbody tr th {\n",
       "        vertical-align: top;\n",
       "    }\n",
       "\n",
       "    .dataframe thead th {\n",
       "        text-align: right;\n",
       "    }\n",
       "</style>\n",
       "<table border=\"1\" class=\"dataframe\">\n",
       "  <thead>\n",
       "    <tr style=\"text-align: right;\">\n",
       "      <th></th>\n",
       "      <th>Region</th>\n",
       "      <th>Country</th>\n",
       "      <th>Item Type</th>\n",
       "      <th>Sales Channel</th>\n",
       "      <th>Order Priority</th>\n",
       "      <th>Order Date</th>\n",
       "      <th>Order ID</th>\n",
       "      <th>Ship Date</th>\n",
       "      <th>Units Sold</th>\n",
       "      <th>Unit Price</th>\n",
       "      <th>Unit Cost</th>\n",
       "      <th>Total Revenue</th>\n",
       "      <th>Total Cost</th>\n",
       "      <th>Total Profit</th>\n",
       "    </tr>\n",
       "  </thead>\n",
       "  <tbody>\n",
       "    <tr>\n",
       "      <th>0</th>\n",
       "      <td>Middle East and North Africa</td>\n",
       "      <td>Libya</td>\n",
       "      <td>Cosmetics</td>\n",
       "      <td>Offline</td>\n",
       "      <td>M</td>\n",
       "      <td>10/18/2014</td>\n",
       "      <td>686800706</td>\n",
       "      <td>10/31/2014</td>\n",
       "      <td>8446</td>\n",
       "      <td>437.20</td>\n",
       "      <td>263.33</td>\n",
       "      <td>3692591.20</td>\n",
       "      <td>2224085.18</td>\n",
       "      <td>1468506.02</td>\n",
       "    </tr>\n",
       "    <tr>\n",
       "      <th>1</th>\n",
       "      <td>North America</td>\n",
       "      <td>Canada</td>\n",
       "      <td>Vegetables</td>\n",
       "      <td>Online</td>\n",
       "      <td>M</td>\n",
       "      <td>11/7/2011</td>\n",
       "      <td>185941302</td>\n",
       "      <td>12/8/2011</td>\n",
       "      <td>3018</td>\n",
       "      <td>154.06</td>\n",
       "      <td>90.93</td>\n",
       "      <td>464953.08</td>\n",
       "      <td>274426.74</td>\n",
       "      <td>190526.34</td>\n",
       "    </tr>\n",
       "    <tr>\n",
       "      <th>2</th>\n",
       "      <td>Middle East and North Africa</td>\n",
       "      <td>Libya</td>\n",
       "      <td>Baby Food</td>\n",
       "      <td>Offline</td>\n",
       "      <td>C</td>\n",
       "      <td>10/31/2016</td>\n",
       "      <td>246222341</td>\n",
       "      <td>12/9/2016</td>\n",
       "      <td>1517</td>\n",
       "      <td>255.28</td>\n",
       "      <td>159.42</td>\n",
       "      <td>387259.76</td>\n",
       "      <td>241840.14</td>\n",
       "      <td>145419.62</td>\n",
       "    </tr>\n",
       "    <tr>\n",
       "      <th>3</th>\n",
       "      <td>Asia</td>\n",
       "      <td>Japan</td>\n",
       "      <td>Cereal</td>\n",
       "      <td>Offline</td>\n",
       "      <td>C</td>\n",
       "      <td>4/10/2010</td>\n",
       "      <td>161442649</td>\n",
       "      <td>5/12/2010</td>\n",
       "      <td>3322</td>\n",
       "      <td>205.70</td>\n",
       "      <td>117.11</td>\n",
       "      <td>683335.40</td>\n",
       "      <td>389039.42</td>\n",
       "      <td>294295.98</td>\n",
       "    </tr>\n",
       "    <tr>\n",
       "      <th>4</th>\n",
       "      <td>Sub-Saharan Africa</td>\n",
       "      <td>Chad</td>\n",
       "      <td>Fruits</td>\n",
       "      <td>Offline</td>\n",
       "      <td>H</td>\n",
       "      <td>8/16/2011</td>\n",
       "      <td>645713555</td>\n",
       "      <td>8/31/2011</td>\n",
       "      <td>9845</td>\n",
       "      <td>9.33</td>\n",
       "      <td>6.92</td>\n",
       "      <td>91853.85</td>\n",
       "      <td>68127.40</td>\n",
       "      <td>23726.45</td>\n",
       "    </tr>\n",
       "    <tr>\n",
       "      <th>...</th>\n",
       "      <td>...</td>\n",
       "      <td>...</td>\n",
       "      <td>...</td>\n",
       "      <td>...</td>\n",
       "      <td>...</td>\n",
       "      <td>...</td>\n",
       "      <td>...</td>\n",
       "      <td>...</td>\n",
       "      <td>...</td>\n",
       "      <td>...</td>\n",
       "      <td>...</td>\n",
       "      <td>...</td>\n",
       "      <td>...</td>\n",
       "      <td>...</td>\n",
       "    </tr>\n",
       "    <tr>\n",
       "      <th>995</th>\n",
       "      <td>Middle East and North Africa</td>\n",
       "      <td>Azerbaijan</td>\n",
       "      <td>Snacks</td>\n",
       "      <td>Offline</td>\n",
       "      <td>C</td>\n",
       "      <td>4/18/2010</td>\n",
       "      <td>534085166</td>\n",
       "      <td>4/25/2010</td>\n",
       "      <td>6524</td>\n",
       "      <td>152.58</td>\n",
       "      <td>97.44</td>\n",
       "      <td>995431.92</td>\n",
       "      <td>635698.56</td>\n",
       "      <td>359733.36</td>\n",
       "    </tr>\n",
       "    <tr>\n",
       "      <th>996</th>\n",
       "      <td>Europe</td>\n",
       "      <td>Georgia</td>\n",
       "      <td>Baby Food</td>\n",
       "      <td>Offline</td>\n",
       "      <td>H</td>\n",
       "      <td>8/1/2011</td>\n",
       "      <td>590768182</td>\n",
       "      <td>9/7/2011</td>\n",
       "      <td>288</td>\n",
       "      <td>255.28</td>\n",
       "      <td>159.42</td>\n",
       "      <td>73520.64</td>\n",
       "      <td>45912.96</td>\n",
       "      <td>27607.68</td>\n",
       "    </tr>\n",
       "    <tr>\n",
       "      <th>997</th>\n",
       "      <td>Middle East and North Africa</td>\n",
       "      <td>United Arab Emirates</td>\n",
       "      <td>Vegetables</td>\n",
       "      <td>Online</td>\n",
       "      <td>C</td>\n",
       "      <td>5/12/2011</td>\n",
       "      <td>524363124</td>\n",
       "      <td>6/28/2011</td>\n",
       "      <td>9556</td>\n",
       "      <td>154.06</td>\n",
       "      <td>90.93</td>\n",
       "      <td>1472197.36</td>\n",
       "      <td>868927.08</td>\n",
       "      <td>603270.28</td>\n",
       "    </tr>\n",
       "    <tr>\n",
       "      <th>998</th>\n",
       "      <td>Europe</td>\n",
       "      <td>Finland</td>\n",
       "      <td>Household</td>\n",
       "      <td>Offline</td>\n",
       "      <td>L</td>\n",
       "      <td>1/25/2016</td>\n",
       "      <td>289606320</td>\n",
       "      <td>2/14/2016</td>\n",
       "      <td>9801</td>\n",
       "      <td>668.27</td>\n",
       "      <td>502.54</td>\n",
       "      <td>6549714.27</td>\n",
       "      <td>4925394.54</td>\n",
       "      <td>1624319.73</td>\n",
       "    </tr>\n",
       "    <tr>\n",
       "      <th>999</th>\n",
       "      <td>Europe</td>\n",
       "      <td>Portugal</td>\n",
       "      <td>Cereal</td>\n",
       "      <td>Offline</td>\n",
       "      <td>C</td>\n",
       "      <td>4/10/2014</td>\n",
       "      <td>811546599</td>\n",
       "      <td>5/8/2014</td>\n",
       "      <td>3528</td>\n",
       "      <td>205.70</td>\n",
       "      <td>117.11</td>\n",
       "      <td>725709.60</td>\n",
       "      <td>413164.08</td>\n",
       "      <td>312545.52</td>\n",
       "    </tr>\n",
       "  </tbody>\n",
       "</table>\n",
       "<p>1000 rows × 14 columns</p>\n",
       "</div>"
      ],
      "text/plain": [
       "                           Region               Country   Item Type  \\\n",
       "0    Middle East and North Africa                 Libya   Cosmetics   \n",
       "1                   North America                Canada  Vegetables   \n",
       "2    Middle East and North Africa                 Libya   Baby Food   \n",
       "3                            Asia                 Japan      Cereal   \n",
       "4              Sub-Saharan Africa                  Chad      Fruits   \n",
       "..                            ...                   ...         ...   \n",
       "995  Middle East and North Africa            Azerbaijan      Snacks   \n",
       "996                        Europe               Georgia   Baby Food   \n",
       "997  Middle East and North Africa  United Arab Emirates  Vegetables   \n",
       "998                        Europe               Finland   Household   \n",
       "999                        Europe              Portugal      Cereal   \n",
       "\n",
       "    Sales Channel Order Priority  Order Date   Order ID   Ship Date  \\\n",
       "0         Offline              M  10/18/2014  686800706  10/31/2014   \n",
       "1          Online              M   11/7/2011  185941302   12/8/2011   \n",
       "2         Offline              C  10/31/2016  246222341   12/9/2016   \n",
       "3         Offline              C   4/10/2010  161442649   5/12/2010   \n",
       "4         Offline              H   8/16/2011  645713555   8/31/2011   \n",
       "..            ...            ...         ...        ...         ...   \n",
       "995       Offline              C   4/18/2010  534085166   4/25/2010   \n",
       "996       Offline              H    8/1/2011  590768182    9/7/2011   \n",
       "997        Online              C   5/12/2011  524363124   6/28/2011   \n",
       "998       Offline              L   1/25/2016  289606320   2/14/2016   \n",
       "999       Offline              C   4/10/2014  811546599    5/8/2014   \n",
       "\n",
       "     Units Sold  Unit Price  Unit Cost  Total Revenue  Total Cost  \\\n",
       "0          8446      437.20     263.33     3692591.20  2224085.18   \n",
       "1          3018      154.06      90.93      464953.08   274426.74   \n",
       "2          1517      255.28     159.42      387259.76   241840.14   \n",
       "3          3322      205.70     117.11      683335.40   389039.42   \n",
       "4          9845        9.33       6.92       91853.85    68127.40   \n",
       "..          ...         ...        ...            ...         ...   \n",
       "995        6524      152.58      97.44      995431.92   635698.56   \n",
       "996         288      255.28     159.42       73520.64    45912.96   \n",
       "997        9556      154.06      90.93     1472197.36   868927.08   \n",
       "998        9801      668.27     502.54     6549714.27  4925394.54   \n",
       "999        3528      205.70     117.11      725709.60   413164.08   \n",
       "\n",
       "     Total Profit  \n",
       "0      1468506.02  \n",
       "1       190526.34  \n",
       "2       145419.62  \n",
       "3       294295.98  \n",
       "4        23726.45  \n",
       "..            ...  \n",
       "995     359733.36  \n",
       "996      27607.68  \n",
       "997     603270.28  \n",
       "998    1624319.73  \n",
       "999     312545.52  \n",
       "\n",
       "[1000 rows x 14 columns]"
      ]
     },
     "execution_count": 8,
     "metadata": {},
     "output_type": "execute_result"
    }
   ],
   "source": [
    "df"
   ]
  },
  {
   "cell_type": "markdown",
   "id": "6d695071",
   "metadata": {},
   "source": [
    "## 2. Hãy hiển thị các thông số sau của tập dữ liệu:"
   ]
  },
  {
   "cell_type": "code",
   "execution_count": 19,
   "id": "a2f7dfe5",
   "metadata": {},
   "outputs": [
    {
     "data": {
      "text/html": [
       "<div>\n",
       "<style scoped>\n",
       "    .dataframe tbody tr th:only-of-type {\n",
       "        vertical-align: middle;\n",
       "    }\n",
       "\n",
       "    .dataframe tbody tr th {\n",
       "        vertical-align: top;\n",
       "    }\n",
       "\n",
       "    .dataframe thead th {\n",
       "        text-align: right;\n",
       "    }\n",
       "</style>\n",
       "<table border=\"1\" class=\"dataframe\">\n",
       "  <thead>\n",
       "    <tr style=\"text-align: right;\">\n",
       "      <th></th>\n",
       "      <th>Region</th>\n",
       "      <th>Country</th>\n",
       "      <th>Item Type</th>\n",
       "      <th>Sales Channel</th>\n",
       "      <th>Order Priority</th>\n",
       "      <th>Order Date</th>\n",
       "      <th>Order ID</th>\n",
       "      <th>Ship Date</th>\n",
       "      <th>Units Sold</th>\n",
       "      <th>Unit Price</th>\n",
       "      <th>Unit Cost</th>\n",
       "      <th>Total Revenue</th>\n",
       "      <th>Total Cost</th>\n",
       "      <th>Total Profit</th>\n",
       "    </tr>\n",
       "  </thead>\n",
       "  <tbody>\n",
       "    <tr>\n",
       "      <th>0</th>\n",
       "      <td>Middle East and North Africa</td>\n",
       "      <td>Libya</td>\n",
       "      <td>Cosmetics</td>\n",
       "      <td>Offline</td>\n",
       "      <td>M</td>\n",
       "      <td>10/18/2014</td>\n",
       "      <td>686800706</td>\n",
       "      <td>10/31/2014</td>\n",
       "      <td>8446</td>\n",
       "      <td>437.20</td>\n",
       "      <td>263.33</td>\n",
       "      <td>3692591.20</td>\n",
       "      <td>2224085.18</td>\n",
       "      <td>1468506.02</td>\n",
       "    </tr>\n",
       "    <tr>\n",
       "      <th>1</th>\n",
       "      <td>North America</td>\n",
       "      <td>Canada</td>\n",
       "      <td>Vegetables</td>\n",
       "      <td>Online</td>\n",
       "      <td>M</td>\n",
       "      <td>11/7/2011</td>\n",
       "      <td>185941302</td>\n",
       "      <td>12/8/2011</td>\n",
       "      <td>3018</td>\n",
       "      <td>154.06</td>\n",
       "      <td>90.93</td>\n",
       "      <td>464953.08</td>\n",
       "      <td>274426.74</td>\n",
       "      <td>190526.34</td>\n",
       "    </tr>\n",
       "    <tr>\n",
       "      <th>2</th>\n",
       "      <td>Middle East and North Africa</td>\n",
       "      <td>Libya</td>\n",
       "      <td>Baby Food</td>\n",
       "      <td>Offline</td>\n",
       "      <td>C</td>\n",
       "      <td>10/31/2016</td>\n",
       "      <td>246222341</td>\n",
       "      <td>12/9/2016</td>\n",
       "      <td>1517</td>\n",
       "      <td>255.28</td>\n",
       "      <td>159.42</td>\n",
       "      <td>387259.76</td>\n",
       "      <td>241840.14</td>\n",
       "      <td>145419.62</td>\n",
       "    </tr>\n",
       "    <tr>\n",
       "      <th>3</th>\n",
       "      <td>Asia</td>\n",
       "      <td>Japan</td>\n",
       "      <td>Cereal</td>\n",
       "      <td>Offline</td>\n",
       "      <td>C</td>\n",
       "      <td>4/10/2010</td>\n",
       "      <td>161442649</td>\n",
       "      <td>5/12/2010</td>\n",
       "      <td>3322</td>\n",
       "      <td>205.70</td>\n",
       "      <td>117.11</td>\n",
       "      <td>683335.40</td>\n",
       "      <td>389039.42</td>\n",
       "      <td>294295.98</td>\n",
       "    </tr>\n",
       "    <tr>\n",
       "      <th>4</th>\n",
       "      <td>Sub-Saharan Africa</td>\n",
       "      <td>Chad</td>\n",
       "      <td>Fruits</td>\n",
       "      <td>Offline</td>\n",
       "      <td>H</td>\n",
       "      <td>8/16/2011</td>\n",
       "      <td>645713555</td>\n",
       "      <td>8/31/2011</td>\n",
       "      <td>9845</td>\n",
       "      <td>9.33</td>\n",
       "      <td>6.92</td>\n",
       "      <td>91853.85</td>\n",
       "      <td>68127.40</td>\n",
       "      <td>23726.45</td>\n",
       "    </tr>\n",
       "    <tr>\n",
       "      <th>5</th>\n",
       "      <td>Europe</td>\n",
       "      <td>Armenia</td>\n",
       "      <td>Cereal</td>\n",
       "      <td>Online</td>\n",
       "      <td>H</td>\n",
       "      <td>11/24/2014</td>\n",
       "      <td>683458888</td>\n",
       "      <td>12/28/2014</td>\n",
       "      <td>9528</td>\n",
       "      <td>205.70</td>\n",
       "      <td>117.11</td>\n",
       "      <td>1959909.60</td>\n",
       "      <td>1115824.08</td>\n",
       "      <td>844085.52</td>\n",
       "    </tr>\n",
       "    <tr>\n",
       "      <th>6</th>\n",
       "      <td>Sub-Saharan Africa</td>\n",
       "      <td>Eritrea</td>\n",
       "      <td>Cereal</td>\n",
       "      <td>Online</td>\n",
       "      <td>H</td>\n",
       "      <td>3/4/2015</td>\n",
       "      <td>679414975</td>\n",
       "      <td>4/17/2015</td>\n",
       "      <td>2844</td>\n",
       "      <td>205.70</td>\n",
       "      <td>117.11</td>\n",
       "      <td>585010.80</td>\n",
       "      <td>333060.84</td>\n",
       "      <td>251949.96</td>\n",
       "    </tr>\n",
       "    <tr>\n",
       "      <th>7</th>\n",
       "      <td>Europe</td>\n",
       "      <td>Montenegro</td>\n",
       "      <td>Clothes</td>\n",
       "      <td>Offline</td>\n",
       "      <td>M</td>\n",
       "      <td>5/17/2012</td>\n",
       "      <td>208630645</td>\n",
       "      <td>6/28/2012</td>\n",
       "      <td>7299</td>\n",
       "      <td>109.28</td>\n",
       "      <td>35.84</td>\n",
       "      <td>797634.72</td>\n",
       "      <td>261596.16</td>\n",
       "      <td>536038.56</td>\n",
       "    </tr>\n",
       "    <tr>\n",
       "      <th>8</th>\n",
       "      <td>Central America and the Caribbean</td>\n",
       "      <td>Jamaica</td>\n",
       "      <td>Vegetables</td>\n",
       "      <td>Online</td>\n",
       "      <td>H</td>\n",
       "      <td>1/29/2015</td>\n",
       "      <td>266467225</td>\n",
       "      <td>3/7/2015</td>\n",
       "      <td>2428</td>\n",
       "      <td>154.06</td>\n",
       "      <td>90.93</td>\n",
       "      <td>374057.68</td>\n",
       "      <td>220778.04</td>\n",
       "      <td>153279.64</td>\n",
       "    </tr>\n",
       "    <tr>\n",
       "      <th>9</th>\n",
       "      <td>Australia and Oceania</td>\n",
       "      <td>Fiji</td>\n",
       "      <td>Vegetables</td>\n",
       "      <td>Offline</td>\n",
       "      <td>H</td>\n",
       "      <td>12/24/2013</td>\n",
       "      <td>118598544</td>\n",
       "      <td>1/19/2014</td>\n",
       "      <td>4800</td>\n",
       "      <td>154.06</td>\n",
       "      <td>90.93</td>\n",
       "      <td>739488.00</td>\n",
       "      <td>436464.00</td>\n",
       "      <td>303024.00</td>\n",
       "    </tr>\n",
       "  </tbody>\n",
       "</table>\n",
       "</div>"
      ],
      "text/plain": [
       "                              Region     Country   Item Type Sales Channel  \\\n",
       "0       Middle East and North Africa       Libya   Cosmetics       Offline   \n",
       "1                      North America      Canada  Vegetables        Online   \n",
       "2       Middle East and North Africa       Libya   Baby Food       Offline   \n",
       "3                               Asia       Japan      Cereal       Offline   \n",
       "4                 Sub-Saharan Africa        Chad      Fruits       Offline   \n",
       "5                             Europe     Armenia      Cereal        Online   \n",
       "6                 Sub-Saharan Africa     Eritrea      Cereal        Online   \n",
       "7                             Europe  Montenegro     Clothes       Offline   \n",
       "8  Central America and the Caribbean     Jamaica  Vegetables        Online   \n",
       "9              Australia and Oceania        Fiji  Vegetables       Offline   \n",
       "\n",
       "  Order Priority  Order Date   Order ID   Ship Date  Units Sold  Unit Price  \\\n",
       "0              M  10/18/2014  686800706  10/31/2014        8446      437.20   \n",
       "1              M   11/7/2011  185941302   12/8/2011        3018      154.06   \n",
       "2              C  10/31/2016  246222341   12/9/2016        1517      255.28   \n",
       "3              C   4/10/2010  161442649   5/12/2010        3322      205.70   \n",
       "4              H   8/16/2011  645713555   8/31/2011        9845        9.33   \n",
       "5              H  11/24/2014  683458888  12/28/2014        9528      205.70   \n",
       "6              H    3/4/2015  679414975   4/17/2015        2844      205.70   \n",
       "7              M   5/17/2012  208630645   6/28/2012        7299      109.28   \n",
       "8              H   1/29/2015  266467225    3/7/2015        2428      154.06   \n",
       "9              H  12/24/2013  118598544   1/19/2014        4800      154.06   \n",
       "\n",
       "   Unit Cost  Total Revenue  Total Cost  Total Profit  \n",
       "0     263.33     3692591.20  2224085.18    1468506.02  \n",
       "1      90.93      464953.08   274426.74     190526.34  \n",
       "2     159.42      387259.76   241840.14     145419.62  \n",
       "3     117.11      683335.40   389039.42     294295.98  \n",
       "4       6.92       91853.85    68127.40      23726.45  \n",
       "5     117.11     1959909.60  1115824.08     844085.52  \n",
       "6     117.11      585010.80   333060.84     251949.96  \n",
       "7      35.84      797634.72   261596.16     536038.56  \n",
       "8      90.93      374057.68   220778.04     153279.64  \n",
       "9      90.93      739488.00   436464.00     303024.00  "
      ]
     },
     "execution_count": 19,
     "metadata": {},
     "output_type": "execute_result"
    }
   ],
   "source": [
    "#2a Hiển thị 10 hàng đầu tiên của tập dữ liệu\n",
    "df.head(10)"
   ]
  },
  {
   "cell_type": "code",
   "execution_count": 13,
   "id": "0823ca79",
   "metadata": {},
   "outputs": [
    {
     "data": {
      "text/plain": [
       "(1000, 14)"
      ]
     },
     "execution_count": 13,
     "metadata": {},
     "output_type": "execute_result"
    }
   ],
   "source": [
    "#2b Hiển thị kích thước của tập dữ liệu\n",
    "df.shape"
   ]
  },
  {
   "cell_type": "code",
   "execution_count": 16,
   "id": "cb484318",
   "metadata": {},
   "outputs": [
    {
     "data": {
      "text/plain": [
       "Index(['Region', 'Country', 'Item Type', 'Sales Channel', 'Order Priority',\n",
       "       'Order Date', 'Order ID', 'Ship Date', 'Units Sold', 'Unit Price',\n",
       "       'Unit Cost', 'Total Revenue', 'Total Cost', 'Total Profit'],\n",
       "      dtype='object')"
      ]
     },
     "execution_count": 16,
     "metadata": {},
     "output_type": "execute_result"
    }
   ],
   "source": [
    "#2c Hiển thị danh sách các cột \n",
    "df.columns"
   ]
  },
  {
   "cell_type": "code",
   "execution_count": 18,
   "id": "6ad2962f",
   "metadata": {},
   "outputs": [
    {
     "data": {
      "text/plain": [
       "['Region',\n",
       " 'Country',\n",
       " 'Item Type',\n",
       " 'Sales Channel',\n",
       " 'Order Priority',\n",
       " 'Order Date',\n",
       " 'Order ID',\n",
       " 'Ship Date',\n",
       " 'Units Sold',\n",
       " 'Unit Price',\n",
       " 'Unit Cost',\n",
       " 'Total Revenue',\n",
       " 'Total Cost',\n",
       " 'Total Profit']"
      ]
     },
     "execution_count": 18,
     "metadata": {},
     "output_type": "execute_result"
    }
   ],
   "source": [
    "#chuyển cấu trúc Index của các columns về dạng list bằng hàm ép kiểu list()\n",
    "list(df.columns)"
   ]
  },
  {
   "cell_type": "markdown",
   "id": "5d50ed38",
   "metadata": {},
   "source": [
    "## 3. Trích rút dữ liệu:"
   ]
  },
  {
   "cell_type": "code",
   "execution_count": 23,
   "id": "533e9ab9",
   "metadata": {},
   "outputs": [
    {
     "data": {
      "text/plain": [
       "0     Libya\n",
       "1    Canada\n",
       "2     Libya\n",
       "3     Japan\n",
       "4      Chad\n",
       "Name: Country, dtype: object"
      ]
     },
     "execution_count": 23,
     "metadata": {},
     "output_type": "execute_result"
    }
   ],
   "source": [
    "#3a Trích rút cột dữ liệu (định tính)- Country của tập dữ liệu và \n",
    "#in ra màn hình 5 hàng đầu tien của cột này\n",
    "df.Country.head(5)"
   ]
  },
  {
   "cell_type": "code",
   "execution_count": 24,
   "id": "7311e631",
   "metadata": {},
   "outputs": [
    {
     "data": {
      "text/plain": [
       "0    2224085.18\n",
       "1     274426.74\n",
       "2     241840.14\n",
       "3     389039.42\n",
       "4      68127.40\n",
       "Name: Total Cost, dtype: float64"
      ]
     },
     "execution_count": 24,
     "metadata": {},
     "output_type": "execute_result"
    }
   ],
   "source": [
    "#3b Trích rút cột dữ liệu (định lượng)-Total Cost của tập dữ liệu và\n",
    "#in ra màn hình 5 hàng đầu tien của cột này\n",
    "df[\"Total Cost\"].head(5)"
   ]
  },
  {
   "cell_type": "markdown",
   "id": "404229d5",
   "metadata": {},
   "source": [
    "## 4. Phân tích thống kê mô tả với tập dữ liệu định lượng:"
   ]
  },
  {
   "cell_type": "code",
   "execution_count": 26,
   "id": "1305b517",
   "metadata": {},
   "outputs": [
    {
     "name": "stdout",
     "output_type": "stream",
     "text": [
      "<class 'pandas.core.frame.DataFrame'>\n",
      "RangeIndex: 1000 entries, 0 to 999\n",
      "Data columns (total 14 columns):\n",
      " #   Column          Non-Null Count  Dtype  \n",
      "---  ------          --------------  -----  \n",
      " 0   Region          1000 non-null   object \n",
      " 1   Country         1000 non-null   object \n",
      " 2   Item Type       1000 non-null   object \n",
      " 3   Sales Channel   1000 non-null   object \n",
      " 4   Order Priority  1000 non-null   object \n",
      " 5   Order Date      1000 non-null   object \n",
      " 6   Order ID        1000 non-null   int64  \n",
      " 7   Ship Date       1000 non-null   object \n",
      " 8   Units Sold      1000 non-null   int64  \n",
      " 9   Unit Price      1000 non-null   float64\n",
      " 10  Unit Cost       1000 non-null   float64\n",
      " 11  Total Revenue   1000 non-null   float64\n",
      " 12  Total Cost      1000 non-null   float64\n",
      " 13  Total Profit    1000 non-null   float64\n",
      "dtypes: float64(5), int64(2), object(7)\n",
      "memory usage: 109.5+ KB\n"
     ]
    }
   ],
   "source": [
    "#4a xác định dữ liệu\n",
    "df.info()"
   ]
  },
  {
   "cell_type": "code",
   "execution_count": 27,
   "id": "28c02d40",
   "metadata": {},
   "outputs": [
    {
     "data": {
      "text/plain": [
       "Units Sold          9998.00\n",
       "Unit Price           668.27\n",
       "Unit Cost            524.96\n",
       "Total Revenue    6617209.54\n",
       "Total Cost       5204978.40\n",
       "Total Profit     1726181.36\n",
       "dtype: float64"
      ]
     },
     "execution_count": 27,
     "metadata": {},
     "output_type": "execute_result"
    }
   ],
   "source": [
    "#(1) Số lớn nhất - max\n",
    "df.iloc[:,8:].max()"
   ]
  },
  {
   "cell_type": "code",
   "execution_count": 29,
   "id": "e40d8189",
   "metadata": {},
   "outputs": [
    {
     "data": {
      "text/plain": [
       "Units Sold         13.00\n",
       "Unit Price          9.33\n",
       "Unit Cost           6.92\n",
       "Total Revenue    2043.25\n",
       "Total Cost       1416.75\n",
       "Total Profit      532.61\n",
       "dtype: float64"
      ]
     },
     "execution_count": 29,
     "metadata": {},
     "output_type": "execute_result"
    }
   ],
   "source": [
    "#(2)Số nhỏ nhất - min\n",
    "df.iloc[:,8:].min()"
   ]
  },
  {
   "cell_type": "code",
   "execution_count": 31,
   "id": "6b9435a1",
   "metadata": {},
   "outputs": [
    {
     "data": {
      "text/plain": [
       "Units Sold       5.053988e+03\n",
       "Unit Price       2.621068e+02\n",
       "Unit Cost        1.849651e+02\n",
       "Total Revenue    1.327322e+06\n",
       "Total Cost       9.361192e+05\n",
       "Total Profit     3.912026e+05\n",
       "dtype: float64"
      ]
     },
     "execution_count": 31,
     "metadata": {},
     "output_type": "execute_result"
    }
   ],
   "source": [
    "#(3) Giá trị trung bình - mean\n",
    "df.iloc[:,8:].mean()"
   ]
  },
  {
   "cell_type": "code",
   "execution_count": 33,
   "id": "a32ae4bc",
   "metadata": {},
   "outputs": [
    {
     "data": {
      "text/plain": [
       "Units Sold         5184.000\n",
       "Unit Price          154.060\n",
       "Unit Cost            97.440\n",
       "Total Revenue    754939.180\n",
       "Total Cost       464726.065\n",
       "Total Profit     277225.980\n",
       "dtype: float64"
      ]
     },
     "execution_count": 33,
     "metadata": {},
     "output_type": "execute_result"
    }
   ],
   "source": [
    "#(4) Giá trị trung vị - median\n",
    "df.iloc[:,8:].median()"
   ]
  },
  {
   "cell_type": "code",
   "execution_count": 34,
   "id": "519d28af",
   "metadata": {},
   "outputs": [
    {
     "data": {
      "text/plain": [
       "Units Sold       8.417979e+06\n",
       "Unit Price       4.666510e+04\n",
       "Unit Cost        3.072634e+04\n",
       "Total Revenue    2.209726e+12\n",
       "Total Cost       1.351571e+12\n",
       "Total Profit     1.471798e+11\n",
       "dtype: float64"
      ]
     },
     "execution_count": 34,
     "metadata": {},
     "output_type": "execute_result"
    }
   ],
   "source": [
    "#(5)Phương sai - variance\n",
    "df.iloc[:,8:].var()"
   ]
  },
  {
   "cell_type": "code",
   "execution_count": 35,
   "id": "5a4bff45",
   "metadata": {
    "scrolled": true
   },
   "outputs": [
    {
     "data": {
      "text/plain": [
       "Units Sold       2.901375e+03\n",
       "Unit Price       2.160211e+02\n",
       "Unit Cost        1.752893e+02\n",
       "Total Revenue    1.486515e+06\n",
       "Total Cost       1.162571e+06\n",
       "Total Profit     3.836402e+05\n",
       "dtype: float64"
      ]
     },
     "execution_count": 35,
     "metadata": {},
     "output_type": "execute_result"
    }
   ],
   "source": [
    "#(6) Độ lệch chuẩn - standard deviation\n",
    "df.iloc[:,8:].std()"
   ]
  },
  {
   "cell_type": "code",
   "execution_count": 75,
   "id": "7eb07076",
   "metadata": {},
   "outputs": [
    {
     "data": {
      "text/html": [
       "<div>\n",
       "<style scoped>\n",
       "    .dataframe tbody tr th:only-of-type {\n",
       "        vertical-align: middle;\n",
       "    }\n",
       "\n",
       "    .dataframe tbody tr th {\n",
       "        vertical-align: top;\n",
       "    }\n",
       "\n",
       "    .dataframe thead th {\n",
       "        text-align: right;\n",
       "    }\n",
       "</style>\n",
       "<table border=\"1\" class=\"dataframe\">\n",
       "  <thead>\n",
       "    <tr style=\"text-align: right;\">\n",
       "      <th></th>\n",
       "      <th>Units Sold</th>\n",
       "      <th>Unit Price</th>\n",
       "      <th>Unit Cost</th>\n",
       "      <th>Total Revenue</th>\n",
       "      <th>Total Cost</th>\n",
       "      <th>Total Profit</th>\n",
       "    </tr>\n",
       "  </thead>\n",
       "  <tbody>\n",
       "    <tr>\n",
       "      <th>0.25</th>\n",
       "      <td>2420.25</td>\n",
       "      <td>81.73</td>\n",
       "      <td>56.67</td>\n",
       "      <td>281191.9</td>\n",
       "      <td>164931.875</td>\n",
       "      <td>98376.12</td>\n",
       "    </tr>\n",
       "  </tbody>\n",
       "</table>\n",
       "</div>"
      ],
      "text/plain": [
       "      Units Sold  Unit Price  Unit Cost  Total Revenue  Total Cost  \\\n",
       "0.25     2420.25       81.73      56.67       281191.9  164931.875   \n",
       "\n",
       "      Total Profit  \n",
       "0.25      98376.12  "
      ]
     },
     "execution_count": 75,
     "metadata": {},
     "output_type": "execute_result"
    }
   ],
   "source": [
    "#7 Tứ phân vị thứ nhất:\n",
    "df.iloc[:, 8:].quantile([0.25])"
   ]
  },
  {
   "cell_type": "code",
   "execution_count": 76,
   "id": "b54d62c3",
   "metadata": {},
   "outputs": [
    {
     "data": {
      "text/html": [
       "<div>\n",
       "<style scoped>\n",
       "    .dataframe tbody tr th:only-of-type {\n",
       "        vertical-align: middle;\n",
       "    }\n",
       "\n",
       "    .dataframe tbody tr th {\n",
       "        vertical-align: top;\n",
       "    }\n",
       "\n",
       "    .dataframe thead th {\n",
       "        text-align: right;\n",
       "    }\n",
       "</style>\n",
       "<table border=\"1\" class=\"dataframe\">\n",
       "  <thead>\n",
       "    <tr style=\"text-align: right;\">\n",
       "      <th></th>\n",
       "      <th>Units Sold</th>\n",
       "      <th>Unit Price</th>\n",
       "      <th>Unit Cost</th>\n",
       "      <th>Total Revenue</th>\n",
       "      <th>Total Cost</th>\n",
       "      <th>Total Profit</th>\n",
       "    </tr>\n",
       "  </thead>\n",
       "  <tbody>\n",
       "    <tr>\n",
       "      <th>0.75</th>\n",
       "      <td>7536.75</td>\n",
       "      <td>421.89</td>\n",
       "      <td>263.33</td>\n",
       "      <td>1733502.75</td>\n",
       "      <td>1141750.09</td>\n",
       "      <td>548456.835</td>\n",
       "    </tr>\n",
       "  </tbody>\n",
       "</table>\n",
       "</div>"
      ],
      "text/plain": [
       "      Units Sold  Unit Price  Unit Cost  Total Revenue  Total Cost  \\\n",
       "0.75     7536.75      421.89     263.33     1733502.75  1141750.09   \n",
       "\n",
       "      Total Profit  \n",
       "0.75    548456.835  "
      ]
     },
     "execution_count": 76,
     "metadata": {},
     "output_type": "execute_result"
    }
   ],
   "source": [
    "#7 Tứ phân vị thứ ba:\n",
    "df.iloc[:,8:].quantile([0.75])"
   ]
  },
  {
   "cell_type": "code",
   "execution_count": 65,
   "id": "d8b235b1",
   "metadata": {},
   "outputs": [],
   "source": [
    "import matplotlib.pyplot as plt"
   ]
  },
  {
   "cell_type": "code",
   "execution_count": 69,
   "id": "94bd98a8",
   "metadata": {},
   "outputs": [
    {
     "data": {
      "image/png": "[encoded data removed]",
      "text/plain": [
       "<Figure size 1080x720 with 6 Axes>"
      ]
     },
     "metadata": {
      "needs_background": "light"
     },
     "output_type": "display_data"
    }
   ],
   "source": [
    "#4b vẽ biểu đồ boxplot cho tập dữ liệu định lượng\n",
    "fig,((ax1,ax2),(ax3,ax4),(ax5, ax6)) = plt.subplots(nrows = 3,ncols = 2,figsize = (15,10))\n",
    "ax1.boxplot(df[\"Units Sold\"]);\n",
    "ax1.set(title = \"Units Sold\");\n",
    "ax2.boxplot(df[\"Unit Price\"]);\n",
    "ax2.set(title = \"Unit Price\");\n",
    "ax3.boxplot(df[\"Unit Cost\"]);\n",
    "ax3.set(title = \"Unit Cost\");\n",
    "ax4.boxplot(df[\"Total Revenue\"]);\n",
    "ax4.set(title = \"Total Revenue\");\n",
    "ax5.boxplot(df[\"Total Cost\"]);\n",
    "ax5.set(title = \"Total Cost\");\n",
    "ax6.boxplot(df[\"Total Profit\"]);\n",
    "ax6.set(title = \"Total Profit\");"
   ]
  },
  {
   "cell_type": "code",
   "execution_count": 79,
   "id": "01dd4cc4",
   "metadata": {},
   "outputs": [
    {
     "data": {
      "image/png": "[encoded data removed]",
      "text/plain": [
       "<Figure size 1080x720 with 6 Axes>"
      ]
     },
     "metadata": {
      "needs_background": "light"
     },
     "output_type": "display_data"
    }
   ],
   "source": [
    "#4c vẽ biểu đồ histogram (với bins = 100) cho tập dữ liệu này.\n",
    "fig,((ax1,ax2), (ax3,ax4), (ax5, ax6)) = plt.subplots(nrows = 3,ncols = 2,figsize = (15,10))\n",
    "ax1.hist(df[\"Units Sold\"], bins = 100);\n",
    "ax1.set(title = \"Units Sold\");\n",
    "ax2.hist(df[\"Unit Price\"], bins = 100);\n",
    "ax2.set(title = \"Unit Price\");\n",
    "ax3.hist(df[\"Unit Cost\"], bins = 100);\n",
    "ax3.set(title = \"Unit Cost\");\n",
    "ax4.hist(df[\"Total Revenue\"], bins = 100);\n",
    "ax4.set(title = \"Total Revenue\");\n",
    "ax5.hist(df[\"Total Cost\"], bins = 100);\n",
    "ax5.set(title = \"Total Cost\");\n",
    "ax6.hist(df[\"Total Profit\"], bins = 100);\n",
    "ax6.set(title = \"Total Profit\");"
   ]
  },
  {
   "cell_type": "markdown",
   "id": "11b6f734",
   "metadata": {},
   "source": [
    "## 5. Phân tích thống kê mô tả với tập dữ liệu định tính:"
   ]
  },
  {
   "cell_type": "code",
   "execution_count": 88,
   "id": "37bf6a76",
   "metadata": {},
   "outputs": [
    {
     "data": {
      "image/png": "[encoded data removed]",
      "text/plain": [
       "<Figure size 2160x1440 with 8 Axes>"
      ]
     },
     "metadata": {
      "needs_background": "light"
     },
     "output_type": "display_data"
    }
   ],
   "source": [
    "#5a. Vẽ biểu đồ barplot cho tập dữ liệu \n",
    "fig,((ax1,ax2), (ax3,ax4), (ax5, ax6), (ax7, ax8)) = plt.subplots(nrows = 4,ncols = 2,figsize = (30,20))\n",
    "ax1.bar(dict(df[\"Region\"].value_counts()).keys(), dict(df[\"Region\"].value_counts()).values());\n",
    "ax1.set(title = \"Region\");\n",
    "ax2.bar(dict(df[\"Country\"].value_counts()).keys(), dict(df[\"Country\"].value_counts()).values());\n",
    "ax2.set(title = \"Country\");\n",
    "ax3.bar(dict(df[\"Item Type\"].value_counts()).keys(), dict(df[\"Item Type\"].value_counts()).values());\n",
    "ax3.set(title = \"Item Type\");\n",
    "ax4.bar(dict(df[\"Sales Channel\"].value_counts()).keys(), dict(df[\"Sales Channel\"].value_counts()).values());\n",
    "ax4.set(title = \"Sales Channel\");\n",
    "ax5.bar(dict(df[\"Order Priority\"].value_counts()).keys(), dict(df[\"Order Priority\"].value_counts()).values());\n",
    "ax5.set(title = \"Order Priority\");\n",
    "ax6.bar(dict(df[\"Order Date\"].value_counts()).keys(), dict(df[\"Order Date\"].value_counts()).values());\n",
    "ax6.set(title = \"Order Date\");\n",
    "ax7.bar(dict(df[\"Order ID\"].value_counts()).keys(), dict(df[\"Order ID\"].value_counts()).values());\n",
    "ax7.set(title = \"Order ID\");\n",
    "ax8.bar(dict(df[\"Ship Date\"].value_counts()).keys(), dict(df[\"Ship Date\"].value_counts()).values());\n",
    "ax8.set(title = \"Ship Date\");"
   ]
  },
  {
   "cell_type": "code",
   "execution_count": 82,
   "id": "f8781a42",
   "metadata": {},
   "outputs": [
    {
     "data": {
      "image/png": "[encoded data removed]",
      "text/plain": [
       "<Figure size 2160x1440 with 8 Axes>"
      ]
     },
     "metadata": {
      "needs_background": "light"
     },
     "output_type": "display_data"
    }
   ],
   "source": [
    "#5b.Vẽ biểu đồ barplot cho 15 hàng dữ liệu đầu tiên của tập dữ liệu \n",
    "fig, ((ax1,ax2), (ax3,ax4), (ax5, ax6), (ax7, ax8)) = plt.subplots(nrows = 4,ncols = 2,figsize = (30,20))\n",
    "ax1.bar(dict(df.iloc[:15,:][\"Region\"].value_counts()).keys(), dict(df.iloc[:15, :8][\"Region\"].value_counts()).values());\n",
    "ax1.set(title = \"Region\");\n",
    "ax2.bar(dict(df.iloc[:15,:][\"Country\"].value_counts()).keys(), dict(df.iloc[:15, :8][\"Country\"].value_counts()).values());\n",
    "ax2.set(title = \"Country\");\n",
    "ax3.bar(dict(df.iloc[:15,:][\"Item Type\"].value_counts()).keys(), dict(df.iloc[:15, :8][\"Item Type\"].value_counts()).values());\n",
    "ax3.set(title = \"Item Type\");\n",
    "ax4.bar(dict(df.iloc[:15,:][\"Sales Channel\"].value_counts()).keys(), dict(df.iloc[:15, :8][\"Sales Channel\"].value_counts()).values());\n",
    "ax4.set(title = \"Sales Channel\");\n",
    "ax5.bar(dict(df.iloc[:15,:][\"Order Priority\"].value_counts()).keys(), dict(df.iloc[:15, :8][\"Order Priority\"].value_counts()).values());\n",
    "ax5.set(title = \"Order Priority\");\n",
    "ax6.bar(dict(df.iloc[:15,:][\"Order Date\"].value_counts()).keys(), dict(df.iloc[:15, :8][\"Order Date\"].value_counts()).values());\n",
    "ax6.set(title = \"Order Date\");\n",
    "ax7.bar(dict(df.iloc[:15,:][\"Order ID\"].value_counts()).keys(), dict(df.iloc[:15, :8][\"Order ID\"].value_counts()).values());\n",
    "ax7.set(title = \"Order ID\");\n",
    "ax8.bar(dict(df.iloc[:15,:][\"Ship Date\"].value_counts()).keys(), dict(df.iloc[:15, :8][\"Ship Date\"].value_counts()).values());\n",
    "ax8.set(title = \"Ship Date\");"
   ]
  }
 ],
 "metadata": {
  "kernelspec": {
   "display_name": "Python 3",
   "language": "python",
   "name": "python3"
  },
  "language_info": {
   "codemirror_mode": {
    "name": "ipython",
    "version": 3
   },
   "file_extension": ".py",
   "mimetype": "text/x-python",
   "name": "python",
   "nbconvert_exporter": "python",
   "pygments_lexer": "ipython3",
   "version": "3.8.8"
  }
 },
 "nbformat": 4,
 "nbformat_minor": 5
}
