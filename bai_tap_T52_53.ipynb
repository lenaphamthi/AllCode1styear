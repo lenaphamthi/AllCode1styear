{
  "nbformat": 4,
  "nbformat_minor": 0,
  "metadata": {
    "colab": {
      "name": "bai tap T52-53.ipynb",
      "provenance": [],
      "authorship_tag": "ABX9TyMFKyTMQfkphPmcDrws8fE+",
      "include_colab_link": true
    },
    "kernelspec": {
      "name": "python3",
      "display_name": "Python 3"
    },
    "language_info": {
      "name": "python"
    }
  },
  "cells": [
    {
      "cell_type": "markdown",
      "metadata": {
        "id": "view-in-github",
        "colab_type": "text"
      },
      "source": [
        "<a href=\"https://colab.research.google.com/github/lenaphamthi/github_colab/blob/master/bai_tap_T52_53.ipynb\" target=\"_parent\"><img src=\"https://colab.research.google.com/assets/colab-badge.svg\" alt=\"Open In Colab\"/></a>"
      ]
    },
    {
      "cell_type": "code",
      "metadata": {
        "id": "Pwc7BlHLfHrv"
      },
      "source": [
        "trang 52"
      ],
      "execution_count": null,
      "outputs": []
    },
    {
      "cell_type": "code",
      "metadata": {
        "colab": {
          "base_uri": "https://localhost:8080/"
        },
        "id": "7b-C5y4shewQ",
        "outputId": "3e2d58b3-d44c-4487-d2f7-1f8bc0dcd4d5"
      },
      "source": [
        "# Nhập loanAmount:\n",
        "x = loanAmount = float(input(\"Nhập x: \"))\n",
        "# Nhập monthlyInterestRate:\n",
        "y = monthlyInterestRate = float(input(\"Nhập y: \"))\n",
        "# Nhập numberofYears\n",
        "z = numberofYears = float(input(\"Nhập z: \"))\n",
        "# Tính monthlyPayment:\n",
        "monthlyPayment = (x*y)/(1-1/(pow(1+y,z*12)))\n",
        "# In ra kết quả monthlyPayment:\n",
        "print(\"Kết quả monthlyPayment là:\" , (monthlyPayment))\n"
      ],
      "execution_count": 21,
      "outputs": [
        {
          "output_type": "stream",
          "name": "stdout",
          "text": [
            "Nhập x: 2\n",
            "Nhập y: 3\n",
            "Nhập z: 2\n",
            "Kết quả monthlyPayment là: 6.000000000000021\n"
          ]
        }
      ]
    },
    {
      "cell_type": "code",
      "metadata": {
        "id": "BH6lUNfOi-Cg"
      },
      "source": [
        "trang 53"
      ],
      "execution_count": null,
      "outputs": []
    },
    {
      "cell_type": "code",
      "metadata": {
        "colab": {
          "base_uri": "https://localhost:8080/"
        },
        "id": "4UuQpIrRjBFP",
        "outputId": "cc78db47-ed4c-47f1-e861-9f681cd67fe9"
      },
      "source": [
        "import math\n",
        "#toa độ điểm N(x1,y1)\n",
        "x1 = float(input(\"Nhập tọa độ x1: \"))\n",
        "y1 = float(input(\"Nhập tọa độ y1: \"))\n",
        "#tọa độ điểm A(x2,y2) \n",
        "x2 = float(input(\"Nhập tọa độ x2: \"))\n",
        "y2 = float(input(\"Nhập tọa độ y2: \"))\n",
        "#tính khoảng cách giữa 2 diểm N,A:\n",
        "khoangcach = math.sqrt((x2 - x1)**2 + (y2 - y1)**2)\n",
        "print(\"khoang cach giua 2 diem la :\", khoangcach)"
      ],
      "execution_count": 28,
      "outputs": [
        {
          "output_type": "stream",
          "name": "stdout",
          "text": [
            "Nhập tọa độ x1: 2\n",
            "Nhập tọa độ y1: 4\n",
            "Nhập tọa độ x2: 5\n",
            "Nhập tọa độ y2: 2\n",
            "khoang cach giua 2 diem la : 3.605551275463989\n"
          ]
        }
      ]
    }
  ]
}