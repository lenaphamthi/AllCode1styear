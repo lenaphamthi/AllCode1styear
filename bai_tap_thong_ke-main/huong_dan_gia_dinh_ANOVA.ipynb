{
  "cells": [
    {
      "cell_type": "markdown",
      "metadata": {
        "id": "view-in-github",
        "colab_type": "text"
      },
      "source": [
        "<a href=\"https://colab.research.google.com/github/lenaphamthi/bai_tap_thong_ke/blob/main/huong_dan_gia_dinh_ANOVA.ipynb\" target=\"_parent\"><img src=\"https://colab.research.google.com/assets/colab-badge.svg\" alt=\"Open In Colab\"/></a>"
      ]
    },
    {
      "cell_type": "markdown",
      "metadata": {
        "id": "iI5KwXxohLgx"
      },
      "source": [
        "PHÂN TÍCH ANOVA MỘT CHIỀU\n",
        "\n",
        "Phân tích ANOVA chấp nhận các giả định sau:\n",
        "\n",
        "(1) Tất cả các nhóm đều độc lập với nhau\n",
        "\n",
        "(2) Dữ liệu của mỗi nhóm đều tuân theo phân phối chuẩn. Tính chất này có thể được kiểm định bằng phương pháp Shapiro-Wilks.\n",
        "\n",
        "(3) Phương sai (variance) của các nhóm bằng nhau. Tính chất này có thể được kiểm định bằng phương pháp kiểm định Bartlett hay Levene.\n",
        "\n",
        "Nếu dữ liệu hiện có thỏa mãn các tính chất trên thì chúng ta mới tiến hành kiểm định ANOVA. Do vậy trước khi tiến hành kiểm định ANOVA, chúng ta cần thực hiện kiểm tra tập dữ liệu cần thỏa mãn 3 tính chất trên.\n",
        "    "
      ]
    },
    {
      "cell_type": "code",
      "source": [
        "import numpy as np\n",
        "import pandas as pd\n",
        "import scipy.stats as st\n"
      ],
      "metadata": {
        "id": "OFGFWRHMjKDA"
      },
      "execution_count": 11,
      "outputs": []
    },
    {
      "cell_type": "code",
      "execution_count": 2,
      "metadata": {
        "id": "Tu2sS5njhLg2"
      },
      "outputs": [],
      "source": [
        "#Bước 1: Hãy tạo một tập dữ liệu mẫu sample_1 với kích thước 100 tuân theo phân phối chuẩn\n",
        "sample_1 = np.random.normal(size=100)"
      ]
    },
    {
      "cell_type": "code",
      "execution_count": 3,
      "metadata": {
        "id": "svZfvCPihLg5"
      },
      "outputs": [],
      "source": [
        "#Bước 2: hãy tạo tập dữ liệu mẫu sample_2 với kích thước 100 tuân theo phân phối Poisson\n",
        "sample_2 = np.random.poisson(size=100)"
      ]
    },
    {
      "cell_type": "markdown",
      "metadata": {
        "id": "INknMPGzhLg6"
      },
      "source": [
        "Hãy tham khảo các hướng dẫn sau để kiểm định tính chất thứ 2 bằng phương pháp Shapiro-Wilks đối với sample_1 và sample_2\n",
        "\n",
        "(1) [Tài liệu tham khảo scipy](https://docs.scipy.org/doc/scipy/reference/generated/scipy.stats.shapiro.html)\n",
        "\n",
        "(2) [Hướng dẫn cụ thể của statology](https://www.statology.org/shapiro-wilk-test-python/)"
      ]
    },
    {
      "cell_type": "markdown",
      "source": [
        "Phát biểu giả thuyết \n",
        "- Mẫu thứ nhất\n",
        "\n",
        "Giả thuyết null : \n",
        "$$H_{0}: \\text{Mẫu thứ nhất lấy từ phân phối chuẩn} $$\n",
        "Giả thuyết thay thế:\n",
        "$$H_{a}:\\text{Mẫu thứ nhất không lấy từ phân phối chuẩn} $$"
      ],
      "metadata": {
        "id": "9dj8AB0-kBSW"
      }
    },
    {
      "cell_type": "markdown",
      "source": [
        "Phát biểu giả thuyết \n",
        "- Mẫu thứ hai \n",
        "Giả thuyết null : \n",
        "$$H_{0}: \\text{Mẫu thứ hai lấy từ phân phối chuẩn} $$\n",
        "Giả thuyết thay thế:\n",
        "$$H_{a}:\\text{Mẫu thứ hai không lấy từ phân phối chuẩn} $$"
      ],
      "metadata": {
        "id": "S7NpdsaMloMh"
      }
    },
    {
      "cell_type": "code",
      "execution_count": 21,
      "metadata": {
        "id": "e8qj4fThhLg7",
        "colab": {
          "base_uri": "https://localhost:8080/"
        },
        "outputId": "29bd513c-cb58-4d67-9294-95c8a18ed9dd"
      },
      "outputs": [
        {
          "output_type": "stream",
          "name": "stdout",
          "text": [
            "p_value: 0.6734142899513245\n",
            "Không có bằng chứng bác bỏ giả thuyết H0\n"
          ]
        }
      ],
      "source": [
        "#Code kiểm định tính chất thứ 2 của sample_1 và sample_2\n",
        "stats, pvalue = st.shapiro(sample_1)\n",
        "print(\"p_value:\",pvalue)\n",
        "if pvalue < 0.05:\n",
        "  print(\"Có bằng chứng bác bỏ giả thuyết H0\")\n",
        "else:\n",
        "  print(\"Không có bằng chứng bác bỏ giả thuyết H0\")"
      ]
    },
    {
      "cell_type": "code",
      "source": [
        "#Code kiểm định tính chất thứ 2 của sample_2 \n",
        "stats, pvalue = st.shapiro(sample_2)\n",
        "print(\"p_value:\",pvalue)\n",
        "if pvalue < 0.05:\n",
        "  print(\"Có bằng chứng bác bỏ giả thuyết H0\")\n",
        "else:\n",
        "  print(\"Không có bằng chứng bác bỏ giả thuyết H0\")"
      ],
      "metadata": {
        "colab": {
          "base_uri": "https://localhost:8080/"
        },
        "id": "lEs18hpLnL3w",
        "outputId": "6cb075cd-6fbc-4fd9-8b00-935e24a12cdf"
      },
      "execution_count": 20,
      "outputs": [
        {
          "output_type": "stream",
          "name": "stdout",
          "text": [
            "p_value: 8.264779971511871e-10\n",
            "Có bằng chứng bác bỏ giả thuyết H0\n"
          ]
        }
      ]
    },
    {
      "cell_type": "markdown",
      "metadata": {
        "id": "Wez_8uzChLg8"
      },
      "source": [
        "Hãy tham khảo các hướng dẫn sau để kiểm định tính chất thứ 3 bằng kiểm định Bartlett hoặc kiểm định Levene\n",
        "\n",
        "(1) [Hướng dẫn tổng quát](https://www.marsja.se/levenes-bartletts-test-of-equality-homogeneity-of-variance-in-python/)\n",
        "\n",
        "(2) [Hướng dẫn ở stackoverflow](https://stackoverflow.com/questions/36141254/how-to-test-for-homoscedasticity-having-the-same-population-variance-in-python)\n",
        "\n",
        "(3) Sử dụng bài giảng về kiểm định Bartlett và Levene ở buổi trước"
      ]
    },
    {
      "cell_type": "markdown",
      "source": [
        "Phát biểu giả thuyết \n",
        "\n",
        "Giả thuyết null :Phương sai của các nhóm không khác nhau\n",
        "$$H_{0}: \\text{ μ 1 = μ 2 = μ 3 =... = μ k} $$\n",
        "Giả thuyết thay thế:Phương sai của các nhóm khác nhau\n",
        "$$H_{a}:\\text{ μ 1 ≠ μ 2 ≠ μ 3 ≠... ≠ μ k} $$"
      ],
      "metadata": {
        "id": "Z3suA-A0n1vm"
      }
    },
    {
      "cell_type": "code",
      "execution_count": 28,
      "metadata": {
        "id": "YCwCEfL3hLg-",
        "colab": {
          "base_uri": "https://localhost:8080/"
        },
        "outputId": "d3a46599-10ce-4db1-bbe8-753a017536cc"
      },
      "outputs": [
        {
          "output_type": "stream",
          "name": "stdout",
          "text": [
            "p_value: 0.32830031054984377\n",
            "Không có bằng chứng bác bỏ giả thuyết H0\n"
          ]
        }
      ],
      "source": [
        "#Code kiểm định tính đồng nhất về phương sai của các nhóm\n",
        "stat, pvalue = st.levene(sample_1, sample_2)\n",
        "print(\"p_value:\",pvalue)\n",
        "if pvalue < 0.05:\n",
        "  print(\"Có bằng chứng bác bỏ giả thuyết H0\")\n",
        "else:\n",
        "  print(\"Không có bằng chứng bác bỏ giả thuyết H0\")"
      ]
    }
  ],
  "metadata": {
    "kernelspec": {
      "display_name": "Python 3",
      "language": "python",
      "name": "python3"
    },
    "language_info": {
      "codemirror_mode": {
        "name": "ipython",
        "version": 3
      },
      "file_extension": ".py",
      "mimetype": "text/x-python",
      "name": "python",
      "nbconvert_exporter": "python",
      "pygments_lexer": "ipython3",
      "version": "3.7.3"
    },
    "colab": {
      "name": "huong_dan_gia_dinh_ANOVA.ipynb",
      "provenance": [],
      "include_colab_link": true
    }
  },
  "nbformat": 4,
  "nbformat_minor": 0
}
