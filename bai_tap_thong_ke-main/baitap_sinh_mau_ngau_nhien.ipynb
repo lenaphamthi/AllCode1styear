{
  "nbformat": 4,
  "nbformat_minor": 0,
  "metadata": {
    "colab": {
      "name": "baitap_sinh_mau_ngau_nhien.ipynb",
      "provenance": [],
      "authorship_tag": "ABX9TyNBd676Yu9byzCvWf25Kguo",
      "include_colab_link": true
    },
    "kernelspec": {
      "name": "python3",
      "display_name": "Python 3"
    },
    "language_info": {
      "name": "python"
    }
  },
  "cells": [
    {
      "cell_type": "markdown",
      "metadata": {
        "id": "view-in-github",
        "colab_type": "text"
      },
      "source": [
        "<a href=\"https://colab.research.google.com/github/lenaphamthi/bai_tap_thong_ke/blob/main/baitap_sinh_mau_ngau_nhien.ipynb\" target=\"_parent\"><img src=\"https://colab.research.google.com/assets/colab-badge.svg\" alt=\"Open In Colab\"/></a>"
      ]
    },
    {
      "cell_type": "code",
      "source": [
        "import numpy as np\n",
        "from scipy import stats"
      ],
      "metadata": {
        "id": "OF6rbH0LnQ2U"
      },
      "execution_count": 26,
      "outputs": []
    },
    {
      "cell_type": "markdown",
      "source": [
        "Sử dụng thư viện Numpy\n",
        "\n",
        "1. Sinh mẫu ngẫu nhiên bằng hàm arange trong khoảng [-15, 27] với khoảng cách là 0.7 và in kết quả ra màn hình"
      ],
      "metadata": {
        "id": "oGCJCnOInFOv"
      }
    },
    {
      "cell_type": "code",
      "execution_count": 16,
      "metadata": {
        "colab": {
          "base_uri": "https://localhost:8080/"
        },
        "id": "bo9boNMFm6KK",
        "outputId": "8726209e-8c3c-4110-e451-e35fd5ca6b97"
      },
      "outputs": [
        {
          "output_type": "stream",
          "name": "stdout",
          "text": [
            "[-15.  -14.3 -13.6 -12.9 -12.2 -11.5 -10.8 -10.1  -9.4  -8.7  -8.   -7.3\n",
            "  -6.6  -5.9  -5.2  -4.5  -3.8  -3.1  -2.4  -1.7  -1.   -0.3   0.4   1.1\n",
            "   1.8   2.5   3.2   3.9   4.6   5.3   6.    6.7   7.4   8.1   8.8   9.5\n",
            "  10.2  10.9  11.6  12.3  13.   13.7  14.4  15.1  15.8  16.5  17.2  17.9\n",
            "  18.6  19.3  20.   20.7  21.4  22.1  22.8  23.5  24.2  24.9  25.6  26.3\n",
            "  27. ]\n"
          ]
        }
      ],
      "source": [
        "samples_1= np.arange(-15,27,0.7)\n",
        "print(samples_1)"
      ]
    },
    {
      "cell_type": "markdown",
      "source": [
        "2. Sinh mẫu ngẫu nhiên theo phân phối chuẩn với mean = 2.7 std = 1.2 và size = 40\n",
        "In kết quả ra màn hình"
      ],
      "metadata": {
        "id": "rbDV_9d3oaOR"
      }
    },
    {
      "cell_type": "code",
      "source": [
        "mean = 2.7\n",
        "std = 1.2\n",
        "size = 40 \n",
        "sample_2 = np.random.normal(mean,std,size)\n",
        "print(sample_2)"
      ],
      "metadata": {
        "colab": {
          "base_uri": "https://localhost:8080/"
        },
        "id": "xAnV0flinA6C",
        "outputId": "2af95f0d-795f-418f-da40-f4c687d45cfd"
      },
      "execution_count": 14,
      "outputs": [
        {
          "output_type": "stream",
          "name": "stdout",
          "text": [
            "[1.01764828 2.0620938  1.86447163 3.76661571 3.7694548  0.82487274\n",
            " 3.02603411 4.17535939 2.77095743 0.89932433 3.69070664 1.92843348\n",
            " 1.79642219 4.00733005 3.56769188 0.52099748 1.18603553 1.73406977\n",
            " 3.06972583 2.86555718 0.78004644 5.01489356 1.14941618 0.98259146\n",
            " 0.96192044 0.94707186 4.57843115 2.37762507 2.74518286 0.20047475\n",
            " 1.99617858 3.63513933 4.11868818 2.77843407 0.35970381 6.00124628\n",
            " 1.9214256  1.90100872 1.39248433 3.38764814]\n"
          ]
        }
      ]
    },
    {
      "cell_type": "markdown",
      "source": [
        "3. Sinh mẫu ngẫu nhiên từ vector ['Viet Nam', 'Britain', 'France', 'Russia', 'Singapore'] với kích thước là 17 theo phân phối chuẩn"
      ],
      "metadata": {
        "id": "ROJYNto1o6Lr"
      }
    },
    {
      "cell_type": "code",
      "source": [
        "#vector ['Viet Nam', 'Britain', 'France', 'Russia', 'Singapore'] với kích thước là 17 theo phân phối chuẩn\n",
        "sample_3 = np.random.choice(['Viet Nam', 'Britain', 'France', 'Russia', 'Singapore'],17) \n",
        "print(sample_3)"
      ],
      "metadata": {
        "colab": {
          "base_uri": "https://localhost:8080/"
        },
        "id": "PmBlpVmYpDY7",
        "outputId": "3810d166-1de2-427c-c78a-9cc91f3e85a0"
      },
      "execution_count": 17,
      "outputs": [
        {
          "output_type": "stream",
          "name": "stdout",
          "text": [
            "['Singapore' 'Singapore' 'France' 'Russia' 'Singapore' 'Russia' 'Russia'\n",
            " 'Britain' 'Britain' 'Viet Nam' 'France' 'Singapore' 'France' 'Viet Nam'\n",
            " 'Russia' 'Russia' 'France']\n"
          ]
        }
      ]
    },
    {
      "cell_type": "markdown",
      "source": [
        "4. Sinh mẫu ngẫu nhiên ở câu 3 nhưng không theo phân phối chuẩn mà theo 1 vector đặc tả giá trị xác suất do bạn chọn"
      ],
      "metadata": {
        "id": "3hcYRZUcoufd"
      }
    },
    {
      "cell_type": "code",
      "source": [
        "#theo 1 vector đặc tả giá trị xác suất do bạn chọn\n",
        "samples_4 = np.random.choice(['Viet Nam', 'Britain', 'France', 'Russia', 'Singapore'],6,p = [0.2, 0.3, 0.2, 0.2,0.1])\n",
        "print(samples_4)"
      ],
      "metadata": {
        "colab": {
          "base_uri": "https://localhost:8080/"
        },
        "id": "YczmH5iMpovm",
        "outputId": "5546aea6-a51d-469c-9c96-b7d228ae66da"
      },
      "execution_count": 25,
      "outputs": [
        {
          "output_type": "stream",
          "name": "stdout",
          "text": [
            "['Viet Nam' 'France' 'Russia' 'France' 'Singapore' 'Viet Nam']\n"
          ]
        }
      ]
    },
    {
      "cell_type": "markdown",
      "source": [
        "Sử dụng thư việc scipy.stats để sinh mẫu ngẫu nhiên\n",
        "\n",
        "1. Sinh mẫu ngẫu nhiên theo phân phối chuẩn với mean = 12.7, std = 2.6 và size = 30. In kết quả ra màn hình"
      ],
      "metadata": {
        "id": "bTda3rQ8rDOq"
      }
    },
    {
      "cell_type": "code",
      "source": [
        "#Sinh mẫu ngẫu nhiên theo phân phối chuẩn với mean = 12.7, std = 2.6 và size = 30.\n",
        "sample_5 =  stats.norm.rvs(loc = 12.7, scale = 2.6, size = 30)\n",
        "print(sample_5)"
      ],
      "metadata": {
        "colab": {
          "base_uri": "https://localhost:8080/"
        },
        "id": "PO5MboxNrGAH",
        "outputId": "a9a5810d-be09-4ef1-dd29-66b21389eca5"
      },
      "execution_count": 28,
      "outputs": [
        {
          "output_type": "stream",
          "name": "stdout",
          "text": [
            "[13.81157654 13.19813428  7.30217921 16.14307403  9.92101801 12.01060457\n",
            " 17.67808202 10.81426121 14.53905212 10.64004127 14.7972703  11.07476965\n",
            " 12.01584549 11.04661044  6.67894694  7.92586198 11.21042735 12.23559611\n",
            " 13.68745584 14.70674998 15.56405212 11.55181388  9.14841398 12.857617\n",
            " 17.14063613 17.67143824 13.79866368 17.80611535 10.4096479  15.41509414]\n"
          ]
        }
      ]
    },
    {
      "cell_type": "markdown",
      "source": [
        "2. Hãy sinh một mẫu ngẫu nhiên theo phân phối Poisson"
      ],
      "metadata": {
        "id": "N3ND3CERrZRs"
      }
    },
    {
      "cell_type": "code",
      "source": [
        "#Sinh ngẫu nhiên dữ liệu theo phân phối Poisson\n",
        "sample_6 = stats.poisson.rvs(loc=12,mu=20,size=100)\n",
        "#in ra 10 giá trị đầu \n",
        "print(sample_6[:10])"
      ],
      "metadata": {
        "colab": {
          "base_uri": "https://localhost:8080/"
        },
        "id": "y8qtdPrrrcya",
        "outputId": "56d325a7-f8ff-4cf5-94cd-8535e824d4d8"
      },
      "execution_count": 31,
      "outputs": [
        {
          "output_type": "stream",
          "name": "stdout",
          "text": [
            "[39 31 38 34 26 28 37 35 30 31]\n"
          ]
        }
      ]
    }
  ]
}