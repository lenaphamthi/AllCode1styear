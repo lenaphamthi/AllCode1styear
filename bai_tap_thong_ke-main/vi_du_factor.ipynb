{
  "nbformat": 4,
  "nbformat_minor": 0,
  "metadata": {
    "colab": {
      "name": "vi_du_factor.ipynb",
      "provenance": [],
      "authorship_tag": "ABX9TyMgcswEd9UxsXnnNwJyOr2C",
      "include_colab_link": true
    },
    "kernelspec": {
      "name": "python3",
      "display_name": "Python 3"
    },
    "language_info": {
      "name": "python"
    }
  },
  "cells": [
    {
      "cell_type": "markdown",
      "metadata": {
        "id": "view-in-github",
        "colab_type": "text"
      },
      "source": [
        "<a href=\"https://colab.research.google.com/github/lenaphamthi/bai_tap_thong_ke/blob/main/vi_du_factor.ipynb\" target=\"_parent\"><img src=\"https://colab.research.google.com/assets/colab-badge.svg\" alt=\"Open In Colab\"/></a>"
      ]
    },
    {
      "cell_type": "markdown",
      "source": [
        "Ví dụ : Chúng ta muốn biết liệu ba chương trình luyện thi khác nhau có dẫn đến điểm trung bình khác nhau trong kỳ thi tuyển sinh đại học hay không. Vì có hàng triệu học sinh trung học trên khắp đất nước, sẽ quá tốn thời gian và tốn kém để đi xung quanh mỗi học sinh và cho phép họ sử dụng một trong những chương trình luyện thi.\n",
        "Thay vào đó,có thể chọn ba mẫu ngẫu nhiên của 100 sinh viên từ dân số và cho phép mỗi mẫu sử dụng một trong ba chương trình luyện thi để chuẩn bị cho kỳ thi. Sau đó, chúng tôi có thể ghi lại điểm số cho mỗi học sinh khi họ tham gia kỳ thi."
      ],
      "metadata": {
        "id": "fptu56BQw6F3"
      }
    },
    {
      "cell_type": "code",
      "execution_count": 3,
      "metadata": {
        "id": "KlvC9hIfwqYY"
      },
      "outputs": [],
      "source": [
        "from scipy.stats import f_oneway\n",
        "import numpy as np "
      ]
    },
    {
      "cell_type": "code",
      "source": [
        "gr1 = [85, 86, 88, 75, 78, 94, 98, 79, 71, 80]\n",
        "gr2 = [91, 92, 93, 85, 87, 84, 82, 88, 95, 96]\n",
        "gr3 = [79, 78, 88, 94, 92, 85, 83, 85, 82, 81]"
      ],
      "metadata": {
        "id": "z5zwiwgPyHga"
      },
      "execution_count": 6,
      "outputs": []
    },
    {
      "cell_type": "code",
      "source": [
        "f_oneway(gr1,gr2,gr3)"
      ],
      "metadata": {
        "colab": {
          "base_uri": "https://localhost:8080/"
        },
        "id": "fJadAuPIy8Vl",
        "outputId": "721e507c-03d9-41b2-eb30-6d4ed7bd0073"
      },
      "execution_count": 12,
      "outputs": [
        {
          "output_type": "execute_result",
          "data": {
            "text/plain": [
              "F_onewayResult(statistic=2.3575322551335636, pvalue=0.11384795345837218)"
            ]
          },
          "metadata": {},
          "execution_count": 12
        }
      ]
    },
    {
      "cell_type": "markdown",
      "source": [
        "alpha = 0,05 \n",
        "\n",
        "p_value < alpha : Có bằng chứng để bác bỏ giả thuyết $H_0$\n",
        "\n",
        "p_value > alpha : Chưa có bằng chứng để bác bỏ giả thuyết $H_0$\n",
        "\n"
      ],
      "metadata": {
        "id": "XJyT4XIL0wSu"
      }
    },
    {
      "cell_type": "markdown",
      "source": [
        "Giả thuyết null : $H_0$ : $μ_1$ = $μ_2$ = $μ_3$ = ... = $μ_k$ (tất cả các phương tiện dân số đều bình đẳng)\n",
        "\n",
        "Giả thuyết thay thế : $H_a$ : ít nhất một trung bình dân số khác với phần còn lại "
      ],
      "metadata": {
        "id": "tisSYdcm0RsL"
      }
    },
    {
      "cell_type": "markdown",
      "source": [
        "Theo như kết quả như trên, thống kê F = 2,357 và giá trị p tương ứng là 0,113. Vì giá trị p không nhỏ hơn 0.05 nên chưa có bằng chứng bác bỏ giả thuyết $H_0$"
      ],
      "metadata": {
        "id": "8DalwwgJ0S_9"
      }
    }
  ]
}