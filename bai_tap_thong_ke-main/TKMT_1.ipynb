{
  "nbformat": 4,
  "nbformat_minor": 0,
  "metadata": {
    "colab": {
      "name": "TKMT_1.ipynb",
      "provenance": [],
      "authorship_tag": "ABX9TyOFk0A1bUEQ0lbHzFCQLd/h",
      "include_colab_link": true
    },
    "kernelspec": {
      "name": "python3",
      "display_name": "Python 3"
    },
    "language_info": {
      "name": "python"
    }
  },
  "cells": [
    {
      "cell_type": "markdown",
      "metadata": {
        "id": "view-in-github",
        "colab_type": "text"
      },
      "source": [
        "<a href=\"https://colab.research.google.com/github/lenaphamthi/bai_tap_thong_ke/blob/main/TKMT_1.ipynb\" target=\"_parent\"><img src=\"https://colab.research.google.com/assets/colab-badge.svg\" alt=\"Open In Colab\"/></a>"
      ]
    },
    {
      "cell_type": "markdown",
      "source": [
        "Sử dụng thư viện pandas để quản lý và phân tích dữ liệu"
      ],
      "metadata": {
        "id": "q16kMMRoML_Z"
      }
    },
    {
      "cell_type": "code",
      "execution_count": null,
      "metadata": {
        "id": "hgvw87uiKEgf"
      },
      "outputs": [],
      "source": [
        "import pandas as pd\n"
      ]
    },
    {
      "cell_type": "markdown",
      "source": [
        "Đọc tập dữ liệu state.csv"
      ],
      "metadata": {
        "id": "fLZt-BrVMPdQ"
      }
    },
    {
      "cell_type": "code",
      "source": [
        "df = pd.read_csv(\"https://raw.githubusercontent.com/ndhcuong/ptdlk2/main/state.csv\")"
      ],
      "metadata": {
        "id": "5y-DWTQmMYsJ"
      },
      "execution_count": null,
      "outputs": []
    },
    {
      "cell_type": "markdown",
      "source": [
        "Hiển thị các thông số cơ bản của tập dữ liệu"
      ],
      "metadata": {
        "id": "lSEv-BKhMg8S"
      }
    },
    {
      "cell_type": "code",
      "source": [
        "df.head()"
      ],
      "metadata": {
        "colab": {
          "base_uri": "https://localhost:8080/",
          "height": 206
        },
        "id": "fzAsFn2oMhcl",
        "outputId": "cd1b06a7-c89e-4c1d-9ffa-6ba740499c47"
      },
      "execution_count": null,
      "outputs": [
        {
          "output_type": "execute_result",
          "data": {
            "text/plain": [
              "        State  Population  Murder.Rate Abbreviation\n",
              "0     Alabama     4779736          5.7           AL\n",
              "1      Alaska      710231          5.6           AK\n",
              "2     Arizona     6392017          4.7           AZ\n",
              "3    Arkansas     2915918          5.6           AR\n",
              "4  California    37253956          4.4           CA"
            ],
            "text/html": [
              "\n",
              "  <div id=\"df-39344688-8bb2-4b4e-9856-8700437766d3\">\n",
              "    <div class=\"colab-df-container\">\n",
              "      <div>\n",
              "<style scoped>\n",
              "    .dataframe tbody tr th:only-of-type {\n",
              "        vertical-align: middle;\n",
              "    }\n",
              "\n",
              "    .dataframe tbody tr th {\n",
              "        vertical-align: top;\n",
              "    }\n",
              "\n",
              "    .dataframe thead th {\n",
              "        text-align: right;\n",
              "    }\n",
              "</style>\n",
              "<table border=\"1\" class=\"dataframe\">\n",
              "  <thead>\n",
              "    <tr style=\"text-align: right;\">\n",
              "      <th></th>\n",
              "      <th>State</th>\n",
              "      <th>Population</th>\n",
              "      <th>Murder.Rate</th>\n",
              "      <th>Abbreviation</th>\n",
              "    </tr>\n",
              "  </thead>\n",
              "  <tbody>\n",
              "    <tr>\n",
              "      <th>0</th>\n",
              "      <td>Alabama</td>\n",
              "      <td>4779736</td>\n",
              "      <td>5.7</td>\n",
              "      <td>AL</td>\n",
              "    </tr>\n",
              "    <tr>\n",
              "      <th>1</th>\n",
              "      <td>Alaska</td>\n",
              "      <td>710231</td>\n",
              "      <td>5.6</td>\n",
              "      <td>AK</td>\n",
              "    </tr>\n",
              "    <tr>\n",
              "      <th>2</th>\n",
              "      <td>Arizona</td>\n",
              "      <td>6392017</td>\n",
              "      <td>4.7</td>\n",
              "      <td>AZ</td>\n",
              "    </tr>\n",
              "    <tr>\n",
              "      <th>3</th>\n",
              "      <td>Arkansas</td>\n",
              "      <td>2915918</td>\n",
              "      <td>5.6</td>\n",
              "      <td>AR</td>\n",
              "    </tr>\n",
              "    <tr>\n",
              "      <th>4</th>\n",
              "      <td>California</td>\n",
              "      <td>37253956</td>\n",
              "      <td>4.4</td>\n",
              "      <td>CA</td>\n",
              "    </tr>\n",
              "  </tbody>\n",
              "</table>\n",
              "</div>\n",
              "      <button class=\"colab-df-convert\" onclick=\"convertToInteractive('df-39344688-8bb2-4b4e-9856-8700437766d3')\"\n",
              "              title=\"Convert this dataframe to an interactive table.\"\n",
              "              style=\"display:none;\">\n",
              "        \n",
              "  <svg xmlns=\"http://www.w3.org/2000/svg\" height=\"24px\"viewBox=\"0 0 24 24\"\n",
              "       width=\"24px\">\n",
              "    <path d=\"M0 0h24v24H0V0z\" fill=\"none\"/>\n",
              "    <path d=\"M18.56 5.44l.94 2.06.94-2.06 2.06-.94-2.06-.94-.94-2.06-.94 2.06-2.06.94zm-11 1L8.5 8.5l.94-2.06 2.06-.94-2.06-.94L8.5 2.5l-.94 2.06-2.06.94zm10 10l.94 2.06.94-2.06 2.06-.94-2.06-.94-.94-2.06-.94 2.06-2.06.94z\"/><path d=\"M17.41 7.96l-1.37-1.37c-.4-.4-.92-.59-1.43-.59-.52 0-1.04.2-1.43.59L10.3 9.45l-7.72 7.72c-.78.78-.78 2.05 0 2.83L4 21.41c.39.39.9.59 1.41.59.51 0 1.02-.2 1.41-.59l7.78-7.78 2.81-2.81c.8-.78.8-2.07 0-2.86zM5.41 20L4 18.59l7.72-7.72 1.47 1.35L5.41 20z\"/>\n",
              "  </svg>\n",
              "      </button>\n",
              "      \n",
              "  <style>\n",
              "    .colab-df-container {\n",
              "      display:flex;\n",
              "      flex-wrap:wrap;\n",
              "      gap: 12px;\n",
              "    }\n",
              "\n",
              "    .colab-df-convert {\n",
              "      background-color: #E8F0FE;\n",
              "      border: none;\n",
              "      border-radius: 50%;\n",
              "      cursor: pointer;\n",
              "      display: none;\n",
              "      fill: #1967D2;\n",
              "      height: 32px;\n",
              "      padding: 0 0 0 0;\n",
              "      width: 32px;\n",
              "    }\n",
              "\n",
              "    .colab-df-convert:hover {\n",
              "      background-color: #E2EBFA;\n",
              "      box-shadow: 0px 1px 2px rgba(60, 64, 67, 0.3), 0px 1px 3px 1px rgba(60, 64, 67, 0.15);\n",
              "      fill: #174EA6;\n",
              "    }\n",
              "\n",
              "    [theme=dark] .colab-df-convert {\n",
              "      background-color: #3B4455;\n",
              "      fill: #D2E3FC;\n",
              "    }\n",
              "\n",
              "    [theme=dark] .colab-df-convert:hover {\n",
              "      background-color: #434B5C;\n",
              "      box-shadow: 0px 1px 3px 1px rgba(0, 0, 0, 0.15);\n",
              "      filter: drop-shadow(0px 1px 2px rgba(0, 0, 0, 0.3));\n",
              "      fill: #FFFFFF;\n",
              "    }\n",
              "  </style>\n",
              "\n",
              "      <script>\n",
              "        const buttonEl =\n",
              "          document.querySelector('#df-39344688-8bb2-4b4e-9856-8700437766d3 button.colab-df-convert');\n",
              "        buttonEl.style.display =\n",
              "          google.colab.kernel.accessAllowed ? 'block' : 'none';\n",
              "\n",
              "        async function convertToInteractive(key) {\n",
              "          const element = document.querySelector('#df-39344688-8bb2-4b4e-9856-8700437766d3');\n",
              "          const dataTable =\n",
              "            await google.colab.kernel.invokeFunction('convertToInteractive',\n",
              "                                                     [key], {});\n",
              "          if (!dataTable) return;\n",
              "\n",
              "          const docLinkHtml = 'Like what you see? Visit the ' +\n",
              "            '<a target=\"_blank\" href=https://colab.research.google.com/notebooks/data_table.ipynb>data table notebook</a>'\n",
              "            + ' to learn more about interactive tables.';\n",
              "          element.innerHTML = '';\n",
              "          dataTable['output_type'] = 'display_data';\n",
              "          await google.colab.output.renderOutput(dataTable, element);\n",
              "          const docLink = document.createElement('div');\n",
              "          docLink.innerHTML = docLinkHtml;\n",
              "          element.appendChild(docLink);\n",
              "        }\n",
              "      </script>\n",
              "    </div>\n",
              "  </div>\n",
              "  "
            ]
          },
          "metadata": {},
          "execution_count": 4
        }
      ]
    },
    {
      "cell_type": "code",
      "source": [
        "df.shape"
      ],
      "metadata": {
        "colab": {
          "base_uri": "https://localhost:8080/"
        },
        "id": "3B_bvcJ6Mly2",
        "outputId": "1f2f65d6-271c-495e-ed67-6c61d4fe2f1e"
      },
      "execution_count": null,
      "outputs": [
        {
          "output_type": "execute_result",
          "data": {
            "text/plain": [
              "(50, 4)"
            ]
          },
          "metadata": {},
          "execution_count": 5
        }
      ]
    },
    {
      "cell_type": "markdown",
      "source": [
        "Ghi chú: Nếu có cột dữ liệu ID/STT thì loại bỏ cột này vì không có ý nghĩa khi phân tích dữ liệu\n",
        "\n",
        "PHÂN TÍCH DỮ LIỆU ĐỊNH LƯỢNG\n",
        "\n",
        "Sao chép các cột dữ liệu định lượng sang 1 dataframe khác (Khi thành thạo có thể không cần thực hiện thao tác sao chép này)"
      ],
      "metadata": {
        "id": "JuCWRHhNMr36"
      }
    },
    {
      "cell_type": "code",
      "source": [
        "df_dl = pd.DataFrame(columns = [\"Population\",\"Murder.Rate\"], data = df)\n",
        "df_dl.head()"
      ],
      "metadata": {
        "colab": {
          "base_uri": "https://localhost:8080/",
          "height": 206
        },
        "id": "JT4mD8s5MnRX",
        "outputId": "53d8a2fa-6568-42dd-e914-31f2b4744664"
      },
      "execution_count": null,
      "outputs": [
        {
          "output_type": "execute_result",
          "data": {
            "text/plain": [
              "   Population  Murder.Rate\n",
              "0     4779736          5.7\n",
              "1      710231          5.6\n",
              "2     6392017          4.7\n",
              "3     2915918          5.6\n",
              "4    37253956          4.4"
            ],
            "text/html": [
              "\n",
              "  <div id=\"df-41986a83-d657-446a-863c-328e084bd69c\">\n",
              "    <div class=\"colab-df-container\">\n",
              "      <div>\n",
              "<style scoped>\n",
              "    .dataframe tbody tr th:only-of-type {\n",
              "        vertical-align: middle;\n",
              "    }\n",
              "\n",
              "    .dataframe tbody tr th {\n",
              "        vertical-align: top;\n",
              "    }\n",
              "\n",
              "    .dataframe thead th {\n",
              "        text-align: right;\n",
              "    }\n",
              "</style>\n",
              "<table border=\"1\" class=\"dataframe\">\n",
              "  <thead>\n",
              "    <tr style=\"text-align: right;\">\n",
              "      <th></th>\n",
              "      <th>Population</th>\n",
              "      <th>Murder.Rate</th>\n",
              "    </tr>\n",
              "  </thead>\n",
              "  <tbody>\n",
              "    <tr>\n",
              "      <th>0</th>\n",
              "      <td>4779736</td>\n",
              "      <td>5.7</td>\n",
              "    </tr>\n",
              "    <tr>\n",
              "      <th>1</th>\n",
              "      <td>710231</td>\n",
              "      <td>5.6</td>\n",
              "    </tr>\n",
              "    <tr>\n",
              "      <th>2</th>\n",
              "      <td>6392017</td>\n",
              "      <td>4.7</td>\n",
              "    </tr>\n",
              "    <tr>\n",
              "      <th>3</th>\n",
              "      <td>2915918</td>\n",
              "      <td>5.6</td>\n",
              "    </tr>\n",
              "    <tr>\n",
              "      <th>4</th>\n",
              "      <td>37253956</td>\n",
              "      <td>4.4</td>\n",
              "    </tr>\n",
              "  </tbody>\n",
              "</table>\n",
              "</div>\n",
              "      <button class=\"colab-df-convert\" onclick=\"convertToInteractive('df-41986a83-d657-446a-863c-328e084bd69c')\"\n",
              "              title=\"Convert this dataframe to an interactive table.\"\n",
              "              style=\"display:none;\">\n",
              "        \n",
              "  <svg xmlns=\"http://www.w3.org/2000/svg\" height=\"24px\"viewBox=\"0 0 24 24\"\n",
              "       width=\"24px\">\n",
              "    <path d=\"M0 0h24v24H0V0z\" fill=\"none\"/>\n",
              "    <path d=\"M18.56 5.44l.94 2.06.94-2.06 2.06-.94-2.06-.94-.94-2.06-.94 2.06-2.06.94zm-11 1L8.5 8.5l.94-2.06 2.06-.94-2.06-.94L8.5 2.5l-.94 2.06-2.06.94zm10 10l.94 2.06.94-2.06 2.06-.94-2.06-.94-.94-2.06-.94 2.06-2.06.94z\"/><path d=\"M17.41 7.96l-1.37-1.37c-.4-.4-.92-.59-1.43-.59-.52 0-1.04.2-1.43.59L10.3 9.45l-7.72 7.72c-.78.78-.78 2.05 0 2.83L4 21.41c.39.39.9.59 1.41.59.51 0 1.02-.2 1.41-.59l7.78-7.78 2.81-2.81c.8-.78.8-2.07 0-2.86zM5.41 20L4 18.59l7.72-7.72 1.47 1.35L5.41 20z\"/>\n",
              "  </svg>\n",
              "      </button>\n",
              "      \n",
              "  <style>\n",
              "    .colab-df-container {\n",
              "      display:flex;\n",
              "      flex-wrap:wrap;\n",
              "      gap: 12px;\n",
              "    }\n",
              "\n",
              "    .colab-df-convert {\n",
              "      background-color: #E8F0FE;\n",
              "      border: none;\n",
              "      border-radius: 50%;\n",
              "      cursor: pointer;\n",
              "      display: none;\n",
              "      fill: #1967D2;\n",
              "      height: 32px;\n",
              "      padding: 0 0 0 0;\n",
              "      width: 32px;\n",
              "    }\n",
              "\n",
              "    .colab-df-convert:hover {\n",
              "      background-color: #E2EBFA;\n",
              "      box-shadow: 0px 1px 2px rgba(60, 64, 67, 0.3), 0px 1px 3px 1px rgba(60, 64, 67, 0.15);\n",
              "      fill: #174EA6;\n",
              "    }\n",
              "\n",
              "    [theme=dark] .colab-df-convert {\n",
              "      background-color: #3B4455;\n",
              "      fill: #D2E3FC;\n",
              "    }\n",
              "\n",
              "    [theme=dark] .colab-df-convert:hover {\n",
              "      background-color: #434B5C;\n",
              "      box-shadow: 0px 1px 3px 1px rgba(0, 0, 0, 0.15);\n",
              "      filter: drop-shadow(0px 1px 2px rgba(0, 0, 0, 0.3));\n",
              "      fill: #FFFFFF;\n",
              "    }\n",
              "  </style>\n",
              "\n",
              "      <script>\n",
              "        const buttonEl =\n",
              "          document.querySelector('#df-41986a83-d657-446a-863c-328e084bd69c button.colab-df-convert');\n",
              "        buttonEl.style.display =\n",
              "          google.colab.kernel.accessAllowed ? 'block' : 'none';\n",
              "\n",
              "        async function convertToInteractive(key) {\n",
              "          const element = document.querySelector('#df-41986a83-d657-446a-863c-328e084bd69c');\n",
              "          const dataTable =\n",
              "            await google.colab.kernel.invokeFunction('convertToInteractive',\n",
              "                                                     [key], {});\n",
              "          if (!dataTable) return;\n",
              "\n",
              "          const docLinkHtml = 'Like what you see? Visit the ' +\n",
              "            '<a target=\"_blank\" href=https://colab.research.google.com/notebooks/data_table.ipynb>data table notebook</a>'\n",
              "            + ' to learn more about interactive tables.';\n",
              "          element.innerHTML = '';\n",
              "          dataTable['output_type'] = 'display_data';\n",
              "          await google.colab.output.renderOutput(dataTable, element);\n",
              "          const docLink = document.createElement('div');\n",
              "          docLink.innerHTML = docLinkHtml;\n",
              "          element.appendChild(docLink);\n",
              "        }\n",
              "      </script>\n",
              "    </div>\n",
              "  </div>\n",
              "  "
            ]
          },
          "metadata": {},
          "execution_count": 6
        }
      ]
    },
    {
      "cell_type": "code",
      "source": [
        "df_dl.shape"
      ],
      "metadata": {
        "colab": {
          "base_uri": "https://localhost:8080/"
        },
        "id": "eYBMrqtsNO10",
        "outputId": "4a0923b6-384a-43de-9855-84a9f8c0d809"
      },
      "execution_count": null,
      "outputs": [
        {
          "output_type": "execute_result",
          "data": {
            "text/plain": [
              "(50, 2)"
            ]
          },
          "metadata": {},
          "execution_count": 7
        }
      ]
    },
    {
      "cell_type": "markdown",
      "source": [
        "Tính các thông số thống kê định lượng"
      ],
      "metadata": {
        "id": "yIP7W8CIMrZ4"
      }
    },
    {
      "cell_type": "code",
      "source": [
        "print(\"Giá trị trung bình : \", df_dl[\"Population\"].mean(), \";\", df_dl[\"Murder.Rate\"].mean())\n"
      ],
      "metadata": {
        "colab": {
          "base_uri": "https://localhost:8080/"
        },
        "id": "_znmQEpVNRye",
        "outputId": "26b71cc0-b72c-4aa8-f4e6-392d3b2041dc"
      },
      "execution_count": null,
      "outputs": [
        {
          "output_type": "stream",
          "name": "stdout",
          "text": [
            "Giá trị trung bình :  6162876.3 ; 4.066\n"
          ]
        }
      ]
    },
    {
      "cell_type": "code",
      "source": [
        "print(\"Giá trị lớn nhất :\",df_dl[\"Population\"].max(),\";\",df_dl[\"Murder.Rate\"].max())"
      ],
      "metadata": {
        "colab": {
          "base_uri": "https://localhost:8080/"
        },
        "id": "Z2QobiR-OgJC",
        "outputId": "97f9ee3d-57db-4a30-a278-77533ddf6f3e"
      },
      "execution_count": null,
      "outputs": [
        {
          "output_type": "stream",
          "name": "stdout",
          "text": [
            "Giá trị lớn nhất : 37253956 ; 10.3\n"
          ]
        }
      ]
    },
    {
      "cell_type": "code",
      "source": [
        "print(\"Giá trị nhỏ nhất :\",df_dl[\"Population\"].min(),\";\",df_dl[\"Murder.Rate\"].min())"
      ],
      "metadata": {
        "colab": {
          "base_uri": "https://localhost:8080/"
        },
        "id": "aF44117OOy5Q",
        "outputId": "6ed6bbce-df46-4c04-916c-a62b22157f4c"
      },
      "execution_count": null,
      "outputs": [
        {
          "output_type": "stream",
          "name": "stdout",
          "text": [
            "Giá trị nhỏ nhất : 563626 ; 0.9\n"
          ]
        }
      ]
    },
    {
      "cell_type": "code",
      "source": [
        "print('Độ lệch chuẩn: ', df_dl['Population'].std(), \"; \", df_dl['Murder.Rate'].std())\n"
      ],
      "metadata": {
        "colab": {
          "base_uri": "https://localhost:8080/"
        },
        "id": "3iid4kqgPOnB",
        "outputId": "dc717bd3-c4cc-4e93-c6a2-cffdd159027b"
      },
      "execution_count": null,
      "outputs": [
        {
          "output_type": "stream",
          "name": "stdout",
          "text": [
            "Độ lệch chuẩn:  6848235.347401142 ;  1.915736124302923\n"
          ]
        }
      ]
    },
    {
      "cell_type": "code",
      "source": [
        "print('Phương sai: ', df_dl['Population'].var(), \"; \", df_dl['Murder.Rate'].var())\n"
      ],
      "metadata": {
        "colab": {
          "base_uri": "https://localhost:8080/"
        },
        "id": "ZLHXsnyUPPGQ",
        "outputId": "6c228a90-f261-4763-8b89-2eeb16b8cd98"
      },
      "execution_count": null,
      "outputs": [
        {
          "output_type": "stream",
          "name": "stdout",
          "text": [
            "Phương sai:  46898327373394.445 ;  3.670044897959184\n"
          ]
        }
      ]
    },
    {
      "cell_type": "code",
      "source": [
        "print('Q1 của  Population', df_dl['Population'].quantile(0.25), \"; của Murder.Rate\", df_dl['Murder.Rate'].quantile(0.25))\n"
      ],
      "metadata": {
        "colab": {
          "base_uri": "https://localhost:8080/"
        },
        "id": "RaTlahA-PQ13",
        "outputId": "8634a669-cfda-4ebc-a3dc-5f0ba3563d24"
      },
      "execution_count": null,
      "outputs": [
        {
          "output_type": "stream",
          "name": "stdout",
          "text": [
            "Q1 của  Population 1833004.25 ; của Murder.Rate 2.425\n"
          ]
        }
      ]
    },
    {
      "cell_type": "code",
      "source": [
        "print('Q2 của  Population', df_dl['Population'].quantile(0.50), \"; của Murder.Rate\", df_dl['Murder.Rate'].quantile(0.50))\n"
      ],
      "metadata": {
        "colab": {
          "base_uri": "https://localhost:8080/"
        },
        "id": "ti-Sy7NUPTIp",
        "outputId": "2cff681c-5137-4124-eb05-f271764e93d1"
      },
      "execution_count": null,
      "outputs": [
        {
          "output_type": "stream",
          "name": "stdout",
          "text": [
            "Q2 của  Population 4436369.5 ; của Murder.Rate 4.0\n"
          ]
        }
      ]
    },
    {
      "cell_type": "code",
      "source": [
        "print('Q3 của  Population', df_dl['Population'].quantile(0.75), \"; của Murder.Rate\", df_dl['Murder.Rate'].quantile(0.75))\n"
      ],
      "metadata": {
        "colab": {
          "base_uri": "https://localhost:8080/"
        },
        "id": "NmBricuMPUKS",
        "outputId": "480f074b-4358-42dd-a55f-d108e037d39b"
      },
      "execution_count": null,
      "outputs": [
        {
          "output_type": "stream",
          "name": "stdout",
          "text": [
            "Q3 của  Population 6680312.25 ; của Murder.Rate 5.55\n"
          ]
        }
      ]
    },
    {
      "cell_type": "code",
      "source": [
        "print('IQR ',df_dl['Population'].quantile(0.75) - df_dl['Population'].quantile(0.25), \"; \", df_dl['Murder.Rate'].quantile(0.75) - df_dl['Murder.Rate'].quantile(0.25) )\n"
      ],
      "metadata": {
        "colab": {
          "base_uri": "https://localhost:8080/"
        },
        "id": "yKq9Oue1PcdK",
        "outputId": "fd61fafa-075b-4fee-c7bb-376365cd85d6"
      },
      "execution_count": null,
      "outputs": [
        {
          "output_type": "stream",
          "name": "stdout",
          "text": [
            "IQR  4847308.0 ;  3.125\n"
          ]
        }
      ]
    },
    {
      "cell_type": "markdown",
      "source": [
        "Có thể thay các phép tính riêng biệt trên bằng cách sử dụng hàm describe\n",
        "\n"
      ],
      "metadata": {
        "id": "80xRZK-TPwan"
      }
    },
    {
      "cell_type": "code",
      "source": [
        "df_dl.describe()\n"
      ],
      "metadata": {
        "colab": {
          "base_uri": "https://localhost:8080/",
          "height": 300
        },
        "id": "quQZFMHQPz4q",
        "outputId": "e5728816-5d04-46b2-ab1e-215780020f72"
      },
      "execution_count": null,
      "outputs": [
        {
          "output_type": "execute_result",
          "data": {
            "text/plain": [
              "         Population  Murder.Rate\n",
              "count  5.000000e+01    50.000000\n",
              "mean   6.162876e+06     4.066000\n",
              "std    6.848235e+06     1.915736\n",
              "min    5.636260e+05     0.900000\n",
              "25%    1.833004e+06     2.425000\n",
              "50%    4.436370e+06     4.000000\n",
              "75%    6.680312e+06     5.550000\n",
              "max    3.725396e+07    10.300000"
            ],
            "text/html": [
              "\n",
              "  <div id=\"df-91338709-c7ec-4a91-8a76-229081d27ef8\">\n",
              "    <div class=\"colab-df-container\">\n",
              "      <div>\n",
              "<style scoped>\n",
              "    .dataframe tbody tr th:only-of-type {\n",
              "        vertical-align: middle;\n",
              "    }\n",
              "\n",
              "    .dataframe tbody tr th {\n",
              "        vertical-align: top;\n",
              "    }\n",
              "\n",
              "    .dataframe thead th {\n",
              "        text-align: right;\n",
              "    }\n",
              "</style>\n",
              "<table border=\"1\" class=\"dataframe\">\n",
              "  <thead>\n",
              "    <tr style=\"text-align: right;\">\n",
              "      <th></th>\n",
              "      <th>Population</th>\n",
              "      <th>Murder.Rate</th>\n",
              "    </tr>\n",
              "  </thead>\n",
              "  <tbody>\n",
              "    <tr>\n",
              "      <th>count</th>\n",
              "      <td>5.000000e+01</td>\n",
              "      <td>50.000000</td>\n",
              "    </tr>\n",
              "    <tr>\n",
              "      <th>mean</th>\n",
              "      <td>6.162876e+06</td>\n",
              "      <td>4.066000</td>\n",
              "    </tr>\n",
              "    <tr>\n",
              "      <th>std</th>\n",
              "      <td>6.848235e+06</td>\n",
              "      <td>1.915736</td>\n",
              "    </tr>\n",
              "    <tr>\n",
              "      <th>min</th>\n",
              "      <td>5.636260e+05</td>\n",
              "      <td>0.900000</td>\n",
              "    </tr>\n",
              "    <tr>\n",
              "      <th>25%</th>\n",
              "      <td>1.833004e+06</td>\n",
              "      <td>2.425000</td>\n",
              "    </tr>\n",
              "    <tr>\n",
              "      <th>50%</th>\n",
              "      <td>4.436370e+06</td>\n",
              "      <td>4.000000</td>\n",
              "    </tr>\n",
              "    <tr>\n",
              "      <th>75%</th>\n",
              "      <td>6.680312e+06</td>\n",
              "      <td>5.550000</td>\n",
              "    </tr>\n",
              "    <tr>\n",
              "      <th>max</th>\n",
              "      <td>3.725396e+07</td>\n",
              "      <td>10.300000</td>\n",
              "    </tr>\n",
              "  </tbody>\n",
              "</table>\n",
              "</div>\n",
              "      <button class=\"colab-df-convert\" onclick=\"convertToInteractive('df-91338709-c7ec-4a91-8a76-229081d27ef8')\"\n",
              "              title=\"Convert this dataframe to an interactive table.\"\n",
              "              style=\"display:none;\">\n",
              "        \n",
              "  <svg xmlns=\"http://www.w3.org/2000/svg\" height=\"24px\"viewBox=\"0 0 24 24\"\n",
              "       width=\"24px\">\n",
              "    <path d=\"M0 0h24v24H0V0z\" fill=\"none\"/>\n",
              "    <path d=\"M18.56 5.44l.94 2.06.94-2.06 2.06-.94-2.06-.94-.94-2.06-.94 2.06-2.06.94zm-11 1L8.5 8.5l.94-2.06 2.06-.94-2.06-.94L8.5 2.5l-.94 2.06-2.06.94zm10 10l.94 2.06.94-2.06 2.06-.94-2.06-.94-.94-2.06-.94 2.06-2.06.94z\"/><path d=\"M17.41 7.96l-1.37-1.37c-.4-.4-.92-.59-1.43-.59-.52 0-1.04.2-1.43.59L10.3 9.45l-7.72 7.72c-.78.78-.78 2.05 0 2.83L4 21.41c.39.39.9.59 1.41.59.51 0 1.02-.2 1.41-.59l7.78-7.78 2.81-2.81c.8-.78.8-2.07 0-2.86zM5.41 20L4 18.59l7.72-7.72 1.47 1.35L5.41 20z\"/>\n",
              "  </svg>\n",
              "      </button>\n",
              "      \n",
              "  <style>\n",
              "    .colab-df-container {\n",
              "      display:flex;\n",
              "      flex-wrap:wrap;\n",
              "      gap: 12px;\n",
              "    }\n",
              "\n",
              "    .colab-df-convert {\n",
              "      background-color: #E8F0FE;\n",
              "      border: none;\n",
              "      border-radius: 50%;\n",
              "      cursor: pointer;\n",
              "      display: none;\n",
              "      fill: #1967D2;\n",
              "      height: 32px;\n",
              "      padding: 0 0 0 0;\n",
              "      width: 32px;\n",
              "    }\n",
              "\n",
              "    .colab-df-convert:hover {\n",
              "      background-color: #E2EBFA;\n",
              "      box-shadow: 0px 1px 2px rgba(60, 64, 67, 0.3), 0px 1px 3px 1px rgba(60, 64, 67, 0.15);\n",
              "      fill: #174EA6;\n",
              "    }\n",
              "\n",
              "    [theme=dark] .colab-df-convert {\n",
              "      background-color: #3B4455;\n",
              "      fill: #D2E3FC;\n",
              "    }\n",
              "\n",
              "    [theme=dark] .colab-df-convert:hover {\n",
              "      background-color: #434B5C;\n",
              "      box-shadow: 0px 1px 3px 1px rgba(0, 0, 0, 0.15);\n",
              "      filter: drop-shadow(0px 1px 2px rgba(0, 0, 0, 0.3));\n",
              "      fill: #FFFFFF;\n",
              "    }\n",
              "  </style>\n",
              "\n",
              "      <script>\n",
              "        const buttonEl =\n",
              "          document.querySelector('#df-91338709-c7ec-4a91-8a76-229081d27ef8 button.colab-df-convert');\n",
              "        buttonEl.style.display =\n",
              "          google.colab.kernel.accessAllowed ? 'block' : 'none';\n",
              "\n",
              "        async function convertToInteractive(key) {\n",
              "          const element = document.querySelector('#df-91338709-c7ec-4a91-8a76-229081d27ef8');\n",
              "          const dataTable =\n",
              "            await google.colab.kernel.invokeFunction('convertToInteractive',\n",
              "                                                     [key], {});\n",
              "          if (!dataTable) return;\n",
              "\n",
              "          const docLinkHtml = 'Like what you see? Visit the ' +\n",
              "            '<a target=\"_blank\" href=https://colab.research.google.com/notebooks/data_table.ipynb>data table notebook</a>'\n",
              "            + ' to learn more about interactive tables.';\n",
              "          element.innerHTML = '';\n",
              "          dataTable['output_type'] = 'display_data';\n",
              "          await google.colab.output.renderOutput(dataTable, element);\n",
              "          const docLink = document.createElement('div');\n",
              "          docLink.innerHTML = docLinkHtml;\n",
              "          element.appendChild(docLink);\n",
              "        }\n",
              "      </script>\n",
              "    </div>\n",
              "  </div>\n",
              "  "
            ]
          },
          "metadata": {},
          "execution_count": 21
        }
      ]
    },
    {
      "cell_type": "markdown",
      "source": [
        "Mô tả trực quan hóa dữ liệu định lượng\n",
        "\n"
      ],
      "metadata": {
        "id": "cTbPR_j-P5xb"
      }
    },
    {
      "cell_type": "code",
      "source": [
        "import matplotlib.pyplot as plt"
      ],
      "metadata": {
        "id": "8BCR3orcP6FC"
      },
      "execution_count": null,
      "outputs": []
    },
    {
      "cell_type": "code",
      "source": [
        "boxplot = df_dl.boxplot(column=['Population', 'Murder.Rate'])"
      ],
      "metadata": {
        "colab": {
          "base_uri": "https://localhost:8080/",
          "height": 276
        },
        "id": "ZY8cQsBVP8S_",
        "outputId": "8fe56761-2323-455d-965e-ee1a35090add"
      },
      "execution_count": null,
      "outputs": [
        {
          "output_type": "display_data",
          "data": {
            "text/plain": [
              "<Figure size 432x288 with 1 Axes>"
            ],
            "image/png": "[encoded data removed]"
          },
          "metadata": {
            "needs_background": "light"
          }
        }
      ]
    },
    {
      "cell_type": "code",
      "source": [
        "df_dl.boxplot(column=['Murder.Rate']);"
      ],
      "metadata": {
        "colab": {
          "base_uri": "https://localhost:8080/",
          "height": 265
        },
        "id": "MVWb8Bk-QAoI",
        "outputId": "1cf014b9-8258-4940-87ba-1273051aab05"
      },
      "execution_count": null,
      "outputs": [
        {
          "output_type": "display_data",
          "data": {
            "text/plain": [
              "<Figure size 432x288 with 1 Axes>"
            ],
            "image/png": "[encoded data removed]"
          },
          "metadata": {
            "needs_background": "light"
          }
        }
      ]
    },
    {
      "cell_type": "markdown",
      "source": [
        "Xem xét mối quan hệ giữa 2 biến định lượng có thể sử dụng công cụ trực quan scatterplot\n",
        "\n"
      ],
      "metadata": {
        "id": "uRKbTQhcQMTo"
      }
    },
    {
      "cell_type": "code",
      "source": [
        "sc = df_dl.plot.scatter(x ='Murder.Rate', y = 'Population', c = 'Red')\n"
      ],
      "metadata": {
        "colab": {
          "base_uri": "https://localhost:8080/",
          "height": 290
        },
        "id": "F0z8rSveQNNg",
        "outputId": "3c8f9d4a-bdc1-4d87-c979-976cf23f2c8a"
      },
      "execution_count": null,
      "outputs": [
        {
          "output_type": "display_data",
          "data": {
            "text/plain": [
              "<Figure size 432x288 with 1 Axes>"
            ],
            "image/png": "[encoded data removed]"
          },
          "metadata": {
            "needs_background": "light"
          }
        }
      ]
    },
    {
      "cell_type": "markdown",
      "source": [
        "Mối quan hệ giữa 2 cột dữ liệu định lượng còn được biểu hiện qua hệ số tương quan (correlation). Trong pandas có thể tính hệ số này như sau:"
      ],
      "metadata": {
        "id": "ggwKsNRgQZBD"
      }
    },
    {
      "cell_type": "code",
      "source": [
        "df_dl.corr(method='pearson')\n"
      ],
      "metadata": {
        "colab": {
          "base_uri": "https://localhost:8080/",
          "height": 112
        },
        "id": "1CAek4jkQaqD",
        "outputId": "d51458ac-aa4a-4b85-db70-31c9da286d4c"
      },
      "execution_count": null,
      "outputs": [
        {
          "output_type": "execute_result",
          "data": {
            "text/plain": [
              "             Population  Murder.Rate\n",
              "Population     1.000000     0.182069\n",
              "Murder.Rate    0.182069     1.000000"
            ],
            "text/html": [
              "\n",
              "  <div id=\"df-1645ac36-389e-4534-80c8-1baed04e5099\">\n",
              "    <div class=\"colab-df-container\">\n",
              "      <div>\n",
              "<style scoped>\n",
              "    .dataframe tbody tr th:only-of-type {\n",
              "        vertical-align: middle;\n",
              "    }\n",
              "\n",
              "    .dataframe tbody tr th {\n",
              "        vertical-align: top;\n",
              "    }\n",
              "\n",
              "    .dataframe thead th {\n",
              "        text-align: right;\n",
              "    }\n",
              "</style>\n",
              "<table border=\"1\" class=\"dataframe\">\n",
              "  <thead>\n",
              "    <tr style=\"text-align: right;\">\n",
              "      <th></th>\n",
              "      <th>Population</th>\n",
              "      <th>Murder.Rate</th>\n",
              "    </tr>\n",
              "  </thead>\n",
              "  <tbody>\n",
              "    <tr>\n",
              "      <th>Population</th>\n",
              "      <td>1.000000</td>\n",
              "      <td>0.182069</td>\n",
              "    </tr>\n",
              "    <tr>\n",
              "      <th>Murder.Rate</th>\n",
              "      <td>0.182069</td>\n",
              "      <td>1.000000</td>\n",
              "    </tr>\n",
              "  </tbody>\n",
              "</table>\n",
              "</div>\n",
              "      <button class=\"colab-df-convert\" onclick=\"convertToInteractive('df-1645ac36-389e-4534-80c8-1baed04e5099')\"\n",
              "              title=\"Convert this dataframe to an interactive table.\"\n",
              "              style=\"display:none;\">\n",
              "        \n",
              "  <svg xmlns=\"http://www.w3.org/2000/svg\" height=\"24px\"viewBox=\"0 0 24 24\"\n",
              "       width=\"24px\">\n",
              "    <path d=\"M0 0h24v24H0V0z\" fill=\"none\"/>\n",
              "    <path d=\"M18.56 5.44l.94 2.06.94-2.06 2.06-.94-2.06-.94-.94-2.06-.94 2.06-2.06.94zm-11 1L8.5 8.5l.94-2.06 2.06-.94-2.06-.94L8.5 2.5l-.94 2.06-2.06.94zm10 10l.94 2.06.94-2.06 2.06-.94-2.06-.94-.94-2.06-.94 2.06-2.06.94z\"/><path d=\"M17.41 7.96l-1.37-1.37c-.4-.4-.92-.59-1.43-.59-.52 0-1.04.2-1.43.59L10.3 9.45l-7.72 7.72c-.78.78-.78 2.05 0 2.83L4 21.41c.39.39.9.59 1.41.59.51 0 1.02-.2 1.41-.59l7.78-7.78 2.81-2.81c.8-.78.8-2.07 0-2.86zM5.41 20L4 18.59l7.72-7.72 1.47 1.35L5.41 20z\"/>\n",
              "  </svg>\n",
              "      </button>\n",
              "      \n",
              "  <style>\n",
              "    .colab-df-container {\n",
              "      display:flex;\n",
              "      flex-wrap:wrap;\n",
              "      gap: 12px;\n",
              "    }\n",
              "\n",
              "    .colab-df-convert {\n",
              "      background-color: #E8F0FE;\n",
              "      border: none;\n",
              "      border-radius: 50%;\n",
              "      cursor: pointer;\n",
              "      display: none;\n",
              "      fill: #1967D2;\n",
              "      height: 32px;\n",
              "      padding: 0 0 0 0;\n",
              "      width: 32px;\n",
              "    }\n",
              "\n",
              "    .colab-df-convert:hover {\n",
              "      background-color: #E2EBFA;\n",
              "      box-shadow: 0px 1px 2px rgba(60, 64, 67, 0.3), 0px 1px 3px 1px rgba(60, 64, 67, 0.15);\n",
              "      fill: #174EA6;\n",
              "    }\n",
              "\n",
              "    [theme=dark] .colab-df-convert {\n",
              "      background-color: #3B4455;\n",
              "      fill: #D2E3FC;\n",
              "    }\n",
              "\n",
              "    [theme=dark] .colab-df-convert:hover {\n",
              "      background-color: #434B5C;\n",
              "      box-shadow: 0px 1px 3px 1px rgba(0, 0, 0, 0.15);\n",
              "      filter: drop-shadow(0px 1px 2px rgba(0, 0, 0, 0.3));\n",
              "      fill: #FFFFFF;\n",
              "    }\n",
              "  </style>\n",
              "\n",
              "      <script>\n",
              "        const buttonEl =\n",
              "          document.querySelector('#df-1645ac36-389e-4534-80c8-1baed04e5099 button.colab-df-convert');\n",
              "        buttonEl.style.display =\n",
              "          google.colab.kernel.accessAllowed ? 'block' : 'none';\n",
              "\n",
              "        async function convertToInteractive(key) {\n",
              "          const element = document.querySelector('#df-1645ac36-389e-4534-80c8-1baed04e5099');\n",
              "          const dataTable =\n",
              "            await google.colab.kernel.invokeFunction('convertToInteractive',\n",
              "                                                     [key], {});\n",
              "          if (!dataTable) return;\n",
              "\n",
              "          const docLinkHtml = 'Like what you see? Visit the ' +\n",
              "            '<a target=\"_blank\" href=https://colab.research.google.com/notebooks/data_table.ipynb>data table notebook</a>'\n",
              "            + ' to learn more about interactive tables.';\n",
              "          element.innerHTML = '';\n",
              "          dataTable['output_type'] = 'display_data';\n",
              "          await google.colab.output.renderOutput(dataTable, element);\n",
              "          const docLink = document.createElement('div');\n",
              "          docLink.innerHTML = docLinkHtml;\n",
              "          element.appendChild(docLink);\n",
              "        }\n",
              "      </script>\n",
              "    </div>\n",
              "  </div>\n",
              "  "
            ]
          },
          "metadata": {},
          "execution_count": 26
        }
      ]
    },
    {
      "cell_type": "markdown",
      "source": [
        "BÀI TẬP: Bạn hãy tìm hiểu về hệ số tương quan (correlation), cách đọc và giải thích ý nghĩa hệ số tương quan."
      ],
      "metadata": {
        "id": "Rw8dV64pQePy"
      }
    },
    {
      "cell_type": "markdown",
      "source": [
        "Câu trả lời:\n",
        "1. Tìm hiểu về hệ số tương quan "
      ],
      "metadata": {
        "id": "B1mBBVhrQf9e"
      }
    },
    {
      "cell_type": "markdown",
      "source": [
        "**Hệ số tương quan là chỉ số đo lường mức độ mạnh yếu của mối quan hệ giữa hai biến.** "
      ],
      "metadata": {
        "id": "iO6oPh7_QtSB"
      }
    },
    {
      "cell_type": "markdown",
      "source": [
        "- Có một số loại hệ số tương quan, nhưng loại phổ biến nhất là hệ số tương quan Pearson (trong tiếng anh là Pearson correlation coefficient, kí hiệu r). Hệ số này chỉ ra độ mạnh và hướng của quan hệ tuyến tính giữa hai biến.\n",
        "- Về nguyên tắc, tương quan Pearson sẽ tìm ra một đường thẳng phù hợp nhất với mối quan hệ tuyến tính của 2 biến."
      ],
      "metadata": {
        "id": "_foWtijeQ2Ny"
      }
    },
    {
      "cell_type": "markdown",
      "source": [
        "2. Ý nghĩa hệ số tương quan pearson"
      ],
      "metadata": {
        "id": "zZSJUTkfdKVU"
      }
    },
    {
      "cell_type": "markdown",
      "source": [
        "**Ý nghĩa Hệ số tương quan pearson là nó mô tả cách mà một biến di chuyển trong mối quan hệ với một biến khác. Và Hệ số tương quan sẽ có giá trị từ -1.0 đến +1.0.** Trong đó:\n",
        "\n",
        "- Mối tương quan thuận cho biết rằng cả hai di chuyển theo cùng một hướng. Khi hệ số tương quan +1.0, chúng di chuyển song song.\n",
        "- Hệ số tương quan mà âm, thì chúng di chuyển ngược hướng nhau.\n",
        "- Hệ số tương quan bằng 0, không có tương quan nào cả."
      ],
      "metadata": {
        "id": "66b5qb4adz7l"
      }
    },
    {
      "cell_type": "code",
      "source": [
        "from pydoc import help\n",
        "from scipy.stats.stats import pearsonr\n",
        "help(pearsonr)"
      ],
      "metadata": {
        "colab": {
          "base_uri": "https://localhost:8080/"
        },
        "id": "oCvWavCjexMp",
        "outputId": "db998c5b-0944-40cb-ad5e-37d4a67f6783"
      },
      "execution_count": null,
      "outputs": [
        {
          "output_type": "stream",
          "name": "stdout",
          "text": [
            "Help on function pearsonr in module scipy.stats.stats:\n",
            "\n",
            "pearsonr(x, y)\n",
            "    Pearson correlation coefficient and p-value for testing non-correlation.\n",
            "    \n",
            "    The Pearson correlation coefficient [1]_ measures the linear relationship\n",
            "    between two datasets.  The calculation of the p-value relies on the\n",
            "    assumption that each dataset is normally distributed.  (See Kowalski [3]_\n",
            "    for a discussion of the effects of non-normality of the input on the\n",
            "    distribution of the correlation coefficient.)  Like other correlation\n",
            "    coefficients, this one varies between -1 and +1 with 0 implying no\n",
            "    correlation. Correlations of -1 or +1 imply an exact linear relationship.\n",
            "    Positive correlations imply that as x increases, so does y. Negative\n",
            "    correlations imply that as x increases, y decreases.\n",
            "    \n",
            "    The p-value roughly indicates the probability of an uncorrelated system\n",
            "    producing datasets that have a Pearson correlation at least as extreme\n",
            "    as the one computed from these datasets.\n",
            "    \n",
            "    Parameters\n",
            "    ----------\n",
            "    x : (N,) array_like\n",
            "        Input array.\n",
            "    y : (N,) array_like\n",
            "        Input array.\n",
            "    \n",
            "    Returns\n",
            "    -------\n",
            "    r : float\n",
            "        Pearson's correlation coefficient.\n",
            "    p-value : float\n",
            "        Two-tailed p-value.\n",
            "    \n",
            "    Warns\n",
            "    -----\n",
            "    PearsonRConstantInputWarning\n",
            "        Raised if an input is a constant array.  The correlation coefficient\n",
            "        is not defined in this case, so ``np.nan`` is returned.\n",
            "    \n",
            "    PearsonRNearConstantInputWarning\n",
            "        Raised if an input is \"nearly\" constant.  The array ``x`` is considered\n",
            "        nearly constant if ``norm(x - mean(x)) < 1e-13 * abs(mean(x))``.\n",
            "        Numerical errors in the calculation ``x - mean(x)`` in this case might\n",
            "        result in an inaccurate calculation of r.\n",
            "    \n",
            "    See Also\n",
            "    --------\n",
            "    spearmanr : Spearman rank-order correlation coefficient.\n",
            "    kendalltau : Kendall's tau, a correlation measure for ordinal data.\n",
            "    \n",
            "    Notes\n",
            "    -----\n",
            "    The correlation coefficient is calculated as follows:\n",
            "    \n",
            "    .. math::\n",
            "    \n",
            "        r = \\frac{\\sum (x - m_x) (y - m_y)}\n",
            "                 {\\sqrt{\\sum (x - m_x)^2 \\sum (y - m_y)^2}}\n",
            "    \n",
            "    where :math:`m_x` is the mean of the vector :math:`x` and :math:`m_y` is\n",
            "    the mean of the vector :math:`y`.\n",
            "    \n",
            "    Under the assumption that x and y are drawn from independent normal\n",
            "    distributions (so the population correlation coefficient is 0), the\n",
            "    probability density function of the sample correlation coefficient r\n",
            "    is ([1]_, [2]_)::\n",
            "    \n",
            "               (1 - r**2)**(n/2 - 2)\n",
            "        f(r) = ---------------------\n",
            "                  B(1/2, n/2 - 1)\n",
            "    \n",
            "    where n is the number of samples, and B is the beta function.  This\n",
            "    is sometimes referred to as the exact distribution of r.  This is\n",
            "    the distribution that is used in `pearsonr` to compute the p-value.\n",
            "    The distribution is a beta distribution on the interval [-1, 1],\n",
            "    with equal shape parameters a = b = n/2 - 1.  In terms of SciPy's\n",
            "    implementation of the beta distribution, the distribution of r is::\n",
            "    \n",
            "        dist = scipy.stats.beta(n/2 - 1, n/2 - 1, loc=-1, scale=2)\n",
            "    \n",
            "    The p-value returned by `pearsonr` is a two-sided p-value.  For a\n",
            "    given sample with correlation coefficient r, the p-value is\n",
            "    the probability that abs(r') of a random sample x' and y' drawn from\n",
            "    the population with zero correlation would be greater than or equal\n",
            "    to abs(r).  In terms of the object ``dist`` shown above, the p-value\n",
            "    for a given r and length n can be computed as::\n",
            "    \n",
            "        p = 2*dist.cdf(-abs(r))\n",
            "    \n",
            "    When n is 2, the above continuous distribution is not well-defined.\n",
            "    One can interpret the limit of the beta distribution as the shape\n",
            "    parameters a and b approach a = b = 0 as a discrete distribution with\n",
            "    equal probability masses at r = 1 and r = -1.  More directly, one\n",
            "    can observe that, given the data x = [x1, x2] and y = [y1, y2], and\n",
            "    assuming x1 != x2 and y1 != y2, the only possible values for r are 1\n",
            "    and -1.  Because abs(r') for any sample x' and y' with length 2 will\n",
            "    be 1, the two-sided p-value for a sample of length 2 is always 1.\n",
            "    \n",
            "    References\n",
            "    ----------\n",
            "    .. [1] \"Pearson correlation coefficient\", Wikipedia,\n",
            "           https://en.wikipedia.org/wiki/Pearson_correlation_coefficient\n",
            "    .. [2] Student, \"Probable error of a correlation coefficient\",\n",
            "           Biometrika, Volume 6, Issue 2-3, 1 September 1908, pp. 302-310.\n",
            "    .. [3] C. J. Kowalski, \"On the Effects of Non-Normality on the Distribution\n",
            "           of the Sample Product-Moment Correlation Coefficient\"\n",
            "           Journal of the Royal Statistical Society. Series C (Applied\n",
            "           Statistics), Vol. 21, No. 1 (1972), pp. 1-12.\n",
            "    \n",
            "    Examples\n",
            "    --------\n",
            "    >>> from scipy import stats\n",
            "    >>> a = np.array([0, 0, 0, 1, 1, 1, 1])\n",
            "    >>> b = np.arange(7)\n",
            "    >>> stats.pearsonr(a, b)\n",
            "    (0.8660254037844386, 0.011724811003954649)\n",
            "    \n",
            "    >>> stats.pearsonr([1, 2, 3, 4, 5], [10, 9, 2.5, 6, 4])\n",
            "    (-0.7426106572325057, 0.1505558088534455)\n",
            "\n"
          ]
        }
      ]
    }
  ]
}