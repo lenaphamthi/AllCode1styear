{
  "nbformat": 4,
  "nbformat_minor": 0,
  "metadata": {
    "colab": {
      "name": "baitap_kiem_dinh_z-t.ipynb",
      "provenance": [],
      "authorship_tag": "ABX9TyMiZ89b9+GJlSvZJ8Eg7fWs",
      "include_colab_link": true
    },
    "kernelspec": {
      "name": "python3",
      "display_name": "Python 3"
    },
    "language_info": {
      "name": "python"
    }
  },
  "cells": [
    {
      "cell_type": "markdown",
      "metadata": {
        "id": "view-in-github",
        "colab_type": "text"
      },
      "source": [
        "<a href=\"https://colab.research.google.com/github/lenaphamthi/bai_tap_thong_ke/blob/main/baitap_kiem_dinh_z_t.ipynb\" target=\"_parent\"><img src=\"https://colab.research.google.com/assets/colab-badge.svg\" alt=\"Open In Colab\"/></a>"
      ]
    },
    {
      "cell_type": "markdown",
      "source": [
        "Khai báo thư viện "
      ],
      "metadata": {
        "id": "a-xtrKzPnwd0"
      }
    },
    {
      "cell_type": "code",
      "source": [
        "from scipy import stats\n",
        "import numpy as np\n",
        "import math\n",
        "import scipy.stats as st\n",
        "from statsmodels.stats.weightstats import ztest"
      ],
      "metadata": {
        "id": "WLSBht5xl0AB",
        "colab": {
          "base_uri": "https://localhost:8080/"
        },
        "outputId": "0dfcdf2d-0bae-45e0-fc0b-f4edabbe7e1e"
      },
      "execution_count": 2,
      "outputs": [
        {
          "output_type": "stream",
          "name": "stderr",
          "text": [
            "/usr/local/lib/python3.7/dist-packages/statsmodels/tools/_testing.py:19: FutureWarning: pandas.util.testing is deprecated. Use the functions in the public API at pandas.testing instead.\n",
            "  import pandas.util.testing as tm\n"
          ]
        }
      ]
    },
    {
      "cell_type": "markdown",
      "source": [
        "Bài 1: You’re a Q/C inspector for Gallo. The sample standard deviation for 2-liter bottles is .05 liters. A random sample of 100 bottles showed sasmple mean = 1.99 liters. What is the 90% confidence interval estimate of the true mean amount in 2-liter bottles?\n",
        "\n",
        "Dịch : Bài 1: Bạn là thanh tra Q/C cho Gallo. Độ lệch chuẩn của mẫu đối với chai 2 lít là 0,05 lít. Một mẫu ngẫu nhiên gồm 100 chai cho thấy sasmple trung bình = 1,99 lít. Ước lượng khoảng tin cậy 90% của lượng trung bình thực trong chai 2 lít là bao nhiêu?"
      ],
      "metadata": {
        "id": "-QoYDlx6hrM2"
      }
    },
    {
      "cell_type": "code",
      "execution_count": null,
      "metadata": {
        "colab": {
          "base_uri": "https://localhost:8080/"
        },
        "id": "yK-vYe1Ehhyt",
        "outputId": "c02002d6-45ee-471e-cd6c-b8e54ae38e55"
      },
      "outputs": [
        {
          "output_type": "execute_result",
          "data": {
            "text/plain": [
              "(1.9821845984699276, 1.9978154015300724)"
            ]
          },
          "metadata": {},
          "execution_count": 22
        }
      ],
      "source": [
        "#khai báo \n",
        "mean = 1.99\n",
        "std = 0.05\n",
        "N = 100\n",
        "#sinh một mẫu ngẫu nhiên gồm 100 chai; trung bình = 1,99; độ lệch chuẩn = 0,05)\n",
        "sample = np.random.normal(mean,std,N)\n",
        "#dùng hàm st.norm.interval() khi chúng ta đang làm việc với các mẫu lớn hơn (n≥30)\n",
        "#st.sem : Tính sai số chuẩn của giá trị trung bình.\n",
        "st.norm.interval(alpha=0.9, loc=mean, scale=st.sem(sample))"
      ]
    },
    {
      "cell_type": "markdown",
      "source": [
        "Bài 2: You’re a time study analyst in manufacturing.  You’ve recorded the following task times (min.): 3.6, 4.2, 4.0, 3.5, 3.8, 3.1. What is the 90% confidence interval estimate of the population mean task time? \n",
        "\n",
        "Dịch : Bài 2: Bạn là một nhà phân tích nghiên cứu thời gian trong lĩnh vực sản xuất. Bạn đã ghi lại thời gian tác vụ sau (tối thiểu): 3.6, 4.2, 4.0, 3.5, 3.8, 3.1. Ước tính khoảng tin cậy 90% của thời gian thực hiện nhiệm vụ trung bình của tổng thể là bao nhiêu?"
      ],
      "metadata": {
        "id": "4VJASHC9ntzB"
      }
    },
    {
      "cell_type": "code",
      "source": [
        "#xác định dữ liệu \n",
        "data = [3.6, 4.2, 4.0, 3.5, 3.8, 3.1]\n",
        "#Sử dụng hàm t.interval() khi đang làm việc với một mẫu nhỏ (n <30)\n",
        "#ước tính khoảng tin cậy 90%\n",
        "st.t.interval(alpha=0.9,df= len(data)-1,loc=np.mean(data), scale=st.sem(data))\n"
      ],
      "metadata": {
        "colab": {
          "base_uri": "https://localhost:8080/"
        },
        "id": "6Itbqw4Uo_Td",
        "outputId": "7da23be0-4d22-425c-ab03-1f40fb7b507d"
      },
      "execution_count": null,
      "outputs": [
        {
          "output_type": "execute_result",
          "data": {
            "text/plain": [
              "(3.3792758632100677, 4.020724136789934)"
            ]
          },
          "metadata": {},
          "execution_count": 16
        }
      ]
    },
    {
      "cell_type": "markdown",
      "source": [
        "Bài 3: Does an average box of cereal contain \n",
        "\n",
        "1.   Mục danh sách\n",
        "2.   Mục danh sách\n",
        "\n",
        "368 grams of cereal? A random sample of 25 boxes had   $\\overline{\\rm x}$  = 372.5. The company has specified  σ  to be 25 grams. Test at the .05 level of significance.\n",
        "\n",
        "Dịch : Bài 3: Một hộp cốm trung bình có 368 gam cốm? Một mẫu ngẫu nhiên gồm 25 hộp có  $\\overline{\\rm x}$ = 372,5. Công ty đã quy định σ là 25 gram. Kiểm định ở mức ý nghĩa .05."
      ],
      "metadata": {
        "id": "wHI2F6MNrHfF"
      }
    },
    {
      "cell_type": "markdown",
      "source": [
        "Giả thuyết null : Một hộp cốm trung bình có 368 grams cốm\n",
        "\n",
        "$$H_0 = 368 $$\n",
        "Giả thuyết thay thế : Một hộp cốm trung không có 368 grams cốm\n",
        "$$H_a \\ne 368 $$"
      ],
      "metadata": {
        "id": "WbWzGsFqxzOa"
      }
    },
    {
      "cell_type": "code",
      "source": [
        "#Sinh ngẫu nhiên một mẫu 25 phần tử có trung bình mẫu là 372,5, độ lệch chuẩn là 25 \n",
        "samples = np.random.normal(372.5, 25, 25)\n",
        "print(samples[:10])"
      ],
      "metadata": {
        "id": "1z5Sw06-rRqo",
        "colab": {
          "base_uri": "https://localhost:8080/"
        },
        "outputId": "4b02212d-f639-4f92-9668-5c9cdb0886de"
      },
      "execution_count": null,
      "outputs": [
        {
          "output_type": "stream",
          "name": "stdout",
          "text": [
            "[339.65239006 336.35636627 391.12779725 372.43461635 355.06223913\n",
            " 349.83259222 421.32134312 371.61909444 403.73205049 403.11943998]\n"
          ]
        }
      ]
    },
    {
      "cell_type": "code",
      "source": [
        "#Xác định các thông số\n",
        "null_mean = 368 \n",
        "alpha = 0.05"
      ],
      "metadata": {
        "id": "aXEiFPf1zVud"
      },
      "execution_count": null,
      "outputs": []
    },
    {
      "cell_type": "code",
      "source": [
        "#Kiểm định z\n",
        "ztest_Score, p_value= ztest(samples, value = null_mean, alternative='larger')\n",
        "if(p_value <  alpha):\n",
        "  print(\"Có bằng chứng để bác bỏ giả thuyết H0\")\n",
        "else:\n",
        "  print(\"Chưa có bằng chứng để bác bỏ giả thuyết H0\")"
      ],
      "metadata": {
        "colab": {
          "base_uri": "https://localhost:8080/"
        },
        "id": "w8dS3ALHzhO4",
        "outputId": "47b8dd19-7f0f-4c8d-ecde-d407a65dd555"
      },
      "execution_count": null,
      "outputs": [
        {
          "output_type": "stream",
          "name": "stdout",
          "text": [
            "Chưa có bằng chứng để bác bỏ giả thuyết H0\n"
          ]
        }
      ]
    },
    {
      "cell_type": "markdown",
      "source": [
        "Bài 4: You’re a Q/C inspector. You want to find out if a new machine is making electrical cords to customer specification: average breaking strength of 70 lb. with  σ  = 3.5 lb. You take a sample of 36 cords & compute a sample mean of 69.7 lb. At the .05 level of significance, is there evidence that the machine is not meeting the average breaking strength?\n",
        "\n",
        "Dịch : Bài 4: Bạn là nhân viên kiểm tra Q / C. Bạn muốn tìm hiểu xem một chiếc máy mới có đang làm dây điện theo thông số kỹ thuật của khách hàng hay không: độ bền đứt trung bình là 70 lb. với σ = 3,5 lb. Bạn lấy mẫu 36 dây & tính giá trị trung bình mẫu là 69,7 lb. Tại 0,05 mức độ ý nghĩa, có bằng chứng cho thấy máy không đạt độ bền đứt trung bình không?\n"
      ],
      "metadata": {
        "id": "1MojmIHtzuK-"
      }
    },
    {
      "cell_type": "markdown",
      "source": [
        "Giả thuyết null : chiếc máy mới đang làm dây điện theo thông số kỹ thuật của khách hàng\n",
        "$$H_0 = 70 $$\n",
        "Giả thuyết thay thế : chiếc máy mới không làm dây điện theo thông số kỹ thuật của khách hàng\n",
        "$$H_1 \\ne 70 $$\n"
      ],
      "metadata": {
        "id": "8zij2Uvu0aC-"
      }
    },
    {
      "cell_type": "code",
      "source": [
        "#Sinh ngẫu nhiên một mẫu 36 phần tử có trung bình mẫu là 69,7; độ lệch chuẩn là 3,5\n",
        "samples = np.random.normal(69.7, 3.5, 36)\n",
        "print(samples[:10])"
      ],
      "metadata": {
        "colab": {
          "base_uri": "https://localhost:8080/"
        },
        "id": "1gGv4p1j0LDk",
        "outputId": "3f9fc4ee-fd35-4e9e-c235-4931fae8262d"
      },
      "execution_count": null,
      "outputs": [
        {
          "output_type": "stream",
          "name": "stdout",
          "text": [
            "[67.91596787 65.60866576 69.32164469 69.84461852 68.01689639 66.21598388\n",
            " 73.22305885 67.41234428 68.65228338 67.9121662 ]\n"
          ]
        }
      ]
    },
    {
      "cell_type": "code",
      "source": [
        "#Xác định các thông số\n",
        "null_mean = 70 \n",
        "alpha = 0.05"
      ],
      "metadata": {
        "id": "mlWZtUAOz7pA"
      },
      "execution_count": null,
      "outputs": []
    },
    {
      "cell_type": "code",
      "source": [
        "#Kiểm định z\n",
        "ztest_Score, p_value= ztest(samples, value = null_mean, alternative='larger')\n",
        "if(p_value <  alpha):\n",
        "  print(\"Có bằng chứng để bác bỏ giả thuyết H0\")\n",
        "else:\n",
        "  print(\"Chưa có bằng chứng để bác bỏ giả thuyết H0\")"
      ],
      "metadata": {
        "colab": {
          "base_uri": "https://localhost:8080/"
        },
        "id": "FFwsqz-Z1F72",
        "outputId": "0456a180-ed06-407a-c197-7cf92860ce86"
      },
      "execution_count": null,
      "outputs": [
        {
          "output_type": "stream",
          "name": "stdout",
          "text": [
            "Chưa có bằng chứng để bác bỏ giả thuyết H0\n"
          ]
        }
      ]
    },
    {
      "cell_type": "markdown",
      "source": [
        "Bài 5: Does an average box of cereal contain more than 368 grams of cereal? A random sample of 25 boxes showed   $\\overline{\\rm x}$ = 372.5. The company has specified  σ  to be 25 grams. Test at the .05 level of significance.\n",
        "\n",
        "Dịch : Bài 5: Trung bình một hộp cốm có nhiều hơn 368 gam cốm? Một mẫu ngẫu nhiên gồm 25 hộp cho thấy  $\\overline{\\rm x}$ = 372,5. Công ty đã quy định σ là 25 gram. Kiểm định ở mức ý nghĩa .05."
      ],
      "metadata": {
        "id": "tGxWsOyE1r_l"
      }
    },
    {
      "cell_type": "markdown",
      "source": [
        "Giả thuyết null : Một hộp cốm trung bình có 368 grams cốm\n",
        "\n",
        "$$H_0 = 368 $$\n",
        "Giả thuyết thay thế : Một hộp cốm có nhiều hơn 368 grams cốm\n",
        "$$H_1 > 368 $$\n",
        "\n"
      ],
      "metadata": {
        "id": "aAF1rmbm2SPx"
      }
    },
    {
      "cell_type": "code",
      "source": [
        "#Sinh ngẫu nhiên một mẫu 25 phần tử có trung bình mẫu là 372,5, độ lệch chuẩn là 25 \n",
        "samples = np.random.normal(372.5, 25, 25)\n",
        "print(samples[:10])"
      ],
      "metadata": {
        "colab": {
          "base_uri": "https://localhost:8080/"
        },
        "id": "b-ZcN96M2UQo",
        "outputId": "1fecfb36-9fb7-4e40-bc20-0e9ce7a50a20"
      },
      "execution_count": null,
      "outputs": [
        {
          "output_type": "stream",
          "name": "stdout",
          "text": [
            "[391.98737854 386.78469109 342.23611827 347.3834686  378.57038818\n",
            " 366.44804187 354.94744222 385.67636128 373.71102683 363.71512057]\n"
          ]
        }
      ]
    },
    {
      "cell_type": "code",
      "source": [
        "#Xác định các thông số\n",
        "null_mean = 368 \n",
        "alpha = 0.05"
      ],
      "metadata": {
        "id": "5DLkg4sx2YpE"
      },
      "execution_count": null,
      "outputs": []
    },
    {
      "cell_type": "code",
      "source": [
        "#Kiểm định z\n",
        "ztest_Score, p_value= ztest(samples, value = null_mean, alternative='larger')\n",
        "if(p_value <  alpha):\n",
        "  print(\"Có bằng chứng để bác bỏ giả thuyết H0\")\n",
        "else:\n",
        "  print(\"Chưa có bằng chứng để bác bỏ giả thuyết H0\")"
      ],
      "metadata": {
        "colab": {
          "base_uri": "https://localhost:8080/"
        },
        "id": "b0M7kmFh2buz",
        "outputId": "7781976e-6ac2-499c-9a06-00b8c8a67714"
      },
      "execution_count": null,
      "outputs": [
        {
          "output_type": "stream",
          "name": "stdout",
          "text": [
            "Chưa có bằng chứng để bác bỏ giả thuyết H0\n"
          ]
        }
      ]
    },
    {
      "cell_type": "markdown",
      "source": [
        "Bài 6: You’re an analyst for Ford. You want to find out if the average miles per gallon of Escorts is at least 32 mpg. Similar models have a standard deviation of 3.8 mpg. You take a sample of 60 Escorts & compute a sample mean of 30.7 mpg. At the .01 level of significance, is there evidence that the miles per gallon is less than 32?\n",
        "\n",
        "Dịch: Bài 6: Bạn là nhà phân tích của Ford. Bạn muốn tìm hiểu xem liệu số dặm trung bình trên một gallon của Escorts đạt tối thiểu là 32 mpg hay không. Các mô hình tương tự có độ lệch chuẩn là 3,8 mpg. Bạn lấy mẫu 60 Escorts và tính giá trị trung bình mẫu là 30,7 mpg. Với mức ý nghĩa 0,01, có bằng chứng nào cho thấy dặm trên gallon nhỏ hơn 32 không?"
      ],
      "metadata": {
        "id": "Gs7Dw5ZH2SZi"
      }
    },
    {
      "cell_type": "markdown",
      "source": [
        "Giả thuyết null : Số dặm trung bình trên một gallon của Escorts là 32 mpg\n",
        "$$H_0 = 32 $$\n",
        "Giả thuyết thay thế : Số dặm trung bình trên một gallon của Escorts nhỏ hơn 32 mpg\n",
        "$$H_1 < 32 $$\n"
      ],
      "metadata": {
        "id": "u_wRzEsx4Yrc"
      }
    },
    {
      "cell_type": "code",
      "source": [
        "#Sinh ngẫu nhiên một mẫu 60  phần tử có trung bình mẫu là 30,7; độ lệch chuẩn là 3,8\n",
        "samples = np.random.normal(30.7, 3.8, 60)\n",
        "print(samples[:10])"
      ],
      "metadata": {
        "colab": {
          "base_uri": "https://localhost:8080/"
        },
        "id": "DtSCSyz35opt",
        "outputId": "2dc6aa7e-ac23-4a4e-ca68-65ff76346be9"
      },
      "execution_count": null,
      "outputs": [
        {
          "output_type": "stream",
          "name": "stdout",
          "text": [
            "[31.52390345 24.81654844 24.4634265  38.44047924 27.38778899 26.25371167\n",
            " 29.19596645 28.76782425 30.31071681 37.59929482]\n"
          ]
        }
      ]
    },
    {
      "cell_type": "code",
      "source": [
        "#Xác định các thông số\n",
        "null_mean = 32  \n",
        "alpha = 0.01"
      ],
      "metadata": {
        "id": "VB8EAhar5xzb"
      },
      "execution_count": null,
      "outputs": []
    },
    {
      "cell_type": "code",
      "source": [
        "#Kiểm định z\n",
        "ztest_Score, p_value= ztest(samples, value = null_mean, alternative='larger')\n",
        "if(p_value <  alpha):\n",
        "  print(\"Có bằng chứng để bác bỏ giả thuyết H0\")\n",
        "else:\n",
        "  print(\"Chưa có bằng chứng để bác bỏ giả thuyết H0\")"
      ],
      "metadata": {
        "colab": {
          "base_uri": "https://localhost:8080/"
        },
        "id": "EFebmVut5zId",
        "outputId": "268684c6-1fb4-458f-fa3e-ae7273d49d9d"
      },
      "execution_count": null,
      "outputs": [
        {
          "output_type": "stream",
          "name": "stdout",
          "text": [
            "Có bằng chứng để bác bỏ giả thuyết H0\n"
          ]
        }
      ]
    },
    {
      "cell_type": "markdown",
      "source": [
        "Bài 7: Does an average box of cereal contain 368 grams of cereal? A random sample of 25 boxes showed  $\\overline{\\rm x}$  = 372.5. The company has specified  σ  to be 15 grams. Find the p-Value.\n",
        "\n",
        "Dịch: Bài 7: Một hộp cốm trung bình có 368 gam cốm? Một mẫu ngẫu nhiên gồm 25 hộp cho thấy $\\overline{\\rm x}$ = 372,5. Công ty đã quy định σ là 15 gam. Tìm giá trị p."
      ],
      "metadata": {
        "id": "FpjM_9iM2oKg"
      }
    },
    {
      "cell_type": "markdown",
      "source": [
        "Giả thuyết null : Một hộp cốm trung bình có 368 grams cốm\n",
        "\n",
        "$$H_0 = 368 $$\n",
        "Giả thuyết thay thế : Một hộp cốm trung không có 368 grams cốm\n",
        "$$H_a \\ne 368 $$"
      ],
      "metadata": {
        "id": "rZleL78-8Qcz"
      }
    },
    {
      "cell_type": "code",
      "source": [
        "#Sinh ngẫu nhiên một mẫu 25 phần tử có trung bình mẫu là 372,5, độ lệch chuẩn là 15 \n",
        "samples = np.random.normal(372.5, 15, 25)\n",
        "print(samples[:10])"
      ],
      "metadata": {
        "colab": {
          "base_uri": "https://localhost:8080/"
        },
        "id": "dbHp935U7lkZ",
        "outputId": "ee22e913-11b4-42f0-fdcf-eed504b9e15f"
      },
      "execution_count": null,
      "outputs": [
        {
          "output_type": "stream",
          "name": "stdout",
          "text": [
            "[397.96016488 376.04531818 369.34061567 371.12061792 358.31517328\n",
            " 368.62021245 365.49488515 371.5258806  356.8234941  369.30920795]\n"
          ]
        }
      ]
    },
    {
      "cell_type": "code",
      "source": [
        "#Xác định các thông số\n",
        "null_mean = 368 "
      ],
      "metadata": {
        "id": "IrIXF9Rv8ugg"
      },
      "execution_count": null,
      "outputs": []
    },
    {
      "cell_type": "code",
      "source": [
        "# Kiểm định z:\n",
        "ztest_Score, p_value= ztest(samples, value = null_mean, alternative='two-sided')\n",
        "print(f\"p-value: {p_value}\")"
      ],
      "metadata": {
        "colab": {
          "base_uri": "https://localhost:8080/"
        },
        "id": "Pudxh6ym80wJ",
        "outputId": "49c0c527-4bb0-4e97-cf0f-39c81a282298"
      },
      "execution_count": null,
      "outputs": [
        {
          "output_type": "stream",
          "name": "stdout",
          "text": [
            "p-value: 0.08431218686214838\n"
          ]
        }
      ]
    },
    {
      "cell_type": "markdown",
      "source": [
        "Bài 8: Does an average box of cereal contain more than 368 grams of cereal? A random sample of 25 boxes showed  $\\overline{\\rm x}$ = 372.5. The company has specified  σ  to be 15 grams. Find the p-Value.\n",
        "\n",
        "Dịch: Bài 8: Trung bình một hộp cốm có nhiều hơn 368 gam cốm? Một mẫu ngẫu nhiên gồm 25 hộp cho thấy$\\overline{\\rm x}$ = 372,5. Công ty đã quy định σ là 15 gam. Tìm giá trị p."
      ],
      "metadata": {
        "id": "aHFatHl02yms"
      }
    },
    {
      "cell_type": "markdown",
      "source": [
        "Giả thuyết null : Một hộp cốm trung bình có 368 grams cốm\n",
        "\n",
        "$$H_0 = 368 $$\n",
        "Giả thuyết thay thế : Một hộp cốm có nhiều hơn 368 grams cốm\n",
        "$$H_1 > 368 $$"
      ],
      "metadata": {
        "id": "E20R0La8-emc"
      }
    },
    {
      "cell_type": "code",
      "source": [
        "#Sinh ngẫu nhiên một mẫu 25 phần tử có trung bình mẫu là 372,5, độ lệch chuẩn là 15 \n",
        "samples = np.random.normal(372.5, 15, 25)\n",
        "print(samples[:10])"
      ],
      "metadata": {
        "colab": {
          "base_uri": "https://localhost:8080/"
        },
        "id": "HytCoq42-kzG",
        "outputId": "c61212e5-995c-4828-8d09-0b7a7b3a7304"
      },
      "execution_count": null,
      "outputs": [
        {
          "output_type": "stream",
          "name": "stdout",
          "text": [
            "[364.558873   407.26081826 350.88867173 390.49530167 371.62439117\n",
            " 372.80396858 383.9701208  412.55831063 351.40022821 346.02841632]\n"
          ]
        }
      ]
    },
    {
      "cell_type": "code",
      "source": [
        "#Xác định các thông số\n",
        "null_mean = 368 "
      ],
      "metadata": {
        "id": "nEm-H2Ys-pBp"
      },
      "execution_count": null,
      "outputs": []
    },
    {
      "cell_type": "code",
      "source": [
        "# Kiểm định z:\n",
        "ztest_Score, p_value= ztest(samples, value = null_mean, alternative='larger')\n",
        "print(f\"p-value: {p_value}\")"
      ],
      "metadata": {
        "colab": {
          "base_uri": "https://localhost:8080/"
        },
        "id": "MoeLtNOn-sHZ",
        "outputId": "baaadca8-e1ad-4b1e-ce1a-ab5ba4eadd4e"
      },
      "execution_count": null,
      "outputs": [
        {
          "output_type": "stream",
          "name": "stdout",
          "text": [
            "p-value: 0.0572538755978623\n"
          ]
        }
      ]
    },
    {
      "cell_type": "markdown",
      "source": [
        "Bài 9: You’re an analyst for Ford. You want to find out if the average miles per gallon of Escorts is less than 32 mpg. Similar models have a standard deviation of 3.8 mpg. You take a sample of 60 Escorts & compute a sample mean of 30.7 mpg. What is the value of the observed level of significance (p-Value)?\n",
        "\n",
        "Dịch: Bài 9: Bạn là nhà phân tích của Ford. Bạn muốn tìm hiểu xem số dặm trung bình trên mỗi gallon của Hộ tống đạt có nhỏ hơn 32 mpg hay không. Các mô hình tương tự có độ lệch chuẩn là 3,8 mpg. Bạn lấy mẫu 60 Escorts và tính giá trị trung bình mẫu là 30,7 mpg. Giá trị của mức ý nghĩa quan sát (p-Value) là bao nhiêu?"
      ],
      "metadata": {
        "id": "tBloGvKX17cD"
      }
    },
    {
      "cell_type": "markdown",
      "source": [
        "Giả thuyết null : Số dặm trung bình trên một gallon của Escorts là 32 mpg\n",
        "$$H_0 = 32 $$\n",
        "Giả thuyết thay thế : Số dặm trung bình trên một gallon của Escorts nhỏ hơn 32 mpg\n",
        "$$H_1 < 32 $$\n"
      ],
      "metadata": {
        "id": "pPikyV3Y_Syu"
      }
    },
    {
      "cell_type": "code",
      "source": [
        "#Sinh ngẫu nhiên một mẫu 60  phần tử có trung bình mẫu là 30,7; độ lệch chuẩn là 3,8\n",
        "samples = np.random.normal(30.7, 3.8, 60)\n",
        "print(samples[:10])"
      ],
      "metadata": {
        "colab": {
          "base_uri": "https://localhost:8080/"
        },
        "id": "7Bc-1ni6_Tx5",
        "outputId": "eb74e075-e01f-4629-b445-2e6d803a1789"
      },
      "execution_count": null,
      "outputs": [
        {
          "output_type": "stream",
          "name": "stdout",
          "text": [
            "[31.65390564 24.8055891  24.19983036 34.34717523 27.2843728  32.29917181\n",
            " 31.73558758 30.55599816 33.68306119 31.65627446]\n"
          ]
        }
      ]
    },
    {
      "cell_type": "code",
      "source": [
        "#Xác định các thông số\n",
        "null_mean = 32 "
      ],
      "metadata": {
        "id": "Th1TxZGo_cF8"
      },
      "execution_count": null,
      "outputs": []
    },
    {
      "cell_type": "code",
      "source": [
        "#thông số nhỏ nên có thể sử dụng kiểm định t\n",
        "#Kiểm định t:\n",
        "t_test, p_value= stats.ttest_1samp(samples, null_mean)\n",
        "print(\"p_value: \",p_value)\n",
        "\n"
      ],
      "metadata": {
        "colab": {
          "base_uri": "https://localhost:8080/"
        },
        "id": "GvGfXdWy_hEz",
        "outputId": "597db476-69b8-42ff-9f1f-e52d16906a22"
      },
      "execution_count": null,
      "outputs": [
        {
          "output_type": "stream",
          "name": "stdout",
          "text": [
            "p_value:  1.727570361714106e-118\n"
          ]
        }
      ]
    },
    {
      "cell_type": "markdown",
      "source": [
        "Bài 10: Does an average box of cereal contain 368 grams of cereal? A random sample of 36 boxes had a mean of 372.5 and a standard deviation of 12 grams. Test at the .05 level of significance.\n",
        "\n",
        "Dịch: Bài 10: Một hộp cốm trung bình có 368 gam cốm? Một mẫu ngẫu nhiên gồm 36 hộp có giá trị trung bình là 372,5 và độ lệch chuẩn là 12 gam. Kiểm định ở mức ý nghĩa .05."
      ],
      "metadata": {
        "id": "bkJ0zniW3L4l"
      }
    },
    {
      "cell_type": "markdown",
      "source": [
        "Giả thuyết null : Một hộp cốm trung bình có 368 grams cốm\n",
        "\n",
        "$$H_0 = 368 $$\n",
        "Giả thuyết thay thế : Một hộp cốm trung không có 368 grams cốm\n",
        "$$H_a \\ne 368 $$"
      ],
      "metadata": {
        "id": "OtjZcICjASIf"
      }
    },
    {
      "cell_type": "code",
      "source": [
        "#Sinh ngẫu nhiên một mẫu 36 phần tử có trung bình mẫu là 372,5, độ lệch chuẩn là 12\n",
        "samples = np.random.normal(372.5, 12, 36)\n",
        "print(samples[:10])"
      ],
      "metadata": {
        "colab": {
          "base_uri": "https://localhost:8080/"
        },
        "id": "qEEEMzn6ALQq",
        "outputId": "6beaeddc-73d4-4066-9dad-1b85b98443dc"
      },
      "execution_count": null,
      "outputs": [
        {
          "output_type": "stream",
          "name": "stdout",
          "text": [
            "[380.61799404 360.45787288 366.38864997 380.43140072 368.15587695\n",
            " 356.74803086 365.99044024 384.07405296 368.93001293 375.83971245]\n"
          ]
        }
      ]
    },
    {
      "cell_type": "code",
      "source": [
        "#Xác định các thông số\n",
        "null_mean = 368 \n",
        "alpha = 0.05"
      ],
      "metadata": {
        "id": "Cijbk8-DAWqX"
      },
      "execution_count": null,
      "outputs": []
    },
    {
      "cell_type": "code",
      "source": [
        "#Kiểm định z\n",
        "ztest_Score, p_value= ztest(samples, value = null_mean, alternative='larger')\n",
        "if(p_value <  alpha):\n",
        "  print(\"Có bằng chứng để bác bỏ giả thuyết H0\")\n",
        "else:\n",
        "  print(\"Chưa có bằng chứng để bác bỏ giả thuyết H0\")"
      ],
      "metadata": {
        "colab": {
          "base_uri": "https://localhost:8080/"
        },
        "id": "RRNuadaPAqHe",
        "outputId": "a6f150e4-1dd7-443a-d7dc-d4b98959d136"
      },
      "execution_count": null,
      "outputs": [
        {
          "output_type": "stream",
          "name": "stdout",
          "text": [
            "Chưa có bằng chứng để bác bỏ giả thuyết H0\n"
          ]
        }
      ]
    },
    {
      "cell_type": "markdown",
      "source": [
        "Bài 11: You work for the FTC. A manufacturer of detergent claims that the mean weight of detergent is 3.25 lb. You take a random sample of 64 containers. You calculate the sample average to be 3.238 lb. with a standard deviation of .117 lb. At the .01 level of significance, is the manufacturer correct?\n",
        "\n",
        "Dịch: Bài 11: Bạn làm việc cho FTC. Một nhà sản xuất chất tẩy rửa tuyên bố rằng trọng lượng trung bình của chất tẩy rửa là 3,25 lb. Bạn lấy một mẫu ngẫu nhiên gồm 64 thùng chứa. Bạn tính giá trị trung bình của mẫu là 3,238 lb. với độ lệch chuẩn là 0,117 lb. Với mức ý nghĩa 0,01, nhà sản xuất có đúng không?"
      ],
      "metadata": {
        "id": "-NhovGF83SAR"
      }
    },
    {
      "cell_type": "markdown",
      "source": [
        "Giả thuyết null : Trọng lượng trung bình của chất tẩy rửa là 3,25 \n",
        "\n",
        "$$H_0 = 3,25 $$\n",
        "Giả thuyết thay thế : Trọng lượng trung bình của chất tẩy rửa không phải là 3,25 \n",
        "\n",
        "$$H_a \\ne 3,25 $$"
      ],
      "metadata": {
        "id": "I4g_-ppKA8u_"
      }
    },
    {
      "cell_type": "code",
      "source": [
        "#Sinh ngẫu nhiên một mẫu 64 phần tử có trung bình mẫu là 3,238; độ lệch chuẩn là 0,117 \n",
        "samples = np.random.normal(3.238,0.117,64)\n",
        "print(samples[:10])"
      ],
      "metadata": {
        "colab": {
          "base_uri": "https://localhost:8080/"
        },
        "id": "EFBdDQFMBWZT",
        "outputId": "b88ecdf6-853a-4827-81e4-ddf377d62fe1"
      },
      "execution_count": 5,
      "outputs": [
        {
          "output_type": "stream",
          "name": "stdout",
          "text": [
            "[3.32236768 3.42275951 3.1275774  3.1986546  3.32242753 3.22378589\n",
            " 2.95625983 3.17589853 3.12388897 3.07381007]\n"
          ]
        }
      ]
    },
    {
      "cell_type": "code",
      "source": [
        "#Xác định các thông số\n",
        "null_mean = 3.25\n",
        "alpha = 0.01 "
      ],
      "metadata": {
        "id": "3hlZT20mBYvy"
      },
      "execution_count": 6,
      "outputs": []
    },
    {
      "cell_type": "code",
      "source": [
        "#Kiểm định z\n",
        "ztest_Score, p_value= ztest(samples, value = null_mean, alternative='larger')\n",
        "if(p_value < alpha):\n",
        "  print(\"Có bằng chứng để bác bỏ giả thuyết H0\")\n",
        "else:\n",
        "  print(\"Chưa có bằng chứng để bác bỏ giả thuyết H0\")"
      ],
      "metadata": {
        "colab": {
          "base_uri": "https://localhost:8080/"
        },
        "id": "su72NInDBbCc",
        "outputId": "1c96f260-f62f-45cd-87a8-efb48749714a"
      },
      "execution_count": 7,
      "outputs": [
        {
          "output_type": "stream",
          "name": "stdout",
          "text": [
            "Chưa có bằng chứng để bác bỏ giả thuyết H0\n"
          ]
        }
      ]
    },
    {
      "cell_type": "markdown",
      "source": [
        "Bài 12: Is the average capacity of batteries less than 140 ampere-hours? A random sample of 20 batteries had a mean of 138.47 and a standard deviation of 2.66. Assume a normal distribution. Test at the .05 level of significance.\n",
        "\n",
        "Dịch: Bài 12: Công suất trung bình của acquy nhỏ hơn 140 ampe-giờ? Một mẫu ngẫu nhiên gồm 20 pin có giá trị trung bình là 138,47 và độ lệch chuẩn là 2,66. Giả sử một phân phối chuẩn. Kiểm định ở mức ý nghĩa .05."
      ],
      "metadata": {
        "id": "SopkWMtQ3ZiC"
      }
    },
    {
      "cell_type": "markdown",
      "source": [
        "Giả thuyết null : Công suất trung bình của acquy bằng 140 ampe/giờ \n",
        "$$H_0 = 140  $$\n",
        "Giả thuyết thay thế : Công suất trung bình của acquy nhỏ hơn  140 ampe/giờ  \n",
        "\n",
        "$$H_a < 140 $$"
      ],
      "metadata": {
        "id": "rC4RJtjUC-IK"
      }
    },
    {
      "cell_type": "code",
      "source": [
        "#Sinh ngẫu nhiên một mẫu 20 phần tử có trung bình mẫu là 138,47 ; độ lệch chuẩn là 2,26  \n",
        "samples = np.random.normal(138.47,2.26,20)\n",
        "print(samples[:10])"
      ],
      "metadata": {
        "colab": {
          "base_uri": "https://localhost:8080/"
        },
        "id": "Lnh1PISODaEp",
        "outputId": "b75268a5-4881-470d-f7b2-8ecee54946b9"
      },
      "execution_count": null,
      "outputs": [
        {
          "output_type": "stream",
          "name": "stdout",
          "text": [
            "[140.67685854 138.3502407  139.24349185 135.27155759 135.70868785\n",
            " 137.48570262 141.15642781 138.7488253  136.39155511 135.94287325]\n"
          ]
        }
      ]
    },
    {
      "cell_type": "code",
      "source": [
        "#Xác định các thông số\n",
        "null_mean = 140 \n",
        "alpha = 0.05"
      ],
      "metadata": {
        "id": "tN6Lza5NDaOm"
      },
      "execution_count": null,
      "outputs": []
    },
    {
      "cell_type": "code",
      "source": [
        "#Kiểm định z\n",
        "ztest_Score, p_value= ztest(samples, value = null_mean, alternative='larger')\n",
        "if(p_value < alpha):\n",
        "  print(\"Có bằng chứng để bác bỏ giả thuyết H0\")\n",
        "else:\n",
        "  print(\"Chưa có bằng chứng để bác bỏ giả thuyết H0\")"
      ],
      "metadata": {
        "colab": {
          "base_uri": "https://localhost:8080/"
        },
        "id": "AQ_fORlVDaWd",
        "outputId": "74c9edc0-42fd-4c6e-e188-a498d86f7286"
      },
      "execution_count": null,
      "outputs": [
        {
          "output_type": "stream",
          "name": "stdout",
          "text": [
            "Chưa có bằng chứng để bác bỏ giả thuyết H0\n"
          ]
        }
      ]
    },
    {
      "cell_type": "markdown",
      "source": [
        "Bài 13: You’re a marketing analyst for Wal-Mart. Wal-Mart had teddy bears on sale last week. The weekly sales of bears sold in 10 stores was: 8 11 0 4 7 8 10 5 8 3. At the .05 level of significance, is there evidence that the average bear sales per store is more than 5?\n",
        "\n",
        "Dịch: Bài 13: Bạn là nhà phân tích tiếp thị của Wal-Mart. Wal-Mart đã bán gấu bông vào tuần trước. Doanh thu hàng tuần của số gấu bán được ở 10 cửa hàng là: 8 11 0 4 7 8 10 5 8 3. Với mức ý nghĩa 0,05, có bằng chứng nào cho thấy doanh thu trung bình của mỗi cửa hàng là hơn 5 con không?"
      ],
      "metadata": {
        "id": "BgDv7wwY3fch"
      }
    },
    {
      "cell_type": "markdown",
      "source": [
        "Giả thuyết null : Doanh thu trung bình của mỗi cửa hàng là 5 con  \n",
        "$$H_0 = 5   $$\n",
        "Giả thuyết thay thế : Doanh thu trung bình của mỗi cửa hàng là hơn  5 con   \n",
        "\n",
        "$$H_a > 5 $$"
      ],
      "metadata": {
        "id": "2aloQfrgDxtG"
      }
    },
    {
      "cell_type": "code",
      "source": [
        "#Có sẵn mẫu\n",
        "samples = np.array([8,11, 0, 4, 7, 8, 10, 5, 8, 3])"
      ],
      "metadata": {
        "id": "DOzb-WpVEM74"
      },
      "execution_count": null,
      "outputs": []
    },
    {
      "cell_type": "code",
      "source": [
        "#Xác định các thông số\n",
        "null_mean = 5 \n",
        "alpha = 0.05"
      ],
      "metadata": {
        "id": "iglO_VNZENEp"
      },
      "execution_count": null,
      "outputs": []
    },
    {
      "cell_type": "code",
      "source": [
        "#Kiểm định z\n",
        "ztest_Score, p_value= ztest(samples, value = null_mean, alternative='larger')\n",
        "if(p_value < alpha):\n",
        "  print(\"Có bằng chứng để bác bỏ giả thuyết H0\")\n",
        "else:\n",
        "  print(\"Chưa có bằng chứng để bác bỏ giả thuyết H0\")"
      ],
      "metadata": {
        "colab": {
          "base_uri": "https://localhost:8080/"
        },
        "id": "BC1raWaPENL7",
        "outputId": "cfaf1878-60cb-4baa-d417-326badf03ee0"
      },
      "execution_count": null,
      "outputs": [
        {
          "output_type": "stream",
          "name": "stdout",
          "text": [
            "Chưa có bằng chứng để bác bỏ giả thuyết H0\n"
          ]
        }
      ]
    }
  ]
}