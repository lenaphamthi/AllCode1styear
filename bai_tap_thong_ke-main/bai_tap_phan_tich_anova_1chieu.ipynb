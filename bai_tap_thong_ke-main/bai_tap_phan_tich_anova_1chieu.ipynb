{
  "nbformat": 4,
  "nbformat_minor": 0,
  "metadata": {
    "colab": {
      "name": "bai_tap_phan_tich_anova_1chieu.ipynb",
      "provenance": [],
      "mount_file_id": "1oxAkubSpByS5xBYfnhiA9l2hGl_E81tY",
      "authorship_tag": "ABX9TyPKhF6FkPfSBtDcYorTrFAf",
      "include_colab_link": true
    },
    "kernelspec": {
      "name": "python3",
      "display_name": "Python 3"
    },
    "language_info": {
      "name": "python"
    }
  },
  "cells": [
    {
      "cell_type": "markdown",
      "metadata": {
        "id": "view-in-github",
        "colab_type": "text"
      },
      "source": [
        "<a href=\"https://colab.research.google.com/github/lenaphamthi/bai_tap_thong_ke/blob/main/bai_tap_phan_tich_anova_1chieu.ipynb\" target=\"_parent\"><img src=\"https://colab.research.google.com/assets/colab-badge.svg\" alt=\"Open In Colab\"/></a>"
      ]
    },
    {
      "cell_type": "markdown",
      "source": [
        "Hãy sử dụng các tập dữ liệu sau và tiến hành phân tích ANOVA 1 chiều\n",
        "\n",
        "- [Excavation Depth and Archaeology](https://college.cengage.com/mathematics/brase/understandable_statistics/7e/students/datasets/owan/frames/owan01.html)\n",
        "- [Apple Orchard Experiment](https://college.cengage.com/mathematics/brase/understandable_statistics/7e/students/datasets/owan/frames/owan02.html)\n",
        "- [Red Dye Number 40](https://college.cengage.com/mathematics/brase/understandable_statistics/7e/students/datasets/owan/frames/owan03.html)\n",
        "- [Business Startup Costs](https://college.cengage.com/mathematics/brase/understandable_statistics/7e/students/datasets/owan/frames/owan04.html)\n",
        "- [Weights of Football Players](https://college.cengage.com/mathematics/brase/understandable_statistics/7e/students/datasets/owan/frames/owan05.html)"
      ],
      "metadata": {
        "id": "ZpVdx3aBmlKA"
      }
    },
    {
      "cell_type": "code",
      "source": [
        "from google.colab import drive\n",
        "drive.mount('/content/drive')"
      ],
      "metadata": {
        "colab": {
          "base_uri": "https://localhost:8080/"
        },
        "id": "256mYZaSl0-X",
        "outputId": "827c43a9-38da-4914-b0c5-403a62cf50cf"
      },
      "execution_count": null,
      "outputs": [
        {
          "output_type": "stream",
          "name": "stdout",
          "text": [
            "Drive already mounted at /content/drive; to attempt to forcibly remount, call drive.mount(\"/content/drive\", force_remount=True).\n"
          ]
        }
      ]
    },
    {
      "cell_type": "code",
      "execution_count": null,
      "metadata": {
        "colab": {
          "base_uri": "https://localhost:8080/"
        },
        "id": "kc-xWxvtlqLc",
        "outputId": "c6202124-5b56-499d-9c65-8e6008ee8fc5"
      },
      "outputs": [
        {
          "output_type": "stream",
          "name": "stdout",
          "text": [
            "Requirement already satisfied: xlrd in /usr/local/lib/python3.7/dist-packages (1.1.0)\n",
            "Collecting xlrd\n",
            "  Downloading xlrd-2.0.1-py2.py3-none-any.whl (96 kB)\n",
            "\u001b[?25l\r\u001b[K     |███▍                            | 10 kB 17.8 MB/s eta 0:00:01\r\u001b[K     |██████▉                         | 20 kB 23.8 MB/s eta 0:00:01\r\u001b[K     |██████████▏                     | 30 kB 29.3 MB/s eta 0:00:01\r\u001b[K     |█████████████▋                  | 40 kB 15.5 MB/s eta 0:00:01\r\u001b[K     |█████████████████               | 51 kB 13.0 MB/s eta 0:00:01\r\u001b[K     |████████████████████▍           | 61 kB 15.1 MB/s eta 0:00:01\r\u001b[K     |███████████████████████▊        | 71 kB 13.2 MB/s eta 0:00:01\r\u001b[K     |███████████████████████████▏    | 81 kB 14.6 MB/s eta 0:00:01\r\u001b[K     |██████████████████████████████▌ | 92 kB 16.1 MB/s eta 0:00:01\r\u001b[K     |████████████████████████████████| 96 kB 5.1 MB/s \n",
            "\u001b[?25hInstalling collected packages: xlrd\n",
            "  Attempting uninstall: xlrd\n",
            "    Found existing installation: xlrd 1.1.0\n",
            "    Uninstalling xlrd-1.1.0:\n",
            "      Successfully uninstalled xlrd-1.1.0\n",
            "Successfully installed xlrd-2.0.1\n"
          ]
        }
      ],
      "source": [
        "!pip install --upgrade xlrd"
      ]
    },
    {
      "cell_type": "markdown",
      "source": [
        "Khai báo các thư viện cần thiết: "
      ],
      "metadata": {
        "id": "Lla-J_Q6mor5"
      }
    },
    {
      "cell_type": "code",
      "source": [
        "import numpy as np\n",
        "import pandas as pd\n",
        "import scipy.stats as st \n",
        "import xlrd"
      ],
      "metadata": {
        "id": "EUq1mqz4l5-A"
      },
      "execution_count": null,
      "outputs": []
    },
    {
      "cell_type": "markdown",
      "source": [
        "**1.Phân tích ANOVA 1 chiều với Excavation Depth and Archaeology ( Độ sâu khai quật và khảo cổ học)**"
      ],
      "metadata": {
        "id": "hETq6SGomxUD"
      }
    },
    {
      "cell_type": "markdown",
      "source": [
        "*Đề bài : Độ sâu khai quật và khảo cổ học*\n",
        "\n",
        "Bốn địa điểm khai quật khác nhau tại một khu vực khảo cổ ở New Mexico đã đưa ra độ sâu sau (cm) cho những khám phá khảo cổ học quan trọng.\n",
        "\n",
        "X1 = độ sâu tại Vị trí I\n",
        "\n",
        "X2 = độ sâu tại Vị trí II\n",
        "\n",
        "X3 = độ sâu tại Vị trí III\n",
        "\n",
        "X4 = độ sâu tại Vị trí IV "
      ],
      "metadata": {
        "id": "d1LAFOrvmx31"
      }
    },
    {
      "cell_type": "markdown",
      "source": [
        "Xây dựng giả thuyết :\n",
        "$$H_{0}: \\mu_{1} = \\mu_{2} = ... = \\mu_{n}$$\n",
        "$$H_{a}: \\text{Tồn tại ít nhất một cặp } (\\mu_{i}, \\mu_{j}) \\text{ có giá trị khác nhau}$$"
      ],
      "metadata": {
        "id": "-iFrJz87nY7c"
      }
    },
    {
      "cell_type": "code",
      "source": [
        "#Đọc file excel \n",
        "df1 = pd.read_excel(\"/owan01.xls\",engine=\"xlrd\")\n",
        "df1"
      ],
      "metadata": {
        "colab": {
          "base_uri": "https://localhost:8080/",
          "height": 537
        },
        "id": "-DZb3pyhl8WH",
        "outputId": "1ed0dbc4-da29-403f-a09f-04ba07f88374"
      },
      "execution_count": 6,
      "outputs": [
        {
          "output_type": "stream",
          "name": "stdout",
          "text": [
            "*** No CODEPAGE record, no encoding_override: will use 'iso-8859-1'\n"
          ]
        },
        {
          "output_type": "execute_result",
          "data": {
            "text/plain": [
              "     X1    X2     X3    X4\n",
              "0    93  85.0  100.0  96.0\n",
              "1   120  45.0   75.0  58.0\n",
              "2    65  80.0   65.0  95.0\n",
              "3   105  28.0   40.0  90.0\n",
              "4   115  75.0   73.0  65.0\n",
              "5    82  70.0   65.0  80.0\n",
              "6    99  65.0   50.0  85.0\n",
              "7    87  55.0   30.0  95.0\n",
              "8   100  50.0   45.0  82.0\n",
              "9    90  40.0   50.0   NaN\n",
              "10   78   NaN   45.0   NaN\n",
              "11   95   NaN   55.0   NaN\n",
              "12   93   NaN    NaN   NaN\n",
              "13   88   NaN    NaN   NaN\n",
              "14  110   NaN    NaN   NaN"
            ],
            "text/html": [
              "\n",
              "  <div id=\"df-1cf11a15-ada3-4cca-b5cc-56050fc6a083\">\n",
              "    <div class=\"colab-df-container\">\n",
              "      <div>\n",
              "<style scoped>\n",
              "    .dataframe tbody tr th:only-of-type {\n",
              "        vertical-align: middle;\n",
              "    }\n",
              "\n",
              "    .dataframe tbody tr th {\n",
              "        vertical-align: top;\n",
              "    }\n",
              "\n",
              "    .dataframe thead th {\n",
              "        text-align: right;\n",
              "    }\n",
              "</style>\n",
              "<table border=\"1\" class=\"dataframe\">\n",
              "  <thead>\n",
              "    <tr style=\"text-align: right;\">\n",
              "      <th></th>\n",
              "      <th>X1</th>\n",
              "      <th>X2</th>\n",
              "      <th>X3</th>\n",
              "      <th>X4</th>\n",
              "    </tr>\n",
              "  </thead>\n",
              "  <tbody>\n",
              "    <tr>\n",
              "      <th>0</th>\n",
              "      <td>93</td>\n",
              "      <td>85.0</td>\n",
              "      <td>100.0</td>\n",
              "      <td>96.0</td>\n",
              "    </tr>\n",
              "    <tr>\n",
              "      <th>1</th>\n",
              "      <td>120</td>\n",
              "      <td>45.0</td>\n",
              "      <td>75.0</td>\n",
              "      <td>58.0</td>\n",
              "    </tr>\n",
              "    <tr>\n",
              "      <th>2</th>\n",
              "      <td>65</td>\n",
              "      <td>80.0</td>\n",
              "      <td>65.0</td>\n",
              "      <td>95.0</td>\n",
              "    </tr>\n",
              "    <tr>\n",
              "      <th>3</th>\n",
              "      <td>105</td>\n",
              "      <td>28.0</td>\n",
              "      <td>40.0</td>\n",
              "      <td>90.0</td>\n",
              "    </tr>\n",
              "    <tr>\n",
              "      <th>4</th>\n",
              "      <td>115</td>\n",
              "      <td>75.0</td>\n",
              "      <td>73.0</td>\n",
              "      <td>65.0</td>\n",
              "    </tr>\n",
              "    <tr>\n",
              "      <th>5</th>\n",
              "      <td>82</td>\n",
              "      <td>70.0</td>\n",
              "      <td>65.0</td>\n",
              "      <td>80.0</td>\n",
              "    </tr>\n",
              "    <tr>\n",
              "      <th>6</th>\n",
              "      <td>99</td>\n",
              "      <td>65.0</td>\n",
              "      <td>50.0</td>\n",
              "      <td>85.0</td>\n",
              "    </tr>\n",
              "    <tr>\n",
              "      <th>7</th>\n",
              "      <td>87</td>\n",
              "      <td>55.0</td>\n",
              "      <td>30.0</td>\n",
              "      <td>95.0</td>\n",
              "    </tr>\n",
              "    <tr>\n",
              "      <th>8</th>\n",
              "      <td>100</td>\n",
              "      <td>50.0</td>\n",
              "      <td>45.0</td>\n",
              "      <td>82.0</td>\n",
              "    </tr>\n",
              "    <tr>\n",
              "      <th>9</th>\n",
              "      <td>90</td>\n",
              "      <td>40.0</td>\n",
              "      <td>50.0</td>\n",
              "      <td>NaN</td>\n",
              "    </tr>\n",
              "    <tr>\n",
              "      <th>10</th>\n",
              "      <td>78</td>\n",
              "      <td>NaN</td>\n",
              "      <td>45.0</td>\n",
              "      <td>NaN</td>\n",
              "    </tr>\n",
              "    <tr>\n",
              "      <th>11</th>\n",
              "      <td>95</td>\n",
              "      <td>NaN</td>\n",
              "      <td>55.0</td>\n",
              "      <td>NaN</td>\n",
              "    </tr>\n",
              "    <tr>\n",
              "      <th>12</th>\n",
              "      <td>93</td>\n",
              "      <td>NaN</td>\n",
              "      <td>NaN</td>\n",
              "      <td>NaN</td>\n",
              "    </tr>\n",
              "    <tr>\n",
              "      <th>13</th>\n",
              "      <td>88</td>\n",
              "      <td>NaN</td>\n",
              "      <td>NaN</td>\n",
              "      <td>NaN</td>\n",
              "    </tr>\n",
              "    <tr>\n",
              "      <th>14</th>\n",
              "      <td>110</td>\n",
              "      <td>NaN</td>\n",
              "      <td>NaN</td>\n",
              "      <td>NaN</td>\n",
              "    </tr>\n",
              "  </tbody>\n",
              "</table>\n",
              "</div>\n",
              "      <button class=\"colab-df-convert\" onclick=\"convertToInteractive('df-1cf11a15-ada3-4cca-b5cc-56050fc6a083')\"\n",
              "              title=\"Convert this dataframe to an interactive table.\"\n",
              "              style=\"display:none;\">\n",
              "        \n",
              "  <svg xmlns=\"http://www.w3.org/2000/svg\" height=\"24px\"viewBox=\"0 0 24 24\"\n",
              "       width=\"24px\">\n",
              "    <path d=\"M0 0h24v24H0V0z\" fill=\"none\"/>\n",
              "    <path d=\"M18.56 5.44l.94 2.06.94-2.06 2.06-.94-2.06-.94-.94-2.06-.94 2.06-2.06.94zm-11 1L8.5 8.5l.94-2.06 2.06-.94-2.06-.94L8.5 2.5l-.94 2.06-2.06.94zm10 10l.94 2.06.94-2.06 2.06-.94-2.06-.94-.94-2.06-.94 2.06-2.06.94z\"/><path d=\"M17.41 7.96l-1.37-1.37c-.4-.4-.92-.59-1.43-.59-.52 0-1.04.2-1.43.59L10.3 9.45l-7.72 7.72c-.78.78-.78 2.05 0 2.83L4 21.41c.39.39.9.59 1.41.59.51 0 1.02-.2 1.41-.59l7.78-7.78 2.81-2.81c.8-.78.8-2.07 0-2.86zM5.41 20L4 18.59l7.72-7.72 1.47 1.35L5.41 20z\"/>\n",
              "  </svg>\n",
              "      </button>\n",
              "      \n",
              "  <style>\n",
              "    .colab-df-container {\n",
              "      display:flex;\n",
              "      flex-wrap:wrap;\n",
              "      gap: 12px;\n",
              "    }\n",
              "\n",
              "    .colab-df-convert {\n",
              "      background-color: #E8F0FE;\n",
              "      border: none;\n",
              "      border-radius: 50%;\n",
              "      cursor: pointer;\n",
              "      display: none;\n",
              "      fill: #1967D2;\n",
              "      height: 32px;\n",
              "      padding: 0 0 0 0;\n",
              "      width: 32px;\n",
              "    }\n",
              "\n",
              "    .colab-df-convert:hover {\n",
              "      background-color: #E2EBFA;\n",
              "      box-shadow: 0px 1px 2px rgba(60, 64, 67, 0.3), 0px 1px 3px 1px rgba(60, 64, 67, 0.15);\n",
              "      fill: #174EA6;\n",
              "    }\n",
              "\n",
              "    [theme=dark] .colab-df-convert {\n",
              "      background-color: #3B4455;\n",
              "      fill: #D2E3FC;\n",
              "    }\n",
              "\n",
              "    [theme=dark] .colab-df-convert:hover {\n",
              "      background-color: #434B5C;\n",
              "      box-shadow: 0px 1px 3px 1px rgba(0, 0, 0, 0.15);\n",
              "      filter: drop-shadow(0px 1px 2px rgba(0, 0, 0, 0.3));\n",
              "      fill: #FFFFFF;\n",
              "    }\n",
              "  </style>\n",
              "\n",
              "      <script>\n",
              "        const buttonEl =\n",
              "          document.querySelector('#df-1cf11a15-ada3-4cca-b5cc-56050fc6a083 button.colab-df-convert');\n",
              "        buttonEl.style.display =\n",
              "          google.colab.kernel.accessAllowed ? 'block' : 'none';\n",
              "\n",
              "        async function convertToInteractive(key) {\n",
              "          const element = document.querySelector('#df-1cf11a15-ada3-4cca-b5cc-56050fc6a083');\n",
              "          const dataTable =\n",
              "            await google.colab.kernel.invokeFunction('convertToInteractive',\n",
              "                                                     [key], {});\n",
              "          if (!dataTable) return;\n",
              "\n",
              "          const docLinkHtml = 'Like what you see? Visit the ' +\n",
              "            '<a target=\"_blank\" href=https://colab.research.google.com/notebooks/data_table.ipynb>data table notebook</a>'\n",
              "            + ' to learn more about interactive tables.';\n",
              "          element.innerHTML = '';\n",
              "          dataTable['output_type'] = 'display_data';\n",
              "          await google.colab.output.renderOutput(dataTable, element);\n",
              "          const docLink = document.createElement('div');\n",
              "          docLink.innerHTML = docLinkHtml;\n",
              "          element.appendChild(docLink);\n",
              "        }\n",
              "      </script>\n",
              "    </div>\n",
              "  </div>\n",
              "  "
            ]
          },
          "metadata": {},
          "execution_count": 6
        }
      ]
    },
    {
      "cell_type": "code",
      "source": [
        "#xóa NaN \n",
        "df1 = df1.dropna()\n",
        "df1"
      ],
      "metadata": {
        "colab": {
          "base_uri": "https://localhost:8080/",
          "height": 332
        },
        "id": "rWxevQL4pOdu",
        "outputId": "9b016111-6d59-4a8d-f6a6-8cfe8485b1ef"
      },
      "execution_count": 23,
      "outputs": [
        {
          "output_type": "execute_result",
          "data": {
            "text/plain": [
              "    X1    X2     X3    X4\n",
              "0   93  85.0  100.0  96.0\n",
              "1  120  45.0   75.0  58.0\n",
              "2   65  80.0   65.0  95.0\n",
              "3  105  28.0   40.0  90.0\n",
              "4  115  75.0   73.0  65.0\n",
              "5   82  70.0   65.0  80.0\n",
              "6   99  65.0   50.0  85.0\n",
              "7   87  55.0   30.0  95.0\n",
              "8  100  50.0   45.0  82.0"
            ],
            "text/html": [
              "\n",
              "  <div id=\"df-f6cd54c5-e59c-43af-b498-6b98379890a8\">\n",
              "    <div class=\"colab-df-container\">\n",
              "      <div>\n",
              "<style scoped>\n",
              "    .dataframe tbody tr th:only-of-type {\n",
              "        vertical-align: middle;\n",
              "    }\n",
              "\n",
              "    .dataframe tbody tr th {\n",
              "        vertical-align: top;\n",
              "    }\n",
              "\n",
              "    .dataframe thead th {\n",
              "        text-align: right;\n",
              "    }\n",
              "</style>\n",
              "<table border=\"1\" class=\"dataframe\">\n",
              "  <thead>\n",
              "    <tr style=\"text-align: right;\">\n",
              "      <th></th>\n",
              "      <th>X1</th>\n",
              "      <th>X2</th>\n",
              "      <th>X3</th>\n",
              "      <th>X4</th>\n",
              "    </tr>\n",
              "  </thead>\n",
              "  <tbody>\n",
              "    <tr>\n",
              "      <th>0</th>\n",
              "      <td>93</td>\n",
              "      <td>85.0</td>\n",
              "      <td>100.0</td>\n",
              "      <td>96.0</td>\n",
              "    </tr>\n",
              "    <tr>\n",
              "      <th>1</th>\n",
              "      <td>120</td>\n",
              "      <td>45.0</td>\n",
              "      <td>75.0</td>\n",
              "      <td>58.0</td>\n",
              "    </tr>\n",
              "    <tr>\n",
              "      <th>2</th>\n",
              "      <td>65</td>\n",
              "      <td>80.0</td>\n",
              "      <td>65.0</td>\n",
              "      <td>95.0</td>\n",
              "    </tr>\n",
              "    <tr>\n",
              "      <th>3</th>\n",
              "      <td>105</td>\n",
              "      <td>28.0</td>\n",
              "      <td>40.0</td>\n",
              "      <td>90.0</td>\n",
              "    </tr>\n",
              "    <tr>\n",
              "      <th>4</th>\n",
              "      <td>115</td>\n",
              "      <td>75.0</td>\n",
              "      <td>73.0</td>\n",
              "      <td>65.0</td>\n",
              "    </tr>\n",
              "    <tr>\n",
              "      <th>5</th>\n",
              "      <td>82</td>\n",
              "      <td>70.0</td>\n",
              "      <td>65.0</td>\n",
              "      <td>80.0</td>\n",
              "    </tr>\n",
              "    <tr>\n",
              "      <th>6</th>\n",
              "      <td>99</td>\n",
              "      <td>65.0</td>\n",
              "      <td>50.0</td>\n",
              "      <td>85.0</td>\n",
              "    </tr>\n",
              "    <tr>\n",
              "      <th>7</th>\n",
              "      <td>87</td>\n",
              "      <td>55.0</td>\n",
              "      <td>30.0</td>\n",
              "      <td>95.0</td>\n",
              "    </tr>\n",
              "    <tr>\n",
              "      <th>8</th>\n",
              "      <td>100</td>\n",
              "      <td>50.0</td>\n",
              "      <td>45.0</td>\n",
              "      <td>82.0</td>\n",
              "    </tr>\n",
              "  </tbody>\n",
              "</table>\n",
              "</div>\n",
              "      <button class=\"colab-df-convert\" onclick=\"convertToInteractive('df-f6cd54c5-e59c-43af-b498-6b98379890a8')\"\n",
              "              title=\"Convert this dataframe to an interactive table.\"\n",
              "              style=\"display:none;\">\n",
              "        \n",
              "  <svg xmlns=\"http://www.w3.org/2000/svg\" height=\"24px\"viewBox=\"0 0 24 24\"\n",
              "       width=\"24px\">\n",
              "    <path d=\"M0 0h24v24H0V0z\" fill=\"none\"/>\n",
              "    <path d=\"M18.56 5.44l.94 2.06.94-2.06 2.06-.94-2.06-.94-.94-2.06-.94 2.06-2.06.94zm-11 1L8.5 8.5l.94-2.06 2.06-.94-2.06-.94L8.5 2.5l-.94 2.06-2.06.94zm10 10l.94 2.06.94-2.06 2.06-.94-2.06-.94-.94-2.06-.94 2.06-2.06.94z\"/><path d=\"M17.41 7.96l-1.37-1.37c-.4-.4-.92-.59-1.43-.59-.52 0-1.04.2-1.43.59L10.3 9.45l-7.72 7.72c-.78.78-.78 2.05 0 2.83L4 21.41c.39.39.9.59 1.41.59.51 0 1.02-.2 1.41-.59l7.78-7.78 2.81-2.81c.8-.78.8-2.07 0-2.86zM5.41 20L4 18.59l7.72-7.72 1.47 1.35L5.41 20z\"/>\n",
              "  </svg>\n",
              "      </button>\n",
              "      \n",
              "  <style>\n",
              "    .colab-df-container {\n",
              "      display:flex;\n",
              "      flex-wrap:wrap;\n",
              "      gap: 12px;\n",
              "    }\n",
              "\n",
              "    .colab-df-convert {\n",
              "      background-color: #E8F0FE;\n",
              "      border: none;\n",
              "      border-radius: 50%;\n",
              "      cursor: pointer;\n",
              "      display: none;\n",
              "      fill: #1967D2;\n",
              "      height: 32px;\n",
              "      padding: 0 0 0 0;\n",
              "      width: 32px;\n",
              "    }\n",
              "\n",
              "    .colab-df-convert:hover {\n",
              "      background-color: #E2EBFA;\n",
              "      box-shadow: 0px 1px 2px rgba(60, 64, 67, 0.3), 0px 1px 3px 1px rgba(60, 64, 67, 0.15);\n",
              "      fill: #174EA6;\n",
              "    }\n",
              "\n",
              "    [theme=dark] .colab-df-convert {\n",
              "      background-color: #3B4455;\n",
              "      fill: #D2E3FC;\n",
              "    }\n",
              "\n",
              "    [theme=dark] .colab-df-convert:hover {\n",
              "      background-color: #434B5C;\n",
              "      box-shadow: 0px 1px 3px 1px rgba(0, 0, 0, 0.15);\n",
              "      filter: drop-shadow(0px 1px 2px rgba(0, 0, 0, 0.3));\n",
              "      fill: #FFFFFF;\n",
              "    }\n",
              "  </style>\n",
              "\n",
              "      <script>\n",
              "        const buttonEl =\n",
              "          document.querySelector('#df-f6cd54c5-e59c-43af-b498-6b98379890a8 button.colab-df-convert');\n",
              "        buttonEl.style.display =\n",
              "          google.colab.kernel.accessAllowed ? 'block' : 'none';\n",
              "\n",
              "        async function convertToInteractive(key) {\n",
              "          const element = document.querySelector('#df-f6cd54c5-e59c-43af-b498-6b98379890a8');\n",
              "          const dataTable =\n",
              "            await google.colab.kernel.invokeFunction('convertToInteractive',\n",
              "                                                     [key], {});\n",
              "          if (!dataTable) return;\n",
              "\n",
              "          const docLinkHtml = 'Like what you see? Visit the ' +\n",
              "            '<a target=\"_blank\" href=https://colab.research.google.com/notebooks/data_table.ipynb>data table notebook</a>'\n",
              "            + ' to learn more about interactive tables.';\n",
              "          element.innerHTML = '';\n",
              "          dataTable['output_type'] = 'display_data';\n",
              "          await google.colab.output.renderOutput(dataTable, element);\n",
              "          const docLink = document.createElement('div');\n",
              "          docLink.innerHTML = docLinkHtml;\n",
              "          element.appendChild(docLink);\n",
              "        }\n",
              "      </script>\n",
              "    </div>\n",
              "  </div>\n",
              "  "
            ]
          },
          "metadata": {},
          "execution_count": 23
        }
      ]
    },
    {
      "cell_type": "markdown",
      "source": [
        "**Bắt đầu tiến hành kiểm định các nhóm có lấy từ phân phối chuẩn**"
      ],
      "metadata": {
        "id": "dm7kKMF7pyVS"
      }
    },
    {
      "cell_type": "markdown",
      "source": [
        "Phát biểu giả thuyết :\n",
        "\n",
        "Giả thuyết null\n",
        "\n",
        "$$H_0 : \\text{Các nhóm được lấy từ phân phối chuẩn}$$\n",
        "\n",
        "Giả thuyết thay thế \n",
        "\n",
        "$$H_a:\\text{Các nhóm không được lấy từ phân phối chuẩn}$$ "
      ],
      "metadata": {
        "id": "n3R0RJx-MCae"
      }
    },
    {
      "cell_type": "code",
      "source": [
        "stats, p_value = st.shapiro(df1[\"X1\"])\n",
        "print(\"p_value:\",p_value)\n",
        "if p_value < 0.05:\n",
        "  print(\"Có bằng chứng bác bỏ giả thuyết H0\")\n",
        "else:\n",
        "  print(\"Không có bằng chứng bác bỏ giả thuyết H0\")"
      ],
      "metadata": {
        "colab": {
          "base_uri": "https://localhost:8080/"
        },
        "id": "Yt_YlOzdp8-n",
        "outputId": "83466540-3179-4ce1-d3ec-4d4c055dea1c"
      },
      "execution_count": null,
      "outputs": [
        {
          "output_type": "stream",
          "name": "stdout",
          "text": [
            "p_value: 0.9960364103317261\n",
            "Không có bằng chứng bác bỏ giả thuyết H0\n"
          ]
        }
      ]
    },
    {
      "cell_type": "code",
      "source": [
        "stats, p_value = st.shapiro(df1[\"X2\"])\n",
        "print(\"p_value:\",p_value)\n",
        "if p_value < 0.05:\n",
        "  print(\"Có bằng chứng bác bỏ  giả thuyết H0\")\n",
        "else:\n",
        "  print(\"Không có bằng chứng bác bỏ  giả thuyết H0\")"
      ],
      "metadata": {
        "colab": {
          "base_uri": "https://localhost:8080/"
        },
        "id": "HuduCub-q1pb",
        "outputId": "3005c1c6-96c3-4c3b-dcc4-fb19c9f0d51a"
      },
      "execution_count": null,
      "outputs": [
        {
          "output_type": "stream",
          "name": "stdout",
          "text": [
            "p_value: 1.0\n",
            "Không có bằng chứng bác bỏ  giả thuyết H0\n"
          ]
        }
      ]
    },
    {
      "cell_type": "code",
      "source": [
        "stats, p_value = st.shapiro(df1[\"X3\"])\n",
        "print(\"p_value:\",p_value)\n",
        "if p_value < 0.05:\n",
        "  print(\"Có bằng chứng bác bỏ  giả thuyết H0\")\n",
        "else:\n",
        "  print(\"Không có bằng chứng bác bỏ  giả thuyết H0\")"
      ],
      "metadata": {
        "colab": {
          "base_uri": "https://localhost:8080/"
        },
        "id": "kX_fuE5fq2O8",
        "outputId": "95e63f01-4cd1-4561-9b36-9ac19861d2e1"
      },
      "execution_count": null,
      "outputs": [
        {
          "output_type": "stream",
          "name": "stdout",
          "text": [
            "p_value: 1.0\n",
            "Không có bằng chứng bác bỏ giả thuyết H0\n"
          ]
        }
      ]
    },
    {
      "cell_type": "code",
      "source": [
        "stats, p_value = st.shapiro(df1[\"X4\"])\n",
        "print(\"p_value:\",p_value)\n",
        "if p_value < 0.05:\n",
        "  print(\"Có bằng chứng bác bỏ  giả thuyết H0\")\n",
        "else:\n",
        "  print(\"Không có bằng chứng bác bỏ giả thuyết H0\")"
      ],
      "metadata": {
        "colab": {
          "base_uri": "https://localhost:8080/"
        },
        "id": "XioKZA2Oq2Yq",
        "outputId": "66756042-895a-4cc8-8baa-bd124db05419"
      },
      "execution_count": null,
      "outputs": [
        {
          "output_type": "stream",
          "name": "stdout",
          "text": [
            "p_value: 1.0\n",
            "Không có bằng chứng bác bỏ  giả thuyết H0\n"
          ]
        }
      ]
    },
    {
      "cell_type": "markdown",
      "source": [
        "**Bắt đầu tiến hành kiểm định phương sai của các nhóm có sự khác biệt**"
      ],
      "metadata": {
        "id": "jhC0K3JYrDfT"
      }
    },
    {
      "cell_type": "markdown",
      "source": [
        "Phát biểu giả thuyết :\n",
        "\n",
        "Giả thuyết null\n",
        "\n",
        "$$H_0 : \\text{Các nhóm có phương sai giống nhau}$$\n",
        "\n",
        "Giả thuyết thay thế \n",
        "\n",
        "$$H_a:\\text{Các nhóm có phương sai không giống nhau}$$ "
      ],
      "metadata": {
        "id": "NQdad8AbNHPI"
      }
    },
    {
      "cell_type": "code",
      "source": [
        "stats, p_value = st.bartlett(df1[\"X1\"], df1[\"X2\"], df1[\"X3\"], df1[\"X4\"])\n",
        "print(\"p_value:\",p_value)\n",
        "if p_value < 0.05:\n",
        "  print(\"Có bằng chứng bác bỏ  giả thuyết H0\")\n",
        "else:\n",
        "  print(\"Không có bằng chứng bác bỏ  giả thuyết H0\")"
      ],
      "metadata": {
        "colab": {
          "base_uri": "https://localhost:8080/"
        },
        "id": "VU1Mljl-NGPa",
        "outputId": "b7159ef5-af88-49aa-9657-81c4bbda356e"
      },
      "execution_count": 10,
      "outputs": [
        {
          "output_type": "stream",
          "name": "stdout",
          "text": [
            "p_value: 0.48620382137845997\n",
            "Không có bằng chứng bác bỏ  giả thuyết H0\n"
          ]
        }
      ]
    },
    {
      "cell_type": "markdown",
      "source": [
        "**Ta tiến hành phân tích ANOVA 1 chiều với dữ liệu vì các nhóm đều độc lập, được lấy từ phân phối chuẩn và giống về phương sai**"
      ],
      "metadata": {
        "id": "-sF0laeZOr7F"
      }
    },
    {
      "cell_type": "markdown",
      "source": [
        "Phát biểu giả thuyết:\n",
        "\n",
        "Giả thuyết null\n",
        "\n",
        "$$H_0 : \\text{Độ sâu trung bình của 4 địa điểm khai quật không có sự khác biệt}$$\n",
        "\n",
        "Giả thuyết thay thế \n",
        "\n",
        "$$H_a:\\text{Tồn tại ít nhất sự khác biệt giữa Độ sâu trung bình của 4 địa điểm khai quật}$$"
      ],
      "metadata": {
        "id": "1LrG4F4lPZtK"
      }
    },
    {
      "cell_type": "code",
      "source": [
        "stats, p_value = st.f_oneway(df1[\"X1\"], df1[\"X2\"], df1[\"X3\"], df1[\"X4\"])\n",
        "print(\"p_value:\",p_value)\n",
        "if p_value < 0.05:\n",
        "  print(\"Có bằng chứng bác bỏ giả thuyết H0\")\n",
        "else:\n",
        "  print(\"Không có bằng chứng bác bỏ giả thuyết H0\")"
      ],
      "metadata": {
        "colab": {
          "base_uri": "https://localhost:8080/"
        },
        "id": "l68X61bmQKVm",
        "outputId": "a444e510-f44a-44bd-d5ce-f8d02e39ab7d"
      },
      "execution_count": 41,
      "outputs": [
        {
          "output_type": "stream",
          "name": "stdout",
          "text": [
            "p_value: 0.0002462096906673732\n",
            "Có bằng chứng bác bỏ giả thuyết H0\n"
          ]
        }
      ]
    },
    {
      "cell_type": "markdown",
      "source": [
        "*Kết luận rằng : độ sâu trung bình của các nhóm có sự khác biệt*"
      ],
      "metadata": {
        "id": "tLIf1PALQ1Ai"
      }
    },
    {
      "cell_type": "markdown",
      "source": [
        "**2.Phân tích ANOVA 1 chiều với Apple Orchard Experiment (Thử nghiệm Apple Orchard)**"
      ],
      "metadata": {
        "id": "k_qRfr_UQ9mt"
      }
    },
    {
      "cell_type": "markdown",
      "source": [
        "*Đề bài : Thử nghiệm Apple Orchard*\n",
        "\n",
        "Năm loại gốc rễ đã được sử dụng trong một thí nghiệm ghép vườn táo. Dữ liệu sau đây thể hiện mức tăng trưởng mở rộng (cm) sau bốn năm.\n",
        "\n",
        "X1 = tăng trưởng mở rộng cho loại I\n",
        "\n",
        "X2 = tăng trưởng mở rộng cho loại II\n",
        "\n",
        "X3 = tăng trưởng mở rộng cho loại III\n",
        "\n",
        "X4 = tăng trưởng mở rộng cho loại IV\n",
        "\n",
        "X5 = tăng trưởng mở rộng cho loại V"
      ],
      "metadata": {
        "id": "wfgWm5kQSQSB"
      }
    },
    {
      "cell_type": "markdown",
      "source": [
        "Xây dựng giả thuyết :\n",
        "$$H_{0}: \\mu_{1} = \\mu_{2} = ... = \\mu_{n}$$\n",
        "$$H_{a}: \\text{Tồn tại ít nhất một cặp } (\\mu_{i}, \\mu_{j}) \\text{ có giá trị khác nhau}$$"
      ],
      "metadata": {
        "id": "bSFfsEwfSd-T"
      }
    },
    {
      "cell_type": "code",
      "source": [
        "#Đọc file excel \n",
        "df2 = pd.read_excel(\"/owan02.xls\",engine=\"xlrd\")\n",
        "df2"
      ],
      "metadata": {
        "colab": {
          "base_uri": "https://localhost:8080/",
          "height": 318
        },
        "id": "eW3S5GyqVUAR",
        "outputId": "354d9363-63b6-4966-a6fe-a901455f36df"
      },
      "execution_count": 29,
      "outputs": [
        {
          "output_type": "stream",
          "name": "stdout",
          "text": [
            "*** No CODEPAGE record, no encoding_override: will use 'iso-8859-1'\n"
          ]
        },
        {
          "output_type": "execute_result",
          "data": {
            "text/plain": [
              "     X1    X2    X3    X4    X5\n",
              "0  2569  2074  2505  2838  1532\n",
              "1  2928  2885  2315  2351  2552\n",
              "2  2865  3378  2667  3001  3083\n",
              "3  3844  3906  2390  2439  2330\n",
              "4  3027  2782  3021  2199  2079\n",
              "5  2336  3018  3085  3318  3366\n",
              "6  3211  3383  3308  3601  2416\n",
              "7  3037  3447  3231  3291  3100"
            ],
            "text/html": [
              "\n",
              "  <div id=\"df-f1fe80ae-fe8a-4f20-8293-d59b83c6b658\">\n",
              "    <div class=\"colab-df-container\">\n",
              "      <div>\n",
              "<style scoped>\n",
              "    .dataframe tbody tr th:only-of-type {\n",
              "        vertical-align: middle;\n",
              "    }\n",
              "\n",
              "    .dataframe tbody tr th {\n",
              "        vertical-align: top;\n",
              "    }\n",
              "\n",
              "    .dataframe thead th {\n",
              "        text-align: right;\n",
              "    }\n",
              "</style>\n",
              "<table border=\"1\" class=\"dataframe\">\n",
              "  <thead>\n",
              "    <tr style=\"text-align: right;\">\n",
              "      <th></th>\n",
              "      <th>X1</th>\n",
              "      <th>X2</th>\n",
              "      <th>X3</th>\n",
              "      <th>X4</th>\n",
              "      <th>X5</th>\n",
              "    </tr>\n",
              "  </thead>\n",
              "  <tbody>\n",
              "    <tr>\n",
              "      <th>0</th>\n",
              "      <td>2569</td>\n",
              "      <td>2074</td>\n",
              "      <td>2505</td>\n",
              "      <td>2838</td>\n",
              "      <td>1532</td>\n",
              "    </tr>\n",
              "    <tr>\n",
              "      <th>1</th>\n",
              "      <td>2928</td>\n",
              "      <td>2885</td>\n",
              "      <td>2315</td>\n",
              "      <td>2351</td>\n",
              "      <td>2552</td>\n",
              "    </tr>\n",
              "    <tr>\n",
              "      <th>2</th>\n",
              "      <td>2865</td>\n",
              "      <td>3378</td>\n",
              "      <td>2667</td>\n",
              "      <td>3001</td>\n",
              "      <td>3083</td>\n",
              "    </tr>\n",
              "    <tr>\n",
              "      <th>3</th>\n",
              "      <td>3844</td>\n",
              "      <td>3906</td>\n",
              "      <td>2390</td>\n",
              "      <td>2439</td>\n",
              "      <td>2330</td>\n",
              "    </tr>\n",
              "    <tr>\n",
              "      <th>4</th>\n",
              "      <td>3027</td>\n",
              "      <td>2782</td>\n",
              "      <td>3021</td>\n",
              "      <td>2199</td>\n",
              "      <td>2079</td>\n",
              "    </tr>\n",
              "    <tr>\n",
              "      <th>5</th>\n",
              "      <td>2336</td>\n",
              "      <td>3018</td>\n",
              "      <td>3085</td>\n",
              "      <td>3318</td>\n",
              "      <td>3366</td>\n",
              "    </tr>\n",
              "    <tr>\n",
              "      <th>6</th>\n",
              "      <td>3211</td>\n",
              "      <td>3383</td>\n",
              "      <td>3308</td>\n",
              "      <td>3601</td>\n",
              "      <td>2416</td>\n",
              "    </tr>\n",
              "    <tr>\n",
              "      <th>7</th>\n",
              "      <td>3037</td>\n",
              "      <td>3447</td>\n",
              "      <td>3231</td>\n",
              "      <td>3291</td>\n",
              "      <td>3100</td>\n",
              "    </tr>\n",
              "  </tbody>\n",
              "</table>\n",
              "</div>\n",
              "      <button class=\"colab-df-convert\" onclick=\"convertToInteractive('df-f1fe80ae-fe8a-4f20-8293-d59b83c6b658')\"\n",
              "              title=\"Convert this dataframe to an interactive table.\"\n",
              "              style=\"display:none;\">\n",
              "        \n",
              "  <svg xmlns=\"http://www.w3.org/2000/svg\" height=\"24px\"viewBox=\"0 0 24 24\"\n",
              "       width=\"24px\">\n",
              "    <path d=\"M0 0h24v24H0V0z\" fill=\"none\"/>\n",
              "    <path d=\"M18.56 5.44l.94 2.06.94-2.06 2.06-.94-2.06-.94-.94-2.06-.94 2.06-2.06.94zm-11 1L8.5 8.5l.94-2.06 2.06-.94-2.06-.94L8.5 2.5l-.94 2.06-2.06.94zm10 10l.94 2.06.94-2.06 2.06-.94-2.06-.94-.94-2.06-.94 2.06-2.06.94z\"/><path d=\"M17.41 7.96l-1.37-1.37c-.4-.4-.92-.59-1.43-.59-.52 0-1.04.2-1.43.59L10.3 9.45l-7.72 7.72c-.78.78-.78 2.05 0 2.83L4 21.41c.39.39.9.59 1.41.59.51 0 1.02-.2 1.41-.59l7.78-7.78 2.81-2.81c.8-.78.8-2.07 0-2.86zM5.41 20L4 18.59l7.72-7.72 1.47 1.35L5.41 20z\"/>\n",
              "  </svg>\n",
              "      </button>\n",
              "      \n",
              "  <style>\n",
              "    .colab-df-container {\n",
              "      display:flex;\n",
              "      flex-wrap:wrap;\n",
              "      gap: 12px;\n",
              "    }\n",
              "\n",
              "    .colab-df-convert {\n",
              "      background-color: #E8F0FE;\n",
              "      border: none;\n",
              "      border-radius: 50%;\n",
              "      cursor: pointer;\n",
              "      display: none;\n",
              "      fill: #1967D2;\n",
              "      height: 32px;\n",
              "      padding: 0 0 0 0;\n",
              "      width: 32px;\n",
              "    }\n",
              "\n",
              "    .colab-df-convert:hover {\n",
              "      background-color: #E2EBFA;\n",
              "      box-shadow: 0px 1px 2px rgba(60, 64, 67, 0.3), 0px 1px 3px 1px rgba(60, 64, 67, 0.15);\n",
              "      fill: #174EA6;\n",
              "    }\n",
              "\n",
              "    [theme=dark] .colab-df-convert {\n",
              "      background-color: #3B4455;\n",
              "      fill: #D2E3FC;\n",
              "    }\n",
              "\n",
              "    [theme=dark] .colab-df-convert:hover {\n",
              "      background-color: #434B5C;\n",
              "      box-shadow: 0px 1px 3px 1px rgba(0, 0, 0, 0.15);\n",
              "      filter: drop-shadow(0px 1px 2px rgba(0, 0, 0, 0.3));\n",
              "      fill: #FFFFFF;\n",
              "    }\n",
              "  </style>\n",
              "\n",
              "      <script>\n",
              "        const buttonEl =\n",
              "          document.querySelector('#df-f1fe80ae-fe8a-4f20-8293-d59b83c6b658 button.colab-df-convert');\n",
              "        buttonEl.style.display =\n",
              "          google.colab.kernel.accessAllowed ? 'block' : 'none';\n",
              "\n",
              "        async function convertToInteractive(key) {\n",
              "          const element = document.querySelector('#df-f1fe80ae-fe8a-4f20-8293-d59b83c6b658');\n",
              "          const dataTable =\n",
              "            await google.colab.kernel.invokeFunction('convertToInteractive',\n",
              "                                                     [key], {});\n",
              "          if (!dataTable) return;\n",
              "\n",
              "          const docLinkHtml = 'Like what you see? Visit the ' +\n",
              "            '<a target=\"_blank\" href=https://colab.research.google.com/notebooks/data_table.ipynb>data table notebook</a>'\n",
              "            + ' to learn more about interactive tables.';\n",
              "          element.innerHTML = '';\n",
              "          dataTable['output_type'] = 'display_data';\n",
              "          await google.colab.output.renderOutput(dataTable, element);\n",
              "          const docLink = document.createElement('div');\n",
              "          docLink.innerHTML = docLinkHtml;\n",
              "          element.appendChild(docLink);\n",
              "        }\n",
              "      </script>\n",
              "    </div>\n",
              "  </div>\n",
              "  "
            ]
          },
          "metadata": {},
          "execution_count": 29
        }
      ]
    },
    {
      "cell_type": "markdown",
      "source": [
        "**Bắt đầu tiến hành kiểm định các nhóm có lấy từ phân phối chuẩn** "
      ],
      "metadata": {
        "id": "25d-UZyqVqWd"
      }
    },
    {
      "cell_type": "markdown",
      "source": [
        "Phát biểu giả thuyết :\n",
        "\n",
        "Giả thuyết null\n",
        "\n",
        "$$H_0 : \\text{Các nhóm được lấy từ phân phối chuẩn}$$\n",
        "\n",
        "Giả thuyết thay thế \n",
        "\n",
        "$$H_a:\\text{Các nhóm không được lấy từ phân phối chuẩn}$$ "
      ],
      "metadata": {
        "id": "3MBnFGeDVvhT"
      }
    },
    {
      "cell_type": "code",
      "source": [
        "stats, p_value = st.shapiro(df2[\"X1\"])\n",
        "print(\"p_value:\",p_value)\n",
        "if p_value < 0.05:\n",
        "  print(\"Có bằng chứng bác bỏ  giả thuyết H0\")\n",
        "else:\n",
        "  print(\"Không có bằng chứng bác bỏ  giả thuyết H0\")"
      ],
      "metadata": {
        "colab": {
          "base_uri": "https://localhost:8080/"
        },
        "id": "LtTfEj3pV_vz",
        "outputId": "ce325f43-c6d4-46cb-dd89-ae4d0c4a11cc"
      },
      "execution_count": 35,
      "outputs": [
        {
          "output_type": "stream",
          "name": "stdout",
          "text": [
            "p_value: 0.644533634185791\n",
            "Không có bằng chứng bác bỏ  giả thuyết H0\n"
          ]
        }
      ]
    },
    {
      "cell_type": "code",
      "source": [
        "stats, p_value = st.shapiro(df2[\"X2\"])\n",
        "print(\"p_value:\",p_value)\n",
        "if p_value < 0.05:\n",
        "  print(\"Có bằng chứng bác bỏ  giả thuyết H0\")\n",
        "else:\n",
        "  print(\"Không có bằng chứng bác bỏ  giả thuyết H0\")"
      ],
      "metadata": {
        "colab": {
          "base_uri": "https://localhost:8080/"
        },
        "id": "naF-M7VtWANU",
        "outputId": "69f0e528-c1fb-4643-ebec-78da6b1f1cdc"
      },
      "execution_count": 36,
      "outputs": [
        {
          "output_type": "stream",
          "name": "stdout",
          "text": [
            "p_value: 0.7472830414772034\n",
            "Không có bằng chứng bác bỏ  giả thuyết H0\n"
          ]
        }
      ]
    },
    {
      "cell_type": "code",
      "source": [
        "stats, p_value = st.shapiro(df2[\"X3\"])\n",
        "print(\"p_value:\",p_value)\n",
        "if p_value < 0.05:\n",
        "  print(\"Có bằng chứng bác bỏ giả thuyết H0\")\n",
        "else:\n",
        "  print(\"Không có bằng chứng bác bỏ  giả thuyết H0\")"
      ],
      "metadata": {
        "colab": {
          "base_uri": "https://localhost:8080/"
        },
        "id": "VvPEULEHWAdi",
        "outputId": "1b10e21a-7779-4c67-b17d-fd7bdae48062"
      },
      "execution_count": 37,
      "outputs": [
        {
          "output_type": "stream",
          "name": "stdout",
          "text": [
            "p_value: 0.3169650137424469\n",
            "Không có bằng chứng bác bỏ giả thuyết H0\n"
          ]
        }
      ]
    },
    {
      "cell_type": "code",
      "source": [
        "stats, p_value = st.shapiro(df2[\"X4\"])\n",
        "print(\"p_value:\",p_value)\n",
        "if p_value < 0.05:\n",
        "  print(\"Có bằng chứng bác bỏ giả thuyết H0\")\n",
        "else:\n",
        "  print(\"Không có bằng chứng bác bỏ giả thuyết H0\")"
      ],
      "metadata": {
        "colab": {
          "base_uri": "https://localhost:8080/"
        },
        "id": "j_gfTWZmWAtO",
        "outputId": "5a7d5fc3-c45c-4d67-a106-d75ed72538be"
      },
      "execution_count": 38,
      "outputs": [
        {
          "output_type": "stream",
          "name": "stdout",
          "text": [
            "p_value: 0.5994704365730286\n",
            "Không có bằng chứng bác bỏ giả thuyết H0\n"
          ]
        }
      ]
    },
    {
      "cell_type": "code",
      "source": [
        "stats, p_value = st.shapiro(df2[\"X5\"])\n",
        "print(\"p_value:\",p_value)\n",
        "if p_value < 0.05:\n",
        "  print(\"Có bằng chứng bác bỏ giả thuyết H0\")\n",
        "else:\n",
        "  print(\"Không có bằng chứng bác bỏ  giả thuyết H0\")"
      ],
      "metadata": {
        "colab": {
          "base_uri": "https://localhost:8080/"
        },
        "id": "lWKaIVWKWCFq",
        "outputId": "e66eb6db-3343-43e5-9aec-ab3bc252a59d"
      },
      "execution_count": 39,
      "outputs": [
        {
          "output_type": "stream",
          "name": "stdout",
          "text": [
            "p_value: 0.803491473197937\n",
            "Không có bằng chứng bác bỏ  giả thuyết H0\n"
          ]
        }
      ]
    },
    {
      "cell_type": "markdown",
      "source": [
        "**Bắt đầu tiến hành kiểm định phương sai của các nhóm có sự khác biệt**"
      ],
      "metadata": {
        "id": "DPELScIDV-_P"
      }
    },
    {
      "cell_type": "markdown",
      "source": [
        "Phát biểu giả thuyết :\n",
        "\n",
        "Giả thuyết null\n",
        "\n",
        "$$H_0 : \\text{Các nhóm có phương sai giống nhau}$$\n",
        "\n",
        "Giả thuyết thay thế \n",
        "\n",
        "$$H_a:\\text{Các nhóm có phương sai không giống nhau}$$ "
      ],
      "metadata": {
        "id": "lYrvUC21Whxw"
      }
    },
    {
      "cell_type": "code",
      "source": [
        "stats, p_value = st.bartlett(df2[\"X1\"], df2[\"X2\"], df2[\"X3\"], df2[\"X4\"],df2[\"X5\"])\n",
        "print(\"p_value:\",p_value)\n",
        "if p_value < 0.05:\n",
        "  print(\"Có bằng chứng bác bỏ  giả thuyết H0\")\n",
        "else:\n",
        "  print(\"Không có bằng chứng bác bỏ  giả thuyết H0\")"
      ],
      "metadata": {
        "colab": {
          "base_uri": "https://localhost:8080/"
        },
        "id": "_vHg_tBOVsKD",
        "outputId": "29c13f7c-1db3-4e9d-faba-29bdb38a58dc"
      },
      "execution_count": 40,
      "outputs": [
        {
          "output_type": "stream",
          "name": "stdout",
          "text": [
            "p_value: 0.825688088344803\n",
            "Không có bằng chứng bác bỏ giả thuyết H0\n"
          ]
        }
      ]
    },
    {
      "cell_type": "markdown",
      "source": [
        "**Ta tiến hành phân tích ANOVA 1 chiều với dữ liệu vì các nhóm đều độc lập, được lấy từ phân phối chuẩn và giống nhau về phương sai**"
      ],
      "metadata": {
        "id": "Upoz16C4WyUc"
      }
    },
    {
      "cell_type": "markdown",
      "source": [
        "Phát biểu giả thuyết:\n",
        "\n",
        "Giả thuyết null\n",
        "\n",
        "$$H_0 : \\text{Tăng trưởng mở rộng của 5 loại không có sự khác biệt}$$\n",
        "\n",
        "Giả thuyết thay thế \n",
        "\n",
        "$$H_a:\\text{Tồn tại ít nhất sự khác biệt giữa Tăng trưởng mở rộng của 5 loại}$$"
      ],
      "metadata": {
        "id": "il0BPPkdXEJC"
      }
    },
    {
      "cell_type": "code",
      "source": [
        "stats,p_value = st.f_oneway(df2[\"X1\"],df2[\"X2\"],df2[\"X3\"],df2[\"X4\"],df2[\"X5\"])\n",
        "print(\"p_value:\",p_value)\n",
        "if p_value < 0.05:\n",
        "  print(\"Có bằng chứng bác bỏ giả thuyết H0\")\n",
        "else:\n",
        "  print(\"Không có bằng chứng bác bỏ giả thuyết H0\")"
      ],
      "metadata": {
        "colab": {
          "base_uri": "https://localhost:8080/"
        },
        "id": "m7RnJPu6VeVD",
        "outputId": "4437cf1f-745a-494f-a6df-2aedb656111f"
      },
      "execution_count": 44,
      "outputs": [
        {
          "output_type": "stream",
          "name": "stdout",
          "text": [
            "p_value: 0.28382583646160114\n",
            "Không có bằng chứng bác bỏ giả thuyết H0\n"
          ]
        }
      ]
    },
    {
      "cell_type": "markdown",
      "source": [
        "*Kết luận rằng : tăng trưởng mở rộng của 5 loại gốc rễ không có sự khác biệt*"
      ],
      "metadata": {
        "id": "wGLyEQeYYxg2"
      }
    },
    {
      "cell_type": "markdown",
      "source": [
        "**3.Phân tích ANOVA 1 chiều với Red Dye Number 40 (Thuốc nhuộm đỏ số 40)** "
      ],
      "metadata": {
        "id": "48jumtcLZEKM"
      }
    },
    {
      "cell_type": "markdown",
      "source": [
        "*Đề bài : Thuốc nhuộm đỏ số 40*\n",
        "\n",
        "S.W. Laagakos và F. Mosteller của Đại học Harvard cho chuột ăn các liều thuốc nhuộm đỏ số 40 khác nhau và ghi lại thời gian chết trong nhiều tuần. Kết quả đối với chuột cái, liều lượng và thời gian chết được hiển thị trong dữ liệu\n",
        "\n",
        "X1 = thời gian chết cho nhóm kiểm soát\n",
        "\n",
        "X2 = thời gian tử vong của nhóm sử dụng liều lượng thấp\n",
        "\n",
        "X3 = thời gian tử vong của nhóm sử dụng liều lượng trung bình\n",
        "\n",
        "X4 = thời gian tử vong của nhóm sử dụng liều lượng cao"
      ],
      "metadata": {
        "id": "7u_T3TPKaYVA"
      }
    },
    {
      "cell_type": "markdown",
      "source": [
        "Xây dựng giả thuyết :\n",
        "$$H_{0}: \\mu_{1} = \\mu_{2} = ... = \\mu_{n}$$\n",
        "$$H_{a}: \\text{Tồn tại ít nhất một cặp } (\\mu_{i}, \\mu_{j}) \\text{ có giá trị khác nhau}$$"
      ],
      "metadata": {
        "id": "2jNzRxK6Z_L1"
      }
    },
    {
      "cell_type": "code",
      "source": [
        "#Đọc file excel\n",
        "df3 = pd.read_excel(\"/owan03.xls\",engine=\"xlrd\")\n",
        "df3"
      ],
      "metadata": {
        "colab": {
          "base_uri": "https://localhost:8080/",
          "height": 412
        },
        "id": "t3EEWqdBa1vo",
        "outputId": "ac1df6bf-baad-488f-d8f4-0ff26fc08a1e"
      },
      "execution_count": 46,
      "outputs": [
        {
          "output_type": "stream",
          "name": "stdout",
          "text": [
            "*** No CODEPAGE record, no encoding_override: will use 'iso-8859-1'\n"
          ]
        },
        {
          "output_type": "execute_result",
          "data": {
            "text/plain": [
              "     X1    X2    X3     X4\n",
              "0    70  49.0  30.0   34.0\n",
              "1    77  60.0  37.0   36.0\n",
              "2    83  63.0  56.0   48.0\n",
              "3    87  67.0  65.0   48.0\n",
              "4    92  70.0  76.0   65.0\n",
              "5    93  74.0  83.0   91.0\n",
              "6   100  77.0  87.0   98.0\n",
              "7   102  80.0  90.0  102.0\n",
              "8   102  89.0  94.0    NaN\n",
              "9   103   NaN  97.0    NaN\n",
              "10   96   NaN   NaN    NaN"
            ],
            "text/html": [
              "\n",
              "  <div id=\"df-7c2e1755-d658-4a13-a4c3-b935a0a09b0c\">\n",
              "    <div class=\"colab-df-container\">\n",
              "      <div>\n",
              "<style scoped>\n",
              "    .dataframe tbody tr th:only-of-type {\n",
              "        vertical-align: middle;\n",
              "    }\n",
              "\n",
              "    .dataframe tbody tr th {\n",
              "        vertical-align: top;\n",
              "    }\n",
              "\n",
              "    .dataframe thead th {\n",
              "        text-align: right;\n",
              "    }\n",
              "</style>\n",
              "<table border=\"1\" class=\"dataframe\">\n",
              "  <thead>\n",
              "    <tr style=\"text-align: right;\">\n",
              "      <th></th>\n",
              "      <th>X1</th>\n",
              "      <th>X2</th>\n",
              "      <th>X3</th>\n",
              "      <th>X4</th>\n",
              "    </tr>\n",
              "  </thead>\n",
              "  <tbody>\n",
              "    <tr>\n",
              "      <th>0</th>\n",
              "      <td>70</td>\n",
              "      <td>49.0</td>\n",
              "      <td>30.0</td>\n",
              "      <td>34.0</td>\n",
              "    </tr>\n",
              "    <tr>\n",
              "      <th>1</th>\n",
              "      <td>77</td>\n",
              "      <td>60.0</td>\n",
              "      <td>37.0</td>\n",
              "      <td>36.0</td>\n",
              "    </tr>\n",
              "    <tr>\n",
              "      <th>2</th>\n",
              "      <td>83</td>\n",
              "      <td>63.0</td>\n",
              "      <td>56.0</td>\n",
              "      <td>48.0</td>\n",
              "    </tr>\n",
              "    <tr>\n",
              "      <th>3</th>\n",
              "      <td>87</td>\n",
              "      <td>67.0</td>\n",
              "      <td>65.0</td>\n",
              "      <td>48.0</td>\n",
              "    </tr>\n",
              "    <tr>\n",
              "      <th>4</th>\n",
              "      <td>92</td>\n",
              "      <td>70.0</td>\n",
              "      <td>76.0</td>\n",
              "      <td>65.0</td>\n",
              "    </tr>\n",
              "    <tr>\n",
              "      <th>5</th>\n",
              "      <td>93</td>\n",
              "      <td>74.0</td>\n",
              "      <td>83.0</td>\n",
              "      <td>91.0</td>\n",
              "    </tr>\n",
              "    <tr>\n",
              "      <th>6</th>\n",
              "      <td>100</td>\n",
              "      <td>77.0</td>\n",
              "      <td>87.0</td>\n",
              "      <td>98.0</td>\n",
              "    </tr>\n",
              "    <tr>\n",
              "      <th>7</th>\n",
              "      <td>102</td>\n",
              "      <td>80.0</td>\n",
              "      <td>90.0</td>\n",
              "      <td>102.0</td>\n",
              "    </tr>\n",
              "    <tr>\n",
              "      <th>8</th>\n",
              "      <td>102</td>\n",
              "      <td>89.0</td>\n",
              "      <td>94.0</td>\n",
              "      <td>NaN</td>\n",
              "    </tr>\n",
              "    <tr>\n",
              "      <th>9</th>\n",
              "      <td>103</td>\n",
              "      <td>NaN</td>\n",
              "      <td>97.0</td>\n",
              "      <td>NaN</td>\n",
              "    </tr>\n",
              "    <tr>\n",
              "      <th>10</th>\n",
              "      <td>96</td>\n",
              "      <td>NaN</td>\n",
              "      <td>NaN</td>\n",
              "      <td>NaN</td>\n",
              "    </tr>\n",
              "  </tbody>\n",
              "</table>\n",
              "</div>\n",
              "      <button class=\"colab-df-convert\" onclick=\"convertToInteractive('df-7c2e1755-d658-4a13-a4c3-b935a0a09b0c')\"\n",
              "              title=\"Convert this dataframe to an interactive table.\"\n",
              "              style=\"display:none;\">\n",
              "        \n",
              "  <svg xmlns=\"http://www.w3.org/2000/svg\" height=\"24px\"viewBox=\"0 0 24 24\"\n",
              "       width=\"24px\">\n",
              "    <path d=\"M0 0h24v24H0V0z\" fill=\"none\"/>\n",
              "    <path d=\"M18.56 5.44l.94 2.06.94-2.06 2.06-.94-2.06-.94-.94-2.06-.94 2.06-2.06.94zm-11 1L8.5 8.5l.94-2.06 2.06-.94-2.06-.94L8.5 2.5l-.94 2.06-2.06.94zm10 10l.94 2.06.94-2.06 2.06-.94-2.06-.94-.94-2.06-.94 2.06-2.06.94z\"/><path d=\"M17.41 7.96l-1.37-1.37c-.4-.4-.92-.59-1.43-.59-.52 0-1.04.2-1.43.59L10.3 9.45l-7.72 7.72c-.78.78-.78 2.05 0 2.83L4 21.41c.39.39.9.59 1.41.59.51 0 1.02-.2 1.41-.59l7.78-7.78 2.81-2.81c.8-.78.8-2.07 0-2.86zM5.41 20L4 18.59l7.72-7.72 1.47 1.35L5.41 20z\"/>\n",
              "  </svg>\n",
              "      </button>\n",
              "      \n",
              "  <style>\n",
              "    .colab-df-container {\n",
              "      display:flex;\n",
              "      flex-wrap:wrap;\n",
              "      gap: 12px;\n",
              "    }\n",
              "\n",
              "    .colab-df-convert {\n",
              "      background-color: #E8F0FE;\n",
              "      border: none;\n",
              "      border-radius: 50%;\n",
              "      cursor: pointer;\n",
              "      display: none;\n",
              "      fill: #1967D2;\n",
              "      height: 32px;\n",
              "      padding: 0 0 0 0;\n",
              "      width: 32px;\n",
              "    }\n",
              "\n",
              "    .colab-df-convert:hover {\n",
              "      background-color: #E2EBFA;\n",
              "      box-shadow: 0px 1px 2px rgba(60, 64, 67, 0.3), 0px 1px 3px 1px rgba(60, 64, 67, 0.15);\n",
              "      fill: #174EA6;\n",
              "    }\n",
              "\n",
              "    [theme=dark] .colab-df-convert {\n",
              "      background-color: #3B4455;\n",
              "      fill: #D2E3FC;\n",
              "    }\n",
              "\n",
              "    [theme=dark] .colab-df-convert:hover {\n",
              "      background-color: #434B5C;\n",
              "      box-shadow: 0px 1px 3px 1px rgba(0, 0, 0, 0.15);\n",
              "      filter: drop-shadow(0px 1px 2px rgba(0, 0, 0, 0.3));\n",
              "      fill: #FFFFFF;\n",
              "    }\n",
              "  </style>\n",
              "\n",
              "      <script>\n",
              "        const buttonEl =\n",
              "          document.querySelector('#df-7c2e1755-d658-4a13-a4c3-b935a0a09b0c button.colab-df-convert');\n",
              "        buttonEl.style.display =\n",
              "          google.colab.kernel.accessAllowed ? 'block' : 'none';\n",
              "\n",
              "        async function convertToInteractive(key) {\n",
              "          const element = document.querySelector('#df-7c2e1755-d658-4a13-a4c3-b935a0a09b0c');\n",
              "          const dataTable =\n",
              "            await google.colab.kernel.invokeFunction('convertToInteractive',\n",
              "                                                     [key], {});\n",
              "          if (!dataTable) return;\n",
              "\n",
              "          const docLinkHtml = 'Like what you see? Visit the ' +\n",
              "            '<a target=\"_blank\" href=https://colab.research.google.com/notebooks/data_table.ipynb>data table notebook</a>'\n",
              "            + ' to learn more about interactive tables.';\n",
              "          element.innerHTML = '';\n",
              "          dataTable['output_type'] = 'display_data';\n",
              "          await google.colab.output.renderOutput(dataTable, element);\n",
              "          const docLink = document.createElement('div');\n",
              "          docLink.innerHTML = docLinkHtml;\n",
              "          element.appendChild(docLink);\n",
              "        }\n",
              "      </script>\n",
              "    </div>\n",
              "  </div>\n",
              "  "
            ]
          },
          "metadata": {},
          "execution_count": 46
        }
      ]
    },
    {
      "cell_type": "code",
      "source": [
        "#Xóa NaN cho dữ liệu \n",
        "df3 =  df3.dropna()\n",
        "df3"
      ],
      "metadata": {
        "colab": {
          "base_uri": "https://localhost:8080/",
          "height": 300
        },
        "id": "SWMMEWvhbBpA",
        "outputId": "addbaccd-5edd-43c4-93f5-fff04598a7de"
      },
      "execution_count": 49,
      "outputs": [
        {
          "output_type": "execute_result",
          "data": {
            "text/plain": [
              "    X1    X2    X3     X4\n",
              "0   70  49.0  30.0   34.0\n",
              "1   77  60.0  37.0   36.0\n",
              "2   83  63.0  56.0   48.0\n",
              "3   87  67.0  65.0   48.0\n",
              "4   92  70.0  76.0   65.0\n",
              "5   93  74.0  83.0   91.0\n",
              "6  100  77.0  87.0   98.0\n",
              "7  102  80.0  90.0  102.0"
            ],
            "text/html": [
              "\n",
              "  <div id=\"df-24b129a8-ed12-4799-a1fb-7895e2d5a75c\">\n",
              "    <div class=\"colab-df-container\">\n",
              "      <div>\n",
              "<style scoped>\n",
              "    .dataframe tbody tr th:only-of-type {\n",
              "        vertical-align: middle;\n",
              "    }\n",
              "\n",
              "    .dataframe tbody tr th {\n",
              "        vertical-align: top;\n",
              "    }\n",
              "\n",
              "    .dataframe thead th {\n",
              "        text-align: right;\n",
              "    }\n",
              "</style>\n",
              "<table border=\"1\" class=\"dataframe\">\n",
              "  <thead>\n",
              "    <tr style=\"text-align: right;\">\n",
              "      <th></th>\n",
              "      <th>X1</th>\n",
              "      <th>X2</th>\n",
              "      <th>X3</th>\n",
              "      <th>X4</th>\n",
              "    </tr>\n",
              "  </thead>\n",
              "  <tbody>\n",
              "    <tr>\n",
              "      <th>0</th>\n",
              "      <td>70</td>\n",
              "      <td>49.0</td>\n",
              "      <td>30.0</td>\n",
              "      <td>34.0</td>\n",
              "    </tr>\n",
              "    <tr>\n",
              "      <th>1</th>\n",
              "      <td>77</td>\n",
              "      <td>60.0</td>\n",
              "      <td>37.0</td>\n",
              "      <td>36.0</td>\n",
              "    </tr>\n",
              "    <tr>\n",
              "      <th>2</th>\n",
              "      <td>83</td>\n",
              "      <td>63.0</td>\n",
              "      <td>56.0</td>\n",
              "      <td>48.0</td>\n",
              "    </tr>\n",
              "    <tr>\n",
              "      <th>3</th>\n",
              "      <td>87</td>\n",
              "      <td>67.0</td>\n",
              "      <td>65.0</td>\n",
              "      <td>48.0</td>\n",
              "    </tr>\n",
              "    <tr>\n",
              "      <th>4</th>\n",
              "      <td>92</td>\n",
              "      <td>70.0</td>\n",
              "      <td>76.0</td>\n",
              "      <td>65.0</td>\n",
              "    </tr>\n",
              "    <tr>\n",
              "      <th>5</th>\n",
              "      <td>93</td>\n",
              "      <td>74.0</td>\n",
              "      <td>83.0</td>\n",
              "      <td>91.0</td>\n",
              "    </tr>\n",
              "    <tr>\n",
              "      <th>6</th>\n",
              "      <td>100</td>\n",
              "      <td>77.0</td>\n",
              "      <td>87.0</td>\n",
              "      <td>98.0</td>\n",
              "    </tr>\n",
              "    <tr>\n",
              "      <th>7</th>\n",
              "      <td>102</td>\n",
              "      <td>80.0</td>\n",
              "      <td>90.0</td>\n",
              "      <td>102.0</td>\n",
              "    </tr>\n",
              "  </tbody>\n",
              "</table>\n",
              "</div>\n",
              "      <button class=\"colab-df-convert\" onclick=\"convertToInteractive('df-24b129a8-ed12-4799-a1fb-7895e2d5a75c')\"\n",
              "              title=\"Convert this dataframe to an interactive table.\"\n",
              "              style=\"display:none;\">\n",
              "        \n",
              "  <svg xmlns=\"http://www.w3.org/2000/svg\" height=\"24px\"viewBox=\"0 0 24 24\"\n",
              "       width=\"24px\">\n",
              "    <path d=\"M0 0h24v24H0V0z\" fill=\"none\"/>\n",
              "    <path d=\"M18.56 5.44l.94 2.06.94-2.06 2.06-.94-2.06-.94-.94-2.06-.94 2.06-2.06.94zm-11 1L8.5 8.5l.94-2.06 2.06-.94-2.06-.94L8.5 2.5l-.94 2.06-2.06.94zm10 10l.94 2.06.94-2.06 2.06-.94-2.06-.94-.94-2.06-.94 2.06-2.06.94z\"/><path d=\"M17.41 7.96l-1.37-1.37c-.4-.4-.92-.59-1.43-.59-.52 0-1.04.2-1.43.59L10.3 9.45l-7.72 7.72c-.78.78-.78 2.05 0 2.83L4 21.41c.39.39.9.59 1.41.59.51 0 1.02-.2 1.41-.59l7.78-7.78 2.81-2.81c.8-.78.8-2.07 0-2.86zM5.41 20L4 18.59l7.72-7.72 1.47 1.35L5.41 20z\"/>\n",
              "  </svg>\n",
              "      </button>\n",
              "      \n",
              "  <style>\n",
              "    .colab-df-container {\n",
              "      display:flex;\n",
              "      flex-wrap:wrap;\n",
              "      gap: 12px;\n",
              "    }\n",
              "\n",
              "    .colab-df-convert {\n",
              "      background-color: #E8F0FE;\n",
              "      border: none;\n",
              "      border-radius: 50%;\n",
              "      cursor: pointer;\n",
              "      display: none;\n",
              "      fill: #1967D2;\n",
              "      height: 32px;\n",
              "      padding: 0 0 0 0;\n",
              "      width: 32px;\n",
              "    }\n",
              "\n",
              "    .colab-df-convert:hover {\n",
              "      background-color: #E2EBFA;\n",
              "      box-shadow: 0px 1px 2px rgba(60, 64, 67, 0.3), 0px 1px 3px 1px rgba(60, 64, 67, 0.15);\n",
              "      fill: #174EA6;\n",
              "    }\n",
              "\n",
              "    [theme=dark] .colab-df-convert {\n",
              "      background-color: #3B4455;\n",
              "      fill: #D2E3FC;\n",
              "    }\n",
              "\n",
              "    [theme=dark] .colab-df-convert:hover {\n",
              "      background-color: #434B5C;\n",
              "      box-shadow: 0px 1px 3px 1px rgba(0, 0, 0, 0.15);\n",
              "      filter: drop-shadow(0px 1px 2px rgba(0, 0, 0, 0.3));\n",
              "      fill: #FFFFFF;\n",
              "    }\n",
              "  </style>\n",
              "\n",
              "      <script>\n",
              "        const buttonEl =\n",
              "          document.querySelector('#df-24b129a8-ed12-4799-a1fb-7895e2d5a75c button.colab-df-convert');\n",
              "        buttonEl.style.display =\n",
              "          google.colab.kernel.accessAllowed ? 'block' : 'none';\n",
              "\n",
              "        async function convertToInteractive(key) {\n",
              "          const element = document.querySelector('#df-24b129a8-ed12-4799-a1fb-7895e2d5a75c');\n",
              "          const dataTable =\n",
              "            await google.colab.kernel.invokeFunction('convertToInteractive',\n",
              "                                                     [key], {});\n",
              "          if (!dataTable) return;\n",
              "\n",
              "          const docLinkHtml = 'Like what you see? Visit the ' +\n",
              "            '<a target=\"_blank\" href=https://colab.research.google.com/notebooks/data_table.ipynb>data table notebook</a>'\n",
              "            + ' to learn more about interactive tables.';\n",
              "          element.innerHTML = '';\n",
              "          dataTable['output_type'] = 'display_data';\n",
              "          await google.colab.output.renderOutput(dataTable, element);\n",
              "          const docLink = document.createElement('div');\n",
              "          docLink.innerHTML = docLinkHtml;\n",
              "          element.appendChild(docLink);\n",
              "        }\n",
              "      </script>\n",
              "    </div>\n",
              "  </div>\n",
              "  "
            ]
          },
          "metadata": {},
          "execution_count": 49
        }
      ]
    },
    {
      "cell_type": "markdown",
      "source": [
        "**Bắt đầu tiến hành kiểm định các nhóm có lấy từ phân phối chuẩn**"
      ],
      "metadata": {
        "id": "DczMIjBHbNBr"
      }
    },
    {
      "cell_type": "markdown",
      "source": [
        "Phát biểu giả thuyết :\n",
        "\n",
        "Giả thuyết null\n",
        "\n",
        "$$H_0 : \\text{Các nhóm được lấy từ phân phối chuẩn}$$\n",
        "\n",
        "Giả thuyết thay thế \n",
        "\n",
        "$$H_a:\\text{Các nhóm không được lấy từ phân phối chuẩn}$$ "
      ],
      "metadata": {
        "id": "B1echYACbPif"
      }
    },
    {
      "cell_type": "code",
      "source": [
        "stats,p_value = st.shapiro(df3[\"X1\"])\n",
        "print(\"p_value:\",p_value)\n",
        "if p_value < 0.05:\n",
        "  print(\"Có bằng chứng bác bỏ  giả thuyết H0\")\n",
        "else:\n",
        "  print(\"Không có bằng chứng bác bỏ  giả thuyết H0\")"
      ],
      "metadata": {
        "colab": {
          "base_uri": "https://localhost:8080/"
        },
        "id": "lv9gcbVQbMZA",
        "outputId": "34e8f9bb-ff2c-4c10-f5a5-c9f23ccec91b"
      },
      "execution_count": 52,
      "outputs": [
        {
          "output_type": "stream",
          "name": "stdout",
          "text": [
            "p_value: 0.8542101979255676\n",
            "Không có bằng chứng bác bỏ giả thuyết H0\n"
          ]
        }
      ]
    },
    {
      "cell_type": "code",
      "source": [
        "stats,p_value = st.shapiro(df3[\"X2\"])\n",
        "print(\"p_value:\",p_value)\n",
        "if p_value < 0.05:\n",
        "  print(\"Có bằng chứng để bác bỏ  giả thuyết H0\")\n",
        "else:\n",
        "  print(\"Không có bằng chứng bác bỏ  giả thuyết H0\")"
      ],
      "metadata": {
        "colab": {
          "base_uri": "https://localhost:8080/"
        },
        "id": "0pUcVOhGdfa2",
        "outputId": "81e9b6c5-9863-45bb-b58a-8a388a5d9f8a"
      },
      "execution_count": 53,
      "outputs": [
        {
          "output_type": "stream",
          "name": "stdout",
          "text": [
            "p_value: 0.8434385061264038\n",
            "Không có bằng chứng bác bỏ giả thuyết H0\n"
          ]
        }
      ]
    },
    {
      "cell_type": "code",
      "source": [
        "stats,p_value = st.shapiro(df3[\"X3\"])\n",
        "print(\"p_value:\",p_value)\n",
        "if p_value < 0.05:\n",
        "  print(\"Có bằng chứng để bác bỏ  giả thuyết H0\")\n",
        "else:\n",
        "  print(\"Không có bằng chứng bác bỏ  giả thuyết H0\")"
      ],
      "metadata": {
        "colab": {
          "base_uri": "https://localhost:8080/"
        },
        "id": "0ktZCEFCd7yI",
        "outputId": "93449bf9-77b8-48b7-f55b-8aac9a90e2d6"
      },
      "execution_count": 54,
      "outputs": [
        {
          "output_type": "stream",
          "name": "stdout",
          "text": [
            "p_value: 0.3321065306663513\n",
            "Không có bằng chứng bác bỏ giả thuyết H0\n"
          ]
        }
      ]
    },
    {
      "cell_type": "code",
      "source": [
        "stats,p_value = st.shapiro(df3[\"X4\"])\n",
        "print(\"p_value:\",p_value)\n",
        "if p_value < 0.05:\n",
        "  print(\"Có bằng chứng để bác bỏ  giả thuyết H0\")\n",
        "else:\n",
        "  print(\"Không có bằng chứng bác bỏ  giả thuyết H0\")"
      ],
      "metadata": {
        "colab": {
          "base_uri": "https://localhost:8080/"
        },
        "id": "e-6zcfyQd77Y",
        "outputId": "80d0c742-bd79-4c80-dfd8-f7718cb0ad60"
      },
      "execution_count": 55,
      "outputs": [
        {
          "output_type": "stream",
          "name": "stdout",
          "text": [
            "p_value: 0.14956821501255035\n",
            "Không có bằng chứng bác bỏ  giả thuyết H0\n"
          ]
        }
      ]
    },
    {
      "cell_type": "markdown",
      "source": [
        "**Bắt đầu tiến hành kiểm định phương sai của các nhóm có sự khác biệt**"
      ],
      "metadata": {
        "id": "b_V17Lk-eAMb"
      }
    },
    {
      "cell_type": "markdown",
      "source": [
        "Phát biểu giả thuyết :\n",
        "\n",
        "Giả thuyết null\n",
        "\n",
        "$$H_0 : \\text{Các nhóm có phương sai giống nhau}$$\n",
        "\n",
        "Giả thuyết thay thế \n",
        "\n",
        "$$H_a:\\text{Các nhóm có phương sai không giống nhau}$$ "
      ],
      "metadata": {
        "id": "aarFJuhIeCd1"
      }
    },
    {
      "cell_type": "code",
      "source": [
        "stats, p_value = st.bartlett(df3[\"X1\"], df3[\"X2\"], df3[\"X3\"], df3[\"X4\"])\n",
        "print(\"p_value:\",p_value)\n",
        "if p_value < 0.05:\n",
        "  print(\"Có bằng chứng bác bỏ  giả thuyết H0\")\n",
        "else:\n",
        "  print(\"Không có bằng chứng bác bỏ giả thuyết H0\")"
      ],
      "metadata": {
        "colab": {
          "base_uri": "https://localhost:8080/"
        },
        "id": "ZKEU0T1YeGHk",
        "outputId": "2c41f7e9-e82f-455b-c213-704b2c5b2f76"
      },
      "execution_count": 57,
      "outputs": [
        {
          "output_type": "stream",
          "name": "stdout",
          "text": [
            "p_value: 0.023106804849423433\n",
            "Có bằng chứng bác bỏ  giả thuyết H0\n"
          ]
        }
      ]
    },
    {
      "cell_type": "markdown",
      "source": [
        "**Không thể tiến hành phân tích ANOVA 1 chiều với dữ liệu vì phương sai giữa các nhóm khác nhau**"
      ],
      "metadata": {
        "id": "jvg_mUvQe8x9"
      }
    },
    {
      "cell_type": "markdown",
      "source": [
        "**4.Phân tích ANOVA 1 chiều với Business Startup Costs( Chi phí khởi nghiệp kinh doanh)**"
      ],
      "metadata": {
        "id": "Uy-e-efUfccT"
      }
    },
    {
      "cell_type": "markdown",
      "source": [
        "*Đề bài: Chi phí Khởi nghiệp Kinh doanh*\n",
        "\n",
        "\n",
        "Dữ liệu sau thể hiện chi phí khởi động kinh doanh (hàng nghìn đô la) cho các cửa hàng.\n",
        "\n",
        "X1 = chi phí khởi động cho bánh pizza\n",
        "\n",
        "X2 = chi phí khởi động cho thợ làm bánh / bánh rán\n",
        "\n",
        "X3 = chi phí khởi động cho các cửa hàng giày\n",
        "\n",
        "X4 = chi phí khởi động cho các cửa hàng quà tặng\n",
        "\n",
        "X5 = chi phí khởi động cho các cửa hàng thú cưng"
      ],
      "metadata": {
        "id": "kdVwPYPyfoOa"
      }
    },
    {
      "cell_type": "markdown",
      "source": [
        "Xây dựng giả thuyết :\n",
        "$$H_{0}: \\mu_{1} = \\mu_{2} = ... = \\mu_{n}$$\n",
        "$$H_{a}: \\text{Tồn tại ít nhất một cặp } (\\mu_{i}, \\mu_{j}) \\text{ có giá trị khác nhau}$$"
      ],
      "metadata": {
        "id": "szm2_fJCf67D"
      }
    },
    {
      "cell_type": "code",
      "source": [
        "#Đọc file excel\n",
        "df4 = pd.read_excel(\"/owan04.xls\",engine=\"xlrd\")\n",
        "df4"
      ],
      "metadata": {
        "colab": {
          "base_uri": "https://localhost:8080/",
          "height": 568
        },
        "id": "JrNdn0ZIf1Y5",
        "outputId": "37c798d6-102a-45ce-d8f2-6c147964642a"
      },
      "execution_count": 60,
      "outputs": [
        {
          "output_type": "stream",
          "name": "stdout",
          "text": [
            "*** No CODEPAGE record, no encoding_override: will use 'iso-8859-1'\n"
          ]
        },
        {
          "output_type": "execute_result",
          "data": {
            "text/plain": [
              "       X1     X2     X3     X4   X5\n",
              "0    80.0  150.0   48.0  100.0   25\n",
              "1   125.0   40.0   35.0   96.0   80\n",
              "2    35.0  120.0   95.0   35.0   30\n",
              "3    58.0   75.0   45.0   99.0   35\n",
              "4   110.0  160.0   75.0   75.0   30\n",
              "5   140.0   60.0  115.0  150.0   28\n",
              "6    97.0   45.0   42.0   45.0   20\n",
              "7    50.0  100.0   78.0  100.0   75\n",
              "8    65.0   86.0   65.0  120.0   48\n",
              "9    79.0   87.0  125.0   50.0   20\n",
              "10   35.0   90.0    NaN    NaN   50\n",
              "11   85.0    NaN    NaN    NaN   75\n",
              "12  120.0    NaN    NaN    NaN   55\n",
              "13    NaN    NaN    NaN    NaN   60\n",
              "14    NaN    NaN    NaN    NaN   85\n",
              "15    NaN    NaN    NaN    NaN  110"
            ],
            "text/html": [
              "\n",
              "  <div id=\"df-8a0f97f3-4fa7-45b0-a33a-ae1e08373895\">\n",
              "    <div class=\"colab-df-container\">\n",
              "      <div>\n",
              "<style scoped>\n",
              "    .dataframe tbody tr th:only-of-type {\n",
              "        vertical-align: middle;\n",
              "    }\n",
              "\n",
              "    .dataframe tbody tr th {\n",
              "        vertical-align: top;\n",
              "    }\n",
              "\n",
              "    .dataframe thead th {\n",
              "        text-align: right;\n",
              "    }\n",
              "</style>\n",
              "<table border=\"1\" class=\"dataframe\">\n",
              "  <thead>\n",
              "    <tr style=\"text-align: right;\">\n",
              "      <th></th>\n",
              "      <th>X1</th>\n",
              "      <th>X2</th>\n",
              "      <th>X3</th>\n",
              "      <th>X4</th>\n",
              "      <th>X5</th>\n",
              "    </tr>\n",
              "  </thead>\n",
              "  <tbody>\n",
              "    <tr>\n",
              "      <th>0</th>\n",
              "      <td>80.0</td>\n",
              "      <td>150.0</td>\n",
              "      <td>48.0</td>\n",
              "      <td>100.0</td>\n",
              "      <td>25</td>\n",
              "    </tr>\n",
              "    <tr>\n",
              "      <th>1</th>\n",
              "      <td>125.0</td>\n",
              "      <td>40.0</td>\n",
              "      <td>35.0</td>\n",
              "      <td>96.0</td>\n",
              "      <td>80</td>\n",
              "    </tr>\n",
              "    <tr>\n",
              "      <th>2</th>\n",
              "      <td>35.0</td>\n",
              "      <td>120.0</td>\n",
              "      <td>95.0</td>\n",
              "      <td>35.0</td>\n",
              "      <td>30</td>\n",
              "    </tr>\n",
              "    <tr>\n",
              "      <th>3</th>\n",
              "      <td>58.0</td>\n",
              "      <td>75.0</td>\n",
              "      <td>45.0</td>\n",
              "      <td>99.0</td>\n",
              "      <td>35</td>\n",
              "    </tr>\n",
              "    <tr>\n",
              "      <th>4</th>\n",
              "      <td>110.0</td>\n",
              "      <td>160.0</td>\n",
              "      <td>75.0</td>\n",
              "      <td>75.0</td>\n",
              "      <td>30</td>\n",
              "    </tr>\n",
              "    <tr>\n",
              "      <th>5</th>\n",
              "      <td>140.0</td>\n",
              "      <td>60.0</td>\n",
              "      <td>115.0</td>\n",
              "      <td>150.0</td>\n",
              "      <td>28</td>\n",
              "    </tr>\n",
              "    <tr>\n",
              "      <th>6</th>\n",
              "      <td>97.0</td>\n",
              "      <td>45.0</td>\n",
              "      <td>42.0</td>\n",
              "      <td>45.0</td>\n",
              "      <td>20</td>\n",
              "    </tr>\n",
              "    <tr>\n",
              "      <th>7</th>\n",
              "      <td>50.0</td>\n",
              "      <td>100.0</td>\n",
              "      <td>78.0</td>\n",
              "      <td>100.0</td>\n",
              "      <td>75</td>\n",
              "    </tr>\n",
              "    <tr>\n",
              "      <th>8</th>\n",
              "      <td>65.0</td>\n",
              "      <td>86.0</td>\n",
              "      <td>65.0</td>\n",
              "      <td>120.0</td>\n",
              "      <td>48</td>\n",
              "    </tr>\n",
              "    <tr>\n",
              "      <th>9</th>\n",
              "      <td>79.0</td>\n",
              "      <td>87.0</td>\n",
              "      <td>125.0</td>\n",
              "      <td>50.0</td>\n",
              "      <td>20</td>\n",
              "    </tr>\n",
              "    <tr>\n",
              "      <th>10</th>\n",
              "      <td>35.0</td>\n",
              "      <td>90.0</td>\n",
              "      <td>NaN</td>\n",
              "      <td>NaN</td>\n",
              "      <td>50</td>\n",
              "    </tr>\n",
              "    <tr>\n",
              "      <th>11</th>\n",
              "      <td>85.0</td>\n",
              "      <td>NaN</td>\n",
              "      <td>NaN</td>\n",
              "      <td>NaN</td>\n",
              "      <td>75</td>\n",
              "    </tr>\n",
              "    <tr>\n",
              "      <th>12</th>\n",
              "      <td>120.0</td>\n",
              "      <td>NaN</td>\n",
              "      <td>NaN</td>\n",
              "      <td>NaN</td>\n",
              "      <td>55</td>\n",
              "    </tr>\n",
              "    <tr>\n",
              "      <th>13</th>\n",
              "      <td>NaN</td>\n",
              "      <td>NaN</td>\n",
              "      <td>NaN</td>\n",
              "      <td>NaN</td>\n",
              "      <td>60</td>\n",
              "    </tr>\n",
              "    <tr>\n",
              "      <th>14</th>\n",
              "      <td>NaN</td>\n",
              "      <td>NaN</td>\n",
              "      <td>NaN</td>\n",
              "      <td>NaN</td>\n",
              "      <td>85</td>\n",
              "    </tr>\n",
              "    <tr>\n",
              "      <th>15</th>\n",
              "      <td>NaN</td>\n",
              "      <td>NaN</td>\n",
              "      <td>NaN</td>\n",
              "      <td>NaN</td>\n",
              "      <td>110</td>\n",
              "    </tr>\n",
              "  </tbody>\n",
              "</table>\n",
              "</div>\n",
              "      <button class=\"colab-df-convert\" onclick=\"convertToInteractive('df-8a0f97f3-4fa7-45b0-a33a-ae1e08373895')\"\n",
              "              title=\"Convert this dataframe to an interactive table.\"\n",
              "              style=\"display:none;\">\n",
              "        \n",
              "  <svg xmlns=\"http://www.w3.org/2000/svg\" height=\"24px\"viewBox=\"0 0 24 24\"\n",
              "       width=\"24px\">\n",
              "    <path d=\"M0 0h24v24H0V0z\" fill=\"none\"/>\n",
              "    <path d=\"M18.56 5.44l.94 2.06.94-2.06 2.06-.94-2.06-.94-.94-2.06-.94 2.06-2.06.94zm-11 1L8.5 8.5l.94-2.06 2.06-.94-2.06-.94L8.5 2.5l-.94 2.06-2.06.94zm10 10l.94 2.06.94-2.06 2.06-.94-2.06-.94-.94-2.06-.94 2.06-2.06.94z\"/><path d=\"M17.41 7.96l-1.37-1.37c-.4-.4-.92-.59-1.43-.59-.52 0-1.04.2-1.43.59L10.3 9.45l-7.72 7.72c-.78.78-.78 2.05 0 2.83L4 21.41c.39.39.9.59 1.41.59.51 0 1.02-.2 1.41-.59l7.78-7.78 2.81-2.81c.8-.78.8-2.07 0-2.86zM5.41 20L4 18.59l7.72-7.72 1.47 1.35L5.41 20z\"/>\n",
              "  </svg>\n",
              "      </button>\n",
              "      \n",
              "  <style>\n",
              "    .colab-df-container {\n",
              "      display:flex;\n",
              "      flex-wrap:wrap;\n",
              "      gap: 12px;\n",
              "    }\n",
              "\n",
              "    .colab-df-convert {\n",
              "      background-color: #E8F0FE;\n",
              "      border: none;\n",
              "      border-radius: 50%;\n",
              "      cursor: pointer;\n",
              "      display: none;\n",
              "      fill: #1967D2;\n",
              "      height: 32px;\n",
              "      padding: 0 0 0 0;\n",
              "      width: 32px;\n",
              "    }\n",
              "\n",
              "    .colab-df-convert:hover {\n",
              "      background-color: #E2EBFA;\n",
              "      box-shadow: 0px 1px 2px rgba(60, 64, 67, 0.3), 0px 1px 3px 1px rgba(60, 64, 67, 0.15);\n",
              "      fill: #174EA6;\n",
              "    }\n",
              "\n",
              "    [theme=dark] .colab-df-convert {\n",
              "      background-color: #3B4455;\n",
              "      fill: #D2E3FC;\n",
              "    }\n",
              "\n",
              "    [theme=dark] .colab-df-convert:hover {\n",
              "      background-color: #434B5C;\n",
              "      box-shadow: 0px 1px 3px 1px rgba(0, 0, 0, 0.15);\n",
              "      filter: drop-shadow(0px 1px 2px rgba(0, 0, 0, 0.3));\n",
              "      fill: #FFFFFF;\n",
              "    }\n",
              "  </style>\n",
              "\n",
              "      <script>\n",
              "        const buttonEl =\n",
              "          document.querySelector('#df-8a0f97f3-4fa7-45b0-a33a-ae1e08373895 button.colab-df-convert');\n",
              "        buttonEl.style.display =\n",
              "          google.colab.kernel.accessAllowed ? 'block' : 'none';\n",
              "\n",
              "        async function convertToInteractive(key) {\n",
              "          const element = document.querySelector('#df-8a0f97f3-4fa7-45b0-a33a-ae1e08373895');\n",
              "          const dataTable =\n",
              "            await google.colab.kernel.invokeFunction('convertToInteractive',\n",
              "                                                     [key], {});\n",
              "          if (!dataTable) return;\n",
              "\n",
              "          const docLinkHtml = 'Like what you see? Visit the ' +\n",
              "            '<a target=\"_blank\" href=https://colab.research.google.com/notebooks/data_table.ipynb>data table notebook</a>'\n",
              "            + ' to learn more about interactive tables.';\n",
              "          element.innerHTML = '';\n",
              "          dataTable['output_type'] = 'display_data';\n",
              "          await google.colab.output.renderOutput(dataTable, element);\n",
              "          const docLink = document.createElement('div');\n",
              "          docLink.innerHTML = docLinkHtml;\n",
              "          element.appendChild(docLink);\n",
              "        }\n",
              "      </script>\n",
              "    </div>\n",
              "  </div>\n",
              "  "
            ]
          },
          "metadata": {},
          "execution_count": 60
        }
      ]
    },
    {
      "cell_type": "code",
      "source": [
        "#Xóa NaN cho dữ liệu \n",
        "df4 = df4.dropna()\n",
        "df4"
      ],
      "metadata": {
        "colab": {
          "base_uri": "https://localhost:8080/",
          "height": 363
        },
        "id": "OsgYFxIBgLfr",
        "outputId": "852d0f36-8cf1-4ed3-b52d-501435a5b7e0"
      },
      "execution_count": 62,
      "outputs": [
        {
          "output_type": "execute_result",
          "data": {
            "text/plain": [
              "      X1     X2     X3     X4  X5\n",
              "0   80.0  150.0   48.0  100.0  25\n",
              "1  125.0   40.0   35.0   96.0  80\n",
              "2   35.0  120.0   95.0   35.0  30\n",
              "3   58.0   75.0   45.0   99.0  35\n",
              "4  110.0  160.0   75.0   75.0  30\n",
              "5  140.0   60.0  115.0  150.0  28\n",
              "6   97.0   45.0   42.0   45.0  20\n",
              "7   50.0  100.0   78.0  100.0  75\n",
              "8   65.0   86.0   65.0  120.0  48\n",
              "9   79.0   87.0  125.0   50.0  20"
            ],
            "text/html": [
              "\n",
              "  <div id=\"df-bbf1b14d-97bb-4792-9eec-ac1671fe68d5\">\n",
              "    <div class=\"colab-df-container\">\n",
              "      <div>\n",
              "<style scoped>\n",
              "    .dataframe tbody tr th:only-of-type {\n",
              "        vertical-align: middle;\n",
              "    }\n",
              "\n",
              "    .dataframe tbody tr th {\n",
              "        vertical-align: top;\n",
              "    }\n",
              "\n",
              "    .dataframe thead th {\n",
              "        text-align: right;\n",
              "    }\n",
              "</style>\n",
              "<table border=\"1\" class=\"dataframe\">\n",
              "  <thead>\n",
              "    <tr style=\"text-align: right;\">\n",
              "      <th></th>\n",
              "      <th>X1</th>\n",
              "      <th>X2</th>\n",
              "      <th>X3</th>\n",
              "      <th>X4</th>\n",
              "      <th>X5</th>\n",
              "    </tr>\n",
              "  </thead>\n",
              "  <tbody>\n",
              "    <tr>\n",
              "      <th>0</th>\n",
              "      <td>80.0</td>\n",
              "      <td>150.0</td>\n",
              "      <td>48.0</td>\n",
              "      <td>100.0</td>\n",
              "      <td>25</td>\n",
              "    </tr>\n",
              "    <tr>\n",
              "      <th>1</th>\n",
              "      <td>125.0</td>\n",
              "      <td>40.0</td>\n",
              "      <td>35.0</td>\n",
              "      <td>96.0</td>\n",
              "      <td>80</td>\n",
              "    </tr>\n",
              "    <tr>\n",
              "      <th>2</th>\n",
              "      <td>35.0</td>\n",
              "      <td>120.0</td>\n",
              "      <td>95.0</td>\n",
              "      <td>35.0</td>\n",
              "      <td>30</td>\n",
              "    </tr>\n",
              "    <tr>\n",
              "      <th>3</th>\n",
              "      <td>58.0</td>\n",
              "      <td>75.0</td>\n",
              "      <td>45.0</td>\n",
              "      <td>99.0</td>\n",
              "      <td>35</td>\n",
              "    </tr>\n",
              "    <tr>\n",
              "      <th>4</th>\n",
              "      <td>110.0</td>\n",
              "      <td>160.0</td>\n",
              "      <td>75.0</td>\n",
              "      <td>75.0</td>\n",
              "      <td>30</td>\n",
              "    </tr>\n",
              "    <tr>\n",
              "      <th>5</th>\n",
              "      <td>140.0</td>\n",
              "      <td>60.0</td>\n",
              "      <td>115.0</td>\n",
              "      <td>150.0</td>\n",
              "      <td>28</td>\n",
              "    </tr>\n",
              "    <tr>\n",
              "      <th>6</th>\n",
              "      <td>97.0</td>\n",
              "      <td>45.0</td>\n",
              "      <td>42.0</td>\n",
              "      <td>45.0</td>\n",
              "      <td>20</td>\n",
              "    </tr>\n",
              "    <tr>\n",
              "      <th>7</th>\n",
              "      <td>50.0</td>\n",
              "      <td>100.0</td>\n",
              "      <td>78.0</td>\n",
              "      <td>100.0</td>\n",
              "      <td>75</td>\n",
              "    </tr>\n",
              "    <tr>\n",
              "      <th>8</th>\n",
              "      <td>65.0</td>\n",
              "      <td>86.0</td>\n",
              "      <td>65.0</td>\n",
              "      <td>120.0</td>\n",
              "      <td>48</td>\n",
              "    </tr>\n",
              "    <tr>\n",
              "      <th>9</th>\n",
              "      <td>79.0</td>\n",
              "      <td>87.0</td>\n",
              "      <td>125.0</td>\n",
              "      <td>50.0</td>\n",
              "      <td>20</td>\n",
              "    </tr>\n",
              "  </tbody>\n",
              "</table>\n",
              "</div>\n",
              "      <button class=\"colab-df-convert\" onclick=\"convertToInteractive('df-bbf1b14d-97bb-4792-9eec-ac1671fe68d5')\"\n",
              "              title=\"Convert this dataframe to an interactive table.\"\n",
              "              style=\"display:none;\">\n",
              "        \n",
              "  <svg xmlns=\"http://www.w3.org/2000/svg\" height=\"24px\"viewBox=\"0 0 24 24\"\n",
              "       width=\"24px\">\n",
              "    <path d=\"M0 0h24v24H0V0z\" fill=\"none\"/>\n",
              "    <path d=\"M18.56 5.44l.94 2.06.94-2.06 2.06-.94-2.06-.94-.94-2.06-.94 2.06-2.06.94zm-11 1L8.5 8.5l.94-2.06 2.06-.94-2.06-.94L8.5 2.5l-.94 2.06-2.06.94zm10 10l.94 2.06.94-2.06 2.06-.94-2.06-.94-.94-2.06-.94 2.06-2.06.94z\"/><path d=\"M17.41 7.96l-1.37-1.37c-.4-.4-.92-.59-1.43-.59-.52 0-1.04.2-1.43.59L10.3 9.45l-7.72 7.72c-.78.78-.78 2.05 0 2.83L4 21.41c.39.39.9.59 1.41.59.51 0 1.02-.2 1.41-.59l7.78-7.78 2.81-2.81c.8-.78.8-2.07 0-2.86zM5.41 20L4 18.59l7.72-7.72 1.47 1.35L5.41 20z\"/>\n",
              "  </svg>\n",
              "      </button>\n",
              "      \n",
              "  <style>\n",
              "    .colab-df-container {\n",
              "      display:flex;\n",
              "      flex-wrap:wrap;\n",
              "      gap: 12px;\n",
              "    }\n",
              "\n",
              "    .colab-df-convert {\n",
              "      background-color: #E8F0FE;\n",
              "      border: none;\n",
              "      border-radius: 50%;\n",
              "      cursor: pointer;\n",
              "      display: none;\n",
              "      fill: #1967D2;\n",
              "      height: 32px;\n",
              "      padding: 0 0 0 0;\n",
              "      width: 32px;\n",
              "    }\n",
              "\n",
              "    .colab-df-convert:hover {\n",
              "      background-color: #E2EBFA;\n",
              "      box-shadow: 0px 1px 2px rgba(60, 64, 67, 0.3), 0px 1px 3px 1px rgba(60, 64, 67, 0.15);\n",
              "      fill: #174EA6;\n",
              "    }\n",
              "\n",
              "    [theme=dark] .colab-df-convert {\n",
              "      background-color: #3B4455;\n",
              "      fill: #D2E3FC;\n",
              "    }\n",
              "\n",
              "    [theme=dark] .colab-df-convert:hover {\n",
              "      background-color: #434B5C;\n",
              "      box-shadow: 0px 1px 3px 1px rgba(0, 0, 0, 0.15);\n",
              "      filter: drop-shadow(0px 1px 2px rgba(0, 0, 0, 0.3));\n",
              "      fill: #FFFFFF;\n",
              "    }\n",
              "  </style>\n",
              "\n",
              "      <script>\n",
              "        const buttonEl =\n",
              "          document.querySelector('#df-bbf1b14d-97bb-4792-9eec-ac1671fe68d5 button.colab-df-convert');\n",
              "        buttonEl.style.display =\n",
              "          google.colab.kernel.accessAllowed ? 'block' : 'none';\n",
              "\n",
              "        async function convertToInteractive(key) {\n",
              "          const element = document.querySelector('#df-bbf1b14d-97bb-4792-9eec-ac1671fe68d5');\n",
              "          const dataTable =\n",
              "            await google.colab.kernel.invokeFunction('convertToInteractive',\n",
              "                                                     [key], {});\n",
              "          if (!dataTable) return;\n",
              "\n",
              "          const docLinkHtml = 'Like what you see? Visit the ' +\n",
              "            '<a target=\"_blank\" href=https://colab.research.google.com/notebooks/data_table.ipynb>data table notebook</a>'\n",
              "            + ' to learn more about interactive tables.';\n",
              "          element.innerHTML = '';\n",
              "          dataTable['output_type'] = 'display_data';\n",
              "          await google.colab.output.renderOutput(dataTable, element);\n",
              "          const docLink = document.createElement('div');\n",
              "          docLink.innerHTML = docLinkHtml;\n",
              "          element.appendChild(docLink);\n",
              "        }\n",
              "      </script>\n",
              "    </div>\n",
              "  </div>\n",
              "  "
            ]
          },
          "metadata": {},
          "execution_count": 62
        }
      ]
    },
    {
      "cell_type": "markdown",
      "source": [
        "**Bắt đầu tiến hành kiểm định các nhóm có lấy từ phân phối chuẩn**"
      ],
      "metadata": {
        "id": "T14_P3CYgU3y"
      }
    },
    {
      "cell_type": "markdown",
      "source": [
        "Phát biểu giả thuyết :\n",
        "\n",
        "Giả thuyết null\n",
        "\n",
        "$$H_0 : \\text{Các nhóm được lấy từ phân phối chuẩn}$$\n",
        "\n",
        "Giả thuyết thay thế \n",
        "\n",
        "$$H_a:\\text{Các nhóm không được lấy từ phân phối chuẩn}$$ "
      ],
      "metadata": {
        "id": "e30eUIGsgWev"
      }
    },
    {
      "cell_type": "code",
      "source": [
        "stats, p_value = st.shapiro(df4[\"X1\"])\n",
        "print(\"p_value:\",p_value)\n",
        "if p_value < 0.05:\n",
        "  print(\"Có bằng chứng bác bỏ giả thuyết H0\")\n",
        "else:\n",
        "  print(\"Không có bằng chứng bác bỏ  giả thuyết H0\")"
      ],
      "metadata": {
        "colab": {
          "base_uri": "https://localhost:8080/"
        },
        "id": "KC6bI8jvgX8x",
        "outputId": "398ccb44-cff4-4e9c-a82b-f1e63b83ce52"
      },
      "execution_count": 64,
      "outputs": [
        {
          "output_type": "stream",
          "name": "stdout",
          "text": [
            "p_value: 0.9062873125076294\n",
            "Không có bằng chứng bác bỏ  giả thuyết H0\n"
          ]
        }
      ]
    },
    {
      "cell_type": "code",
      "source": [
        "stats, p_value = st.shapiro(df4[\"X2\"])\n",
        "print(\"p_value:\",p_value)\n",
        "if p_value < 0.05:\n",
        "  print(\"Có bằng chứng bác bỏ  giả thuyết H0\")\n",
        "else:\n",
        "  print(\"Không có bằng chứng bác bỏ  giả thuyết H0\")"
      ],
      "metadata": {
        "colab": {
          "base_uri": "https://localhost:8080/"
        },
        "id": "vquMzZP_gc4g",
        "outputId": "d11c1a72-49dd-40c5-c5ba-c8565a13588c"
      },
      "execution_count": 65,
      "outputs": [
        {
          "output_type": "stream",
          "name": "stdout",
          "text": [
            "p_value: 0.5765353441238403\n",
            "Không có bằng chứng bác bỏ  giả thuyết H0\n"
          ]
        }
      ]
    },
    {
      "cell_type": "code",
      "source": [
        "stats, p_value = st.shapiro(df4[\"X3\"])\n",
        "print(\"p_value:\",p_value)\n",
        "if p_value < 0.05:\n",
        "  print(\"Có bằng chứng bác bỏ giả thuyết H0\")\n",
        "else:\n",
        "  print(\"Không có bằng chứng bác bỏ  giả thuyết H0\")"
      ],
      "metadata": {
        "colab": {
          "base_uri": "https://localhost:8080/"
        },
        "id": "32VCJs--gdBH",
        "outputId": "9ee2e779-50e5-4c67-9f6b-d8dc50d47d7b"
      },
      "execution_count": 66,
      "outputs": [
        {
          "output_type": "stream",
          "name": "stdout",
          "text": [
            "p_value: 0.3917592167854309\n",
            "Không có bằng chứng bác bỏ  giả thuyết H0\n"
          ]
        }
      ]
    },
    {
      "cell_type": "code",
      "source": [
        "stats, p_value = st.shapiro(df4[\"X4\"])\n",
        "print(\"p_value:\",p_value)\n",
        "if p_value < 0.05:\n",
        "  print(\"Có bằng chứng bác bỏ  giả thuyết H0\")\n",
        "else:\n",
        "  print(\"Không có bằng chứng bác bỏ  giả thuyết H0\")"
      ],
      "metadata": {
        "colab": {
          "base_uri": "https://localhost:8080/"
        },
        "id": "lm2yc2zagdIg",
        "outputId": "5158e336-55f1-4401-f9c8-67c874b1147f"
      },
      "execution_count": 67,
      "outputs": [
        {
          "output_type": "stream",
          "name": "stdout",
          "text": [
            "p_value: 0.5785742998123169\n",
            "Không có bằng chứng bác bỏ  giả thuyết H0\n"
          ]
        }
      ]
    },
    {
      "cell_type": "code",
      "source": [
        "stats, p_value = st.shapiro(df4[\"X5\"])\n",
        "print(\"p_value:\",p_value)\n",
        "if p_value < 0.05:\n",
        "  print(\"Có bằng chứng bác bỏ  giả thuyết H0\")\n",
        "else:\n",
        "  print(\"Không có bằng chứng bác bỏ  giả thuyết H0\")"
      ],
      "metadata": {
        "colab": {
          "base_uri": "https://localhost:8080/"
        },
        "id": "GUtvuF_VgdP3",
        "outputId": "41c5a1c9-2104-406a-df03-cf5bc6801d6d"
      },
      "execution_count": 68,
      "outputs": [
        {
          "output_type": "stream",
          "name": "stdout",
          "text": [
            "p_value: 0.012689383700489998\n",
            "Có bằng chứng bác bỏ  giả thuyết H0\n"
          ]
        }
      ]
    },
    {
      "cell_type": "markdown",
      "source": [
        "**Không thể tiến hành phân tích ANOVA 1 chiều với dữ liệu vì có một mẫu không được lấy từ phân phối chuẩn**"
      ],
      "metadata": {
        "id": "fr7NijbOjJHd"
      }
    },
    {
      "cell_type": "markdown",
      "source": [
        "**5.Phân tích ANOVA 1 chiều với Weights of Football Players(Trọng lượng của các cầu thủ bóng đá)**"
      ],
      "metadata": {
        "id": "BANp0L86jSoF"
      }
    },
    {
      "cell_type": "markdown",
      "source": [
        "*Đề bài: Trọng lượng của các cầu thủ bóng đá*\n",
        "\n",
        "Dữ liệu sau đây đại diện cho trọng lượng (pound) của một mẫu ngẫu nhiên các cầu thủ bóng đá chuyên nghiệp của các đội sau đây.\n",
        "\n",
        "X1 = trọng số của những người chơi cho Dallas Cowboys\n",
        "\n",
        "X2 = trọng lượng của người chơi cho Green Bay Packers\n",
        "\n",
        "X3 = trọng số của người chơi cho Denver Broncos\n",
        "\n",
        "X4 = trọng lượng của người chơi cho Miami Dolphins\n",
        "\n",
        "X5 = trọng lượng của người chơi cho San"
      ],
      "metadata": {
        "id": "Vx5g_TtrjuFz"
      }
    },
    {
      "cell_type": "markdown",
      "source": [
        "Xây dựng giả thuyết :\n",
        "$$H_{0}: \\mu_{1} = \\mu_{2} = ... = \\mu_{n}$$\n",
        "$$H_{a}: \\text{Tồn tại ít nhất một cặp } (\\mu_{i}, \\mu_{j}) \\text{ có giá trị khác nhau}$$"
      ],
      "metadata": {
        "id": "doILxZsJj5SW"
      }
    },
    {
      "cell_type": "code",
      "source": [
        "#Đọc file excel \n",
        "df5 = pd.read_excel(\"/owan05.xls\",engine=\"xlrd\")\n",
        "df5"
      ],
      "metadata": {
        "colab": {
          "base_uri": "https://localhost:8080/",
          "height": 600
        },
        "id": "U8mwctXpj9Q9",
        "outputId": "4f0db532-dab3-49fb-e232-68f50f28d88b"
      },
      "execution_count": 70,
      "outputs": [
        {
          "output_type": "stream",
          "name": "stdout",
          "text": [
            "*** No CODEPAGE record, no encoding_override: will use 'iso-8859-1'\n"
          ]
        },
        {
          "output_type": "execute_result",
          "data": {
            "text/plain": [
              "     X1   X2   X3   X4   X5\n",
              "0   250  260  270  260  247\n",
              "1   255  271  250  255  249\n",
              "2   255  258  281  265  255\n",
              "3   264  263  273  257  247\n",
              "4   250  267  257  268  244\n",
              "5   265  254  264  263  245\n",
              "6   245  255  233  247  249\n",
              "7   252  250  254  253  260\n",
              "8   266  248  268  251  217\n",
              "9   246  240  252  252  208\n",
              "10  251  254  256  266  228\n",
              "11  263  275  265  264  253\n",
              "12  248  270  252  210  249\n",
              "13  228  225  256  236  223\n",
              "14  221  222  235  225  221\n",
              "15  223  230  216  230  228\n",
              "16  220  225  241  232  271"
            ],
            "text/html": [
              "\n",
              "  <div id=\"df-ad0f904b-862f-4fcf-b00b-242b855d855f\">\n",
              "    <div class=\"colab-df-container\">\n",
              "      <div>\n",
              "<style scoped>\n",
              "    .dataframe tbody tr th:only-of-type {\n",
              "        vertical-align: middle;\n",
              "    }\n",
              "\n",
              "    .dataframe tbody tr th {\n",
              "        vertical-align: top;\n",
              "    }\n",
              "\n",
              "    .dataframe thead th {\n",
              "        text-align: right;\n",
              "    }\n",
              "</style>\n",
              "<table border=\"1\" class=\"dataframe\">\n",
              "  <thead>\n",
              "    <tr style=\"text-align: right;\">\n",
              "      <th></th>\n",
              "      <th>X1</th>\n",
              "      <th>X2</th>\n",
              "      <th>X3</th>\n",
              "      <th>X4</th>\n",
              "      <th>X5</th>\n",
              "    </tr>\n",
              "  </thead>\n",
              "  <tbody>\n",
              "    <tr>\n",
              "      <th>0</th>\n",
              "      <td>250</td>\n",
              "      <td>260</td>\n",
              "      <td>270</td>\n",
              "      <td>260</td>\n",
              "      <td>247</td>\n",
              "    </tr>\n",
              "    <tr>\n",
              "      <th>1</th>\n",
              "      <td>255</td>\n",
              "      <td>271</td>\n",
              "      <td>250</td>\n",
              "      <td>255</td>\n",
              "      <td>249</td>\n",
              "    </tr>\n",
              "    <tr>\n",
              "      <th>2</th>\n",
              "      <td>255</td>\n",
              "      <td>258</td>\n",
              "      <td>281</td>\n",
              "      <td>265</td>\n",
              "      <td>255</td>\n",
              "    </tr>\n",
              "    <tr>\n",
              "      <th>3</th>\n",
              "      <td>264</td>\n",
              "      <td>263</td>\n",
              "      <td>273</td>\n",
              "      <td>257</td>\n",
              "      <td>247</td>\n",
              "    </tr>\n",
              "    <tr>\n",
              "      <th>4</th>\n",
              "      <td>250</td>\n",
              "      <td>267</td>\n",
              "      <td>257</td>\n",
              "      <td>268</td>\n",
              "      <td>244</td>\n",
              "    </tr>\n",
              "    <tr>\n",
              "      <th>5</th>\n",
              "      <td>265</td>\n",
              "      <td>254</td>\n",
              "      <td>264</td>\n",
              "      <td>263</td>\n",
              "      <td>245</td>\n",
              "    </tr>\n",
              "    <tr>\n",
              "      <th>6</th>\n",
              "      <td>245</td>\n",
              "      <td>255</td>\n",
              "      <td>233</td>\n",
              "      <td>247</td>\n",
              "      <td>249</td>\n",
              "    </tr>\n",
              "    <tr>\n",
              "      <th>7</th>\n",
              "      <td>252</td>\n",
              "      <td>250</td>\n",
              "      <td>254</td>\n",
              "      <td>253</td>\n",
              "      <td>260</td>\n",
              "    </tr>\n",
              "    <tr>\n",
              "      <th>8</th>\n",
              "      <td>266</td>\n",
              "      <td>248</td>\n",
              "      <td>268</td>\n",
              "      <td>251</td>\n",
              "      <td>217</td>\n",
              "    </tr>\n",
              "    <tr>\n",
              "      <th>9</th>\n",
              "      <td>246</td>\n",
              "      <td>240</td>\n",
              "      <td>252</td>\n",
              "      <td>252</td>\n",
              "      <td>208</td>\n",
              "    </tr>\n",
              "    <tr>\n",
              "      <th>10</th>\n",
              "      <td>251</td>\n",
              "      <td>254</td>\n",
              "      <td>256</td>\n",
              "      <td>266</td>\n",
              "      <td>228</td>\n",
              "    </tr>\n",
              "    <tr>\n",
              "      <th>11</th>\n",
              "      <td>263</td>\n",
              "      <td>275</td>\n",
              "      <td>265</td>\n",
              "      <td>264</td>\n",
              "      <td>253</td>\n",
              "    </tr>\n",
              "    <tr>\n",
              "      <th>12</th>\n",
              "      <td>248</td>\n",
              "      <td>270</td>\n",
              "      <td>252</td>\n",
              "      <td>210</td>\n",
              "      <td>249</td>\n",
              "    </tr>\n",
              "    <tr>\n",
              "      <th>13</th>\n",
              "      <td>228</td>\n",
              "      <td>225</td>\n",
              "      <td>256</td>\n",
              "      <td>236</td>\n",
              "      <td>223</td>\n",
              "    </tr>\n",
              "    <tr>\n",
              "      <th>14</th>\n",
              "      <td>221</td>\n",
              "      <td>222</td>\n",
              "      <td>235</td>\n",
              "      <td>225</td>\n",
              "      <td>221</td>\n",
              "    </tr>\n",
              "    <tr>\n",
              "      <th>15</th>\n",
              "      <td>223</td>\n",
              "      <td>230</td>\n",
              "      <td>216</td>\n",
              "      <td>230</td>\n",
              "      <td>228</td>\n",
              "    </tr>\n",
              "    <tr>\n",
              "      <th>16</th>\n",
              "      <td>220</td>\n",
              "      <td>225</td>\n",
              "      <td>241</td>\n",
              "      <td>232</td>\n",
              "      <td>271</td>\n",
              "    </tr>\n",
              "  </tbody>\n",
              "</table>\n",
              "</div>\n",
              "      <button class=\"colab-df-convert\" onclick=\"convertToInteractive('df-ad0f904b-862f-4fcf-b00b-242b855d855f')\"\n",
              "              title=\"Convert this dataframe to an interactive table.\"\n",
              "              style=\"display:none;\">\n",
              "        \n",
              "  <svg xmlns=\"http://www.w3.org/2000/svg\" height=\"24px\"viewBox=\"0 0 24 24\"\n",
              "       width=\"24px\">\n",
              "    <path d=\"M0 0h24v24H0V0z\" fill=\"none\"/>\n",
              "    <path d=\"M18.56 5.44l.94 2.06.94-2.06 2.06-.94-2.06-.94-.94-2.06-.94 2.06-2.06.94zm-11 1L8.5 8.5l.94-2.06 2.06-.94-2.06-.94L8.5 2.5l-.94 2.06-2.06.94zm10 10l.94 2.06.94-2.06 2.06-.94-2.06-.94-.94-2.06-.94 2.06-2.06.94z\"/><path d=\"M17.41 7.96l-1.37-1.37c-.4-.4-.92-.59-1.43-.59-.52 0-1.04.2-1.43.59L10.3 9.45l-7.72 7.72c-.78.78-.78 2.05 0 2.83L4 21.41c.39.39.9.59 1.41.59.51 0 1.02-.2 1.41-.59l7.78-7.78 2.81-2.81c.8-.78.8-2.07 0-2.86zM5.41 20L4 18.59l7.72-7.72 1.47 1.35L5.41 20z\"/>\n",
              "  </svg>\n",
              "      </button>\n",
              "      \n",
              "  <style>\n",
              "    .colab-df-container {\n",
              "      display:flex;\n",
              "      flex-wrap:wrap;\n",
              "      gap: 12px;\n",
              "    }\n",
              "\n",
              "    .colab-df-convert {\n",
              "      background-color: #E8F0FE;\n",
              "      border: none;\n",
              "      border-radius: 50%;\n",
              "      cursor: pointer;\n",
              "      display: none;\n",
              "      fill: #1967D2;\n",
              "      height: 32px;\n",
              "      padding: 0 0 0 0;\n",
              "      width: 32px;\n",
              "    }\n",
              "\n",
              "    .colab-df-convert:hover {\n",
              "      background-color: #E2EBFA;\n",
              "      box-shadow: 0px 1px 2px rgba(60, 64, 67, 0.3), 0px 1px 3px 1px rgba(60, 64, 67, 0.15);\n",
              "      fill: #174EA6;\n",
              "    }\n",
              "\n",
              "    [theme=dark] .colab-df-convert {\n",
              "      background-color: #3B4455;\n",
              "      fill: #D2E3FC;\n",
              "    }\n",
              "\n",
              "    [theme=dark] .colab-df-convert:hover {\n",
              "      background-color: #434B5C;\n",
              "      box-shadow: 0px 1px 3px 1px rgba(0, 0, 0, 0.15);\n",
              "      filter: drop-shadow(0px 1px 2px rgba(0, 0, 0, 0.3));\n",
              "      fill: #FFFFFF;\n",
              "    }\n",
              "  </style>\n",
              "\n",
              "      <script>\n",
              "        const buttonEl =\n",
              "          document.querySelector('#df-ad0f904b-862f-4fcf-b00b-242b855d855f button.colab-df-convert');\n",
              "        buttonEl.style.display =\n",
              "          google.colab.kernel.accessAllowed ? 'block' : 'none';\n",
              "\n",
              "        async function convertToInteractive(key) {\n",
              "          const element = document.querySelector('#df-ad0f904b-862f-4fcf-b00b-242b855d855f');\n",
              "          const dataTable =\n",
              "            await google.colab.kernel.invokeFunction('convertToInteractive',\n",
              "                                                     [key], {});\n",
              "          if (!dataTable) return;\n",
              "\n",
              "          const docLinkHtml = 'Like what you see? Visit the ' +\n",
              "            '<a target=\"_blank\" href=https://colab.research.google.com/notebooks/data_table.ipynb>data table notebook</a>'\n",
              "            + ' to learn more about interactive tables.';\n",
              "          element.innerHTML = '';\n",
              "          dataTable['output_type'] = 'display_data';\n",
              "          await google.colab.output.renderOutput(dataTable, element);\n",
              "          const docLink = document.createElement('div');\n",
              "          docLink.innerHTML = docLinkHtml;\n",
              "          element.appendChild(docLink);\n",
              "        }\n",
              "      </script>\n",
              "    </div>\n",
              "  </div>\n",
              "  "
            ]
          },
          "metadata": {},
          "execution_count": 70
        }
      ]
    },
    {
      "cell_type": "markdown",
      "source": [
        "**Bắt đầu tiến hành kiểm định các nhóm có lấy từ phân phối chuẩn** "
      ],
      "metadata": {
        "id": "RRJU2n93kIan"
      }
    },
    {
      "cell_type": "markdown",
      "source": [
        "Phát biểu giả thuyết :\n",
        "\n",
        "Giả thuyết null\n",
        "\n",
        "$$H_0 : \\text{Các nhóm được lấy từ phân phối chuẩn}$$\n",
        "\n",
        "Giả thuyết thay thế \n",
        "\n",
        "$$H_a:\\text{Các nhóm không được lấy từ phân phối chuẩn}$$ "
      ],
      "metadata": {
        "id": "aRHmqmz0kJI7"
      }
    },
    {
      "cell_type": "code",
      "source": [
        "stats, p_value = st.shapiro(df5[\"X1\"])\n",
        "print(\"p_value:\",p_value)\n",
        "if p_value < 0.05:\n",
        "  print(\"Có bằng chứng bác bỏ  giả thuyết H0\")\n",
        "else:\n",
        "  print(\"Không có bằng chứng bác bỏ  giả thuyết H0\")"
      ],
      "metadata": {
        "colab": {
          "base_uri": "https://localhost:8080/"
        },
        "id": "zfGlltHrkLae",
        "outputId": "e0c6eab9-d03a-4453-f3cb-b61717d7f25b"
      },
      "execution_count": 75,
      "outputs": [
        {
          "output_type": "stream",
          "name": "stdout",
          "text": [
            "p_value: 0.028549334034323692\n",
            "Có bằng chứng bác bỏ  giả thuyết H0\n"
          ]
        }
      ]
    },
    {
      "cell_type": "code",
      "source": [
        "stats, p_value = st.shapiro(df5[\"X2\"])\n",
        "print(\"p_value:\",p_value)\n",
        "if p_value < 0.05:\n",
        "  print(\"Có bằng chứng bác bỏ  giả thuyết H0\")\n",
        "else:\n",
        "  print(\"Không có bằng chứng bác bỏ  giả thuyết H0\")"
      ],
      "metadata": {
        "colab": {
          "base_uri": "https://localhost:8080/"
        },
        "id": "xVoWKCBMkP6Z",
        "outputId": "1e364b6d-0bd8-4cf2-81b2-a620ab875c2f"
      },
      "execution_count": 74,
      "outputs": [
        {
          "output_type": "stream",
          "name": "stdout",
          "text": [
            "p_value: 0.16341625154018402\n",
            "Không có bằng chứng bác bỏ  giả thuyết H0\n"
          ]
        }
      ]
    },
    {
      "cell_type": "code",
      "source": [
        "stats, p_value = st.shapiro(df5[\"X3\"])\n",
        "print(\"p_value:\",p_value)\n",
        "if p_value < 0.05:\n",
        "  print(\"Có bằng chứng bác bỏ  giả thuyết H0\")\n",
        "else:\n",
        "  print(\"Không có bằng chứng bác bỏ  giả thuyết H0\")"
      ],
      "metadata": {
        "colab": {
          "base_uri": "https://localhost:8080/"
        },
        "id": "4-xEG6H2kQHM",
        "outputId": "176f3890-7bb4-4897-d5b7-b8284e34098c"
      },
      "execution_count": 73,
      "outputs": [
        {
          "output_type": "stream",
          "name": "stdout",
          "text": [
            "p_value: 0.6627115607261658\n",
            "Không có bằng chứng bác bỏ  giả thuyết H0\n"
          ]
        }
      ]
    },
    {
      "cell_type": "code",
      "source": [
        "stats, p_value = st.shapiro(df5[\"X4\"])\n",
        "print(\"p_value:\",p_value)\n",
        "if p_value < 0.05:\n",
        "  print(\"Có bằng chứng bác bỏ giả thuyết H0\")\n",
        "else:\n",
        "  print(\"Không có bằng chứng bác bỏ giả thuyết H0\")"
      ],
      "metadata": {
        "colab": {
          "base_uri": "https://localhost:8080/"
        },
        "id": "jwysMMKIkQRQ",
        "outputId": "c5af4f6b-9689-46b1-bebb-4a42c21f50f7"
      },
      "execution_count": 72,
      "outputs": [
        {
          "output_type": "stream",
          "name": "stdout",
          "text": [
            "p_value: 0.06506332755088806\n",
            "Không có bằng chứng bác bỏ  giả thuyết H0\n"
          ]
        }
      ]
    },
    {
      "cell_type": "code",
      "source": [
        "stats, p_value = st.shapiro(df5[\"X5\"])\n",
        "print(\"p_value:\",p_value)\n",
        "if p_value < 0.05:\n",
        "  print(\"Có bằng chứng bác bỏ  giả thuyết H0\")\n",
        "else:\n",
        "  print(\"Không có bằng chứng bác bỏ  giả thuyết H0\")"
      ],
      "metadata": {
        "colab": {
          "base_uri": "https://localhost:8080/"
        },
        "id": "hN7kySfskQac",
        "outputId": "216146f0-b715-4935-e7b8-2e5170463f74"
      },
      "execution_count": 71,
      "outputs": [
        {
          "output_type": "stream",
          "name": "stdout",
          "text": [
            "p_value: 0.3383376896381378\n",
            "Không có bằng chứng bác bỏ  giả thuyết H0\n"
          ]
        }
      ]
    },
    {
      "cell_type": "markdown",
      "source": [
        "**Không thể tiến hành phân tích ANOVA 1 chiều với dữ liệu vì có một mẫu không được lấy từ phân phối chuẩn**"
      ],
      "metadata": {
        "id": "2KKr-H6hkKks"
      }
    }
  ]
}
