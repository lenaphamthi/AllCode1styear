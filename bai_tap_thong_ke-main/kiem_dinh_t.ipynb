{
  "nbformat": 4,
  "nbformat_minor": 0,
  "metadata": {
    "colab": {
      "name": "t-test.ipynb",
      "provenance": [],
      "authorship_tag": "ABX9TyOmYOr0SuO0LPgUJTgXlRDN",
      "include_colab_link": true
    },
    "kernelspec": {
      "name": "python3",
      "display_name": "Python 3"
    },
    "language_info": {
      "name": "python"
    }
  },
  "cells": [
    {
      "cell_type": "markdown",
      "metadata": {
        "id": "view-in-github",
        "colab_type": "text"
      },
      "source": [
        "<a href=\"https://colab.research.google.com/github/lenaphamthi/bai_tap_thong_ke/blob/main/kiem_dinh_t.ipynb\" target=\"_parent\"><img src=\"https://colab.research.google.com/assets/colab-badge.svg\" alt=\"Open In Colab\"/></a>"
      ]
    },
    {
      "cell_type": "markdown",
      "source": [
        "1. Các thư viện cần thiết"
      ],
      "metadata": {
        "id": "PK2zExwiP11P"
      }
    },
    {
      "cell_type": "code",
      "execution_count": 1,
      "metadata": {
        "id": "2naAEqWKPriT",
        "colab": {
          "base_uri": "https://localhost:8080/"
        },
        "outputId": "4626e71d-a860-42f6-c210-c7bb1b2ef72f"
      },
      "outputs": [
        {
          "output_type": "stream",
          "name": "stderr",
          "text": [
            "/usr/local/lib/python3.7/dist-packages/statsmodels/tools/_testing.py:19: FutureWarning: pandas.util.testing is deprecated. Use the functions in the public API at pandas.testing instead.\n",
            "  import pandas.util.testing as tm\n"
          ]
        }
      ],
      "source": [
        "import numpy as np\n",
        "import pandas as pd\n",
        "import random \n",
        "from scipy import stats\n",
        "from statsmodels.stats.weightstats import ttest_ind\n"
      ]
    },
    {
      "cell_type": "markdown",
      "source": [
        "Các quy tắc đưa ra quyết định:\n",
        "- Để đưa ra được quyết đinh bác bỏ giả thuyết không, các nhà thống kê cần dựa vào những quy tắc nhất định quy tắc quyết định này theo 2 cách – tham chiếu tới một giá trị P-value hoặc tham chiếu tới vùng chấp nhận (region of acceptance).\n",
        "\n",
        "(1) P-value : Sức mạnh của bằng chứng trong việc hỗ trợ một giả thuyết không được đo bằng P-value. Giả sử, giả thuyết null là đúng nếu giá trị P-value nhỏ hơn độ lệch chuẩn, chúng ta bác bỏ giả thuyết không.\n",
        "\n",
        "(2) Vùng chấp nhận (region of acceptance) : Vùng chấp nhận là một dãy giá trị. Nếu bài thống kê mẫu nằm trong khu vực chấp nhận, giả thuyết không không bị bác bỏ."
      ],
      "metadata": {
        "id": "_Q3khT-NS2xq"
      }
    },
    {
      "cell_type": "markdown",
      "source": [
        "2. Một số lưu ý khi điểm định giả thuyết t  trong thống kê suy diễn\n",
        "\n",
        "(1) Phù hợp với cỡ mẫu nhỏ (n < 30) và độ lệch chuẩn không được biết\n",
        "\n",
        "(2) Các mẫu quan sát được phải được lựa chọn ngẫu nhiên từ quần thể\n",
        "\n",
        "(3) Tất cả các điểm dữ liệu là độc lập \n"
      ],
      "metadata": {
        "id": "G2nhygKyQXlN"
      }
    },
    {
      "cell_type": "markdown",
      "source": [
        "3. Các bước thực hiện kiểm định giả thuyết (sử dụng kiểm định t)\n",
        "\n",
        "Bước 1: Thực hiện các phép đo, hay thu thập dữ liệu quan sát\n",
        "\n",
        "Bước 2: Phát biểu giả thuyết $H_{0}$ và giả thuyết thay thế $H_{a}$\n",
        "\n",
        "Bước 3: Xác định mức $\\alpha$ (hay khoảng tin cậy)\n",
        "\n",
        "Bước 4: Lấy mẫu và tính toán các đại lượng thống kê của mẫu\n",
        "\n",
        "Bước 5: Thực hiện kiểm định t (t-test)\n",
        "\n",
        "Bước 6: Kết luận dựa vào kết quả kiểm định"
      ],
      "metadata": {
        "id": "1d4ha1cwSXDa"
      }
    },
    {
      "cell_type": "markdown",
      "source": [
        "4. Xây dựng một kiểm định t cụ thể với số liệu được sinh ngẫu nhiên theo phân phối chuẩn\n",
        "Bài toán : Ta có giả thiết, chiều cao trung bình của 25 người trưởng thành từ 20 tuổi trở lên là khoảng 66,5 inch (69,3 inch đối với nam) với độ lệch chuẩn là 5,3. Ta sẽ kiểm tra xem khẳng định này có phù hợp với mức ý nghĩa là 5% hay không? \n",
        "**Kiểm định 1 đuôi**\n",
        "\n",
        "Xây dựng giả thuyết:\n",
        "\n",
        "$$H_0 : \\mu = 66,5$$\n",
        "\n",
        "Giả thuyết thay thế:\n",
        "\n",
        "$$H_a : \\mu < 66,5$$\n",
        "\n",
        "với:\n",
        "- Hệ số alpha : 0,05  \n",
        "- Chỉ số t tương ứng với hệ số alpha/2 là : 2.06\n",
        "\n",
        "Công thức:  \n",
        "$$t = \\frac{(\\overline{\\rm X} - \\mu_0)}{(s / \\sqrt{n})}$$\n",
        "với:\n",
        "- $\\overline{\\rm X}$: trung bình mẫu \n",
        "- $\\mu_{0}$: trung bình của tổng thể cần so sánh \n",
        "- s : độ lệch chuẩn hiệu chỉnh mẫu \n",
        "- n : cỡ mẫu\n",
        "\n",
        "Áp dụng với các giá trị nêu trên:\n",
        "- $\\overline{\\rm X}$: 66,5 \n",
        "- $\\mu_{0}$: 69,3\n",
        "- s : 5,3\n",
        "- n: 25\n",
        "$$t = \\frac{(66,5- 69,3)}{(5.3 / \\sqrt{25})} \\approx -2.64$$\n",
        "\n",
        "Giá trị $|t|$ = -2.64 < 2.06 nên không có bằng chứng để bác bỏ giả thuyết $H_0$\n"
      ],
      "metadata": {
        "id": "4EybTqyObUiE"
      }
    },
    {
      "cell_type": "markdown",
      "source": [
        "Lập trình python cho bài toán trên\n"
      ],
      "metadata": {
        "id": "vKNEkYwjoxqU"
      }
    },
    {
      "cell_type": "code",
      "source": [
        "#Sinh ngẫu nhiên một mẫu 25 phần tử có trung bình mẫu là 66,5, độ lệch chuẩn là 5,3 \n",
        "samples = np.random.normal(66.5, scale =5.3,size = 25)\n",
        "print(samples[:10])"
      ],
      "metadata": {
        "colab": {
          "base_uri": "https://localhost:8080/"
        },
        "id": "x_4JVkUeo0K6",
        "outputId": "f3eb3ea4-2224-40e7-c205-fcc2f0dd61a2"
      },
      "execution_count": 2,
      "outputs": [
        {
          "output_type": "stream",
          "name": "stdout",
          "text": [
            "[68.40179571 68.21291725 79.85835817 65.36602734 65.01788099 74.88025313\n",
            " 71.67732474 69.49547648 67.1465293  70.51166274]\n"
          ]
        }
      ]
    },
    {
      "cell_type": "code",
      "source": [
        "#Xác định các thông số\n",
        "null_mean = 66.5 \n",
        "alpha = 0.05"
      ],
      "metadata": {
        "id": "IEfqnqXcoush"
      },
      "execution_count": 5,
      "outputs": []
    },
    {
      "cell_type": "code",
      "source": [
        "#Kiem dinh t \n",
        "t_test, p_value= stats.ttest_1samp(samples, null_mean)\n",
        "print(\"p_value: \",p_value)\n",
        "if(p_value < alpha):\n",
        "  print(\"Có bằng chứng để bác bỏ giả thuyết H0\")\n",
        "else:\n",
        "  print(\"Chưa có bằng chứng để bác bỏ giả thuyết H0\")"
      ],
      "metadata": {
        "colab": {
          "base_uri": "https://localhost:8080/"
        },
        "id": "borYHBD8qNIP",
        "outputId": "7ad7c593-184b-4ec2-824a-c8f4ffcee83d"
      },
      "execution_count": 6,
      "outputs": [
        {
          "output_type": "stream",
          "name": "stdout",
          "text": [
            "p_value:  0.8644940842480325\n",
            "Chưa có bằng chứng để bác bỏ giả thuyết H0\n"
          ]
        }
      ]
    },
    {
      "cell_type": "markdown",
      "source": [
        "**Kiểm định giả thuyết 2-đuôi**\n",
        "Bài toán : Ta có giả thiết, chiều cao trung bình của 20 người trưởng thành từ 20 tuổi trở lên là khoảng 66,5 inch (69,3 inch đối với nam với độ lệch chuẩn là 5,3 và 63,8 inch đối với nữ với độ lệch chuẩn là 4.8. Ta sẽ kiểm tra xem khẳng định này có phù hợp với mức ý nghĩa là 5% hay không? \n",
        "Xây dựng giả thuyết:\n",
        "\\begin{align}\n",
        "        H_0: μ_1 = μ_2\n",
        "    \\end{align}\n",
        "\n",
        "Giả thuyết thay thế:\n",
        "\\begin{align}\n",
        "        H_a: μ_1 \\ne μ_2\n",
        "    \\end{align}\n",
        "\n",
        "với:\n",
        "- Hệ số alpha : 0,05  \n",
        "- Chỉ số t tương ứng với hệ số alpha/2 là : 2.086\n",
        "\n",
        "\n"
      ],
      "metadata": {
        "id": "vtG6wItnsXDg"
      }
    },
    {
      "cell_type": "markdown",
      "source": [
        "Lập trình python cho bài tập trên "
      ],
      "metadata": {
        "id": "VVB1r-Krufbo"
      }
    },
    {
      "cell_type": "code",
      "source": [
        "#Sinh ngẫu nhiên sample 1 có 10 phần tử với mean = 69,3; std = 5,3 \n",
        "samples_1 = np.random.normal(69.3,scale= 5.3, size = 10)\n",
        "print(samples_1[:10])"
      ],
      "metadata": {
        "colab": {
          "base_uri": "https://localhost:8080/"
        },
        "id": "TjUbWXx2uh62",
        "outputId": "31140e37-80df-414b-e7b8-a39e4a3fc742"
      },
      "execution_count": null,
      "outputs": [
        {
          "output_type": "stream",
          "name": "stdout",
          "text": [
            "[78.3140833  66.35715062 74.0461539  58.31845753 73.74007375 74.62166798\n",
            " 76.87478815 72.57630773 69.17077341 74.60012267]\n"
          ]
        }
      ]
    },
    {
      "cell_type": "code",
      "source": [
        "#Sinh ngẫu nhiên sample 2 có 10 phần tử với mean = 63,8;  std = 4,8 \n",
        "samples_2 = np.random.normal(63.8, scale=4.8,size= 10)\n",
        "print(samples_2[:10])"
      ],
      "metadata": {
        "colab": {
          "base_uri": "https://localhost:8080/"
        },
        "id": "KYM5ywnQud9f",
        "outputId": "fdc2a6e1-e881-4bca-e08a-e253a406daf4"
      },
      "execution_count": null,
      "outputs": [
        {
          "output_type": "stream",
          "name": "stdout",
          "text": [
            "[71.98248636 69.56750325 62.91242947 71.3917648  57.45615319 67.86257764\n",
            " 63.2957931  70.97407077 67.02806547 69.65647916]\n"
          ]
        }
      ]
    },
    {
      "cell_type": "code",
      "source": [
        "#Kiểm định giả thuyết \n",
        "alpha = 0.05\n",
        "t_test, p_value,df = ttest_ind(x1 = samples_1, x2 = samples_2, value = 69.3-63.8 , alternative = 'two-sided')\n",
        "print('t = ', t_test, '; p = ', p_value)\n",
        "if(p_value <  alpha):\n",
        "  print(\"Có bằng chứng để bác bỏ giả thuyết H0\")\n",
        "else:\n",
        "  print(\"Chưa có bằng chứng để bác bỏ giả thuyết H0\")"
      ],
      "metadata": {
        "colab": {
          "base_uri": "https://localhost:8080/"
        },
        "id": "ARJlYiE4uoHG",
        "outputId": "7be2d103-466a-4bec-d396-3e99481b5fcd"
      },
      "execution_count": null,
      "outputs": [
        {
          "output_type": "stream",
          "name": "stdout",
          "text": [
            "t =  -0.3584477359275218 ; p =  0.7241778064067935\n",
            "Chưa có bằng chứng để bác bỏ giả thuyết H0\n"
          ]
        }
      ]
    }
  ]
}
