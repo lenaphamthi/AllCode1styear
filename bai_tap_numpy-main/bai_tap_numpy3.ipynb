{
  "nbformat": 4,
  "nbformat_minor": 0,
  "metadata": {
    "colab": {
      "name": "bai_tap_numpy3.ipynb",
      "provenance": [],
      "authorship_tag": "ABX9TyN/R4bjIZoyOFa4lGPLOhmi",
      "include_colab_link": true
    },
    "kernelspec": {
      "name": "python3",
      "display_name": "Python 3"
    },
    "language_info": {
      "name": "python"
    }
  },
  "cells": [
    {
      "cell_type": "markdown",
      "metadata": {
        "id": "view-in-github",
        "colab_type": "text"
      },
      "source": [
        "<a href=\"https://colab.research.google.com/github/lenaphamthi/bai_tap_numpy/blob/main/bai_tap_numpy3.ipynb\" target=\"_parent\"><img src=\"https://colab.research.google.com/assets/colab-badge.svg\" alt=\"Open In Colab\"/></a>"
      ]
    },
    {
      "cell_type": "markdown",
      "source": [
        "Câu 1: Hãy trình bày cú pháp của hàm apply_along_axis() và ý nghĩa của từng tham số của hàm này.\n",
        "\n"
      ],
      "metadata": {
        "id": "bVPwyhOypelL"
      }
    },
    {
      "cell_type": "markdown",
      "source": [
        "numpy. apply_along_axis ( func1d , axis , arr , * args , ** kwargs )\n",
        "+ hàm func1d (M,) -> (Nj…) : Hàm này phải chấp nhận mảng 1-D. Nó được áp dụng cho các lát arr 1-D dọc theo trục được chỉ định.\n",
        "+ axis : số nguyên trục\n",
        "\n",
        "Trục dọc theo arr được cắt.\n",
        "\n",
        "+ arr :ndarray (Ni…, M, Nk…)\n",
        "\n",
        "Đầu vào mảng.\n",
        "\n",
        "+ args: bất kỳ\n",
        "\n",
        "Đối số bổ sung cho func1d .\n",
        "\n",
        "+ kwargs: bất kỳ"
      ],
      "metadata": {
        "id": "t8-Mjo4NqE-T"
      }
    },
    {
      "cell_type": "markdown",
      "source": [
        "câu 2 : Tạo một ma trận A15x17 có giá trị ngẫu nhiên"
      ],
      "metadata": {
        "id": "a_CxaQQN4VEu"
      }
    },
    {
      "cell_type": "code",
      "source": [
        "import numpy as np"
      ],
      "metadata": {
        "id": "_yqXVhr__wgT"
      },
      "execution_count": 2,
      "outputs": []
    },
    {
      "cell_type": "code",
      "source": [
        "\n",
        "a = np.random.randint(1,10,[15,17])\n",
        "a"
      ],
      "metadata": {
        "colab": {
          "base_uri": "https://localhost:8080/"
        },
        "id": "86QVs_xj4aae",
        "outputId": "57bd3929-322e-49a5-d6b5-8afb918f80b1"
      },
      "execution_count": 4,
      "outputs": [
        {
          "output_type": "execute_result",
          "data": {
            "text/plain": [
              "array([[8, 6, 1, 2, 4, 7, 5, 4, 2, 6, 8, 8, 9, 1, 3, 6, 8],\n",
              "       [6, 1, 1, 2, 6, 8, 3, 6, 7, 6, 9, 8, 3, 9, 1, 8, 8],\n",
              "       [3, 8, 7, 7, 6, 9, 6, 2, 7, 7, 5, 7, 8, 9, 5, 9, 6],\n",
              "       [2, 1, 2, 2, 9, 1, 8, 1, 8, 3, 1, 3, 9, 1, 7, 1, 5],\n",
              "       [9, 2, 4, 2, 5, 2, 4, 3, 5, 1, 6, 6, 1, 3, 5, 2, 3],\n",
              "       [9, 3, 6, 1, 4, 7, 8, 9, 6, 8, 4, 1, 5, 2, 1, 6, 8],\n",
              "       [9, 1, 8, 7, 6, 9, 7, 8, 1, 9, 3, 6, 5, 5, 1, 2, 8],\n",
              "       [3, 8, 1, 3, 6, 6, 7, 1, 9, 5, 9, 1, 8, 9, 3, 7, 7],\n",
              "       [4, 9, 1, 1, 4, 4, 7, 3, 1, 6, 6, 8, 3, 1, 5, 3, 9],\n",
              "       [4, 6, 5, 8, 3, 6, 8, 4, 3, 9, 1, 4, 4, 8, 4, 8, 7],\n",
              "       [7, 9, 8, 3, 8, 4, 5, 1, 6, 3, 1, 6, 6, 2, 8, 3, 5],\n",
              "       [8, 7, 6, 6, 8, 7, 3, 1, 7, 9, 3, 3, 8, 7, 1, 1, 1],\n",
              "       [8, 1, 7, 7, 9, 8, 5, 8, 9, 4, 8, 7, 1, 4, 2, 6, 3],\n",
              "       [8, 1, 4, 2, 2, 6, 7, 7, 3, 3, 5, 1, 5, 7, 8, 4, 2],\n",
              "       [8, 1, 1, 1, 5, 9, 6, 3, 8, 8, 7, 3, 7, 7, 6, 2, 7]])"
            ]
          },
          "metadata": {},
          "execution_count": 4
        }
      ]
    },
    {
      "cell_type": "markdown",
      "source": [
        "Câu 3: Xây dựng hàm tìm giá trị lớn nhất có tên là tim_gia_tri_lon_nhat(vector_a) có tham số\n",
        "đầu vào là 1 vector a và giá trị trả về là giá trị phần tử lớn nhất của vector này. Áp dụng hàm này\n",
        "theo từng hàng của ma trận A ở Câu 1 và xuất kết quả ra màn hình."
      ],
      "metadata": {
        "id": "3zPhcjae49Zu"
      }
    },
    {
      "cell_type": "code",
      "source": [
        "def tim_gia_tri_lon_nhat(a):\n",
        " return np.max(a)\n",
        "np.apply_along_axis(tim_gia_tri_lon_nhat,1,a)"
      ],
      "metadata": {
        "colab": {
          "base_uri": "https://localhost:8080/"
        },
        "id": "X2fUvhBS4_OV",
        "outputId": "252c7921-a9be-4c7b-db40-59986b1d158f"
      },
      "execution_count": null,
      "outputs": [
        {
          "output_type": "execute_result",
          "data": {
            "text/plain": [
              "array([9, 9, 9, 9, 9, 9, 9, 9, 9, 9, 8, 9, 7, 9, 9])"
            ]
          },
          "metadata": {},
          "execution_count": 31
        }
      ]
    },
    {
      "cell_type": "markdown",
      "source": [
        "Câu 4: Xây dựng hàm tìm giá trị nhỏ nhất có tên là tim_gia_tri_nho_nhat(vector_a) có tham số\n",
        "đầu vào là 1 vector a và giá trị trả về là giá trị phần tử nhỏ nhất của vector này. Áp dụng hàm này\n",
        "theo từng cột của ma trận A ở Câu 1 và xuất kết quả ra màn hình."
      ],
      "metadata": {
        "id": "SED5sDaf7QDA"
      }
    },
    {
      "cell_type": "code",
      "source": [
        "def tim_gia_tri_nho_nhat(a):\n",
        "  return np.min(a)\n",
        "np.apply_along_axis(tim_gia_tri_nho_nhat,0,a)"
      ],
      "metadata": {
        "colab": {
          "base_uri": "https://localhost:8080/"
        },
        "id": "7C0wmWFl4Wmr",
        "outputId": "6c78fe32-4e2c-40ce-dfef-747aff549a20"
      },
      "execution_count": null,
      "outputs": [
        {
          "output_type": "execute_result",
          "data": {
            "text/plain": [
              "array([2, 1, 1, 1, 2, 1, 1, 1, 1, 1, 1, 1, 1, 1, 2, 1, 1])"
            ]
          },
          "metadata": {},
          "execution_count": 33
        }
      ]
    },
    {
      "cell_type": "markdown",
      "source": [
        "Câu 5: Xây dựng hàm tìm giá trị lớn nhất có tên là tinh_tong(vector_a) có tham số đầu vào là 1\n",
        "vector a và giá trị trả về là tổng các phần tử của vector này. Áp dụng hàm này theo từng hàng của\n",
        "ma trận A ở Câu 1 và xuất kết quả ra màn hình."
      ],
      "metadata": {
        "id": "e6Dh0w247SlV"
      }
    },
    {
      "cell_type": "code",
      "source": [
        "def tinh_tong(a):\n",
        "  return np.sum(a)\n",
        "print(\" tổng các phần tử của vector\")\n",
        "print(np.apply_along_axis(tinh_tong,1,a))"
      ],
      "metadata": {
        "colab": {
          "base_uri": "https://localhost:8080/"
        },
        "id": "BBJjwdKq7TAN",
        "outputId": "c38cca5b-bb3f-41ac-8366-4b6ed2d5fc6e"
      },
      "execution_count": 7,
      "outputs": [
        {
          "output_type": "stream",
          "name": "stdout",
          "text": [
            " tổng các phần tử của vector\n",
            "[ 88  92 111  64  63  88  95  93  75  92  85  86  97  75  89]\n"
          ]
        }
      ]
    },
    {
      "cell_type": "markdown",
      "source": [
        "Câu 6: Xây dựng hàm tìm giá trị lớn nhất có tên là tinh_tong_2(vector_a) có tham số đầu vào là\n",
        "1 vector a và giá trị trả về là tổng các phần tử có chỉ số lẻ (1 – 3 – 5 , .v.v.) của vector này. Áp\n",
        "dụng hàm này theo từng cột của ma trận A ở Câu 1 và xuất kết quả ra màn hình. Tiếp tục áp dụng\n",
        "hàm này theo từng hàng của ma trận A kể trên và xuất kết quả ra màn hình."
      ],
      "metadata": {
        "id": "HZaFG4lL-78h"
      }
    },
    {
      "cell_type": "code",
      "source": [
        "def tinh_tong_2(vector_a):\n",
        "  sum  = 0\n",
        "  for i in range(len(vector_a)):\n",
        "    if (i % 2 != 0):\n",
        "      sum  = sum +vector_a[i]\n",
        "  return sum\n",
        "print(\"tổng các phần tử có chỉ số lẻ\")\n",
        "print (np.apply_along_axis(tinh_tong_2, 1, a))"
      ],
      "metadata": {
        "id": "x65gb-Os-9wL",
        "outputId": "d9d0524c-d9ec-4c0b-fb97-485fb5d53d39",
        "colab": {
          "base_uri": "https://localhost:8080/"
        }
      },
      "execution_count": 6,
      "outputs": [
        {
          "output_type": "stream",
          "name": "stdout",
          "text": [
            "tổng các phần tử có chỉ số lẻ\n",
            "[40 48 58 13 21 37 47 40 35 53 31 41 45 31 34]\n"
          ]
        }
      ]
    }
  ]
}