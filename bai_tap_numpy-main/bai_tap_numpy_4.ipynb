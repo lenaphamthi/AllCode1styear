{
  "nbformat": 4,
  "nbformat_minor": 0,
  "metadata": {
    "colab": {
      "name": "bai_tap_numpy_4.ipynb",
      "provenance": [],
      "authorship_tag": "ABX9TyPIyWvSd5ZSVXw9Pf0Eaq0f",
      "include_colab_link": true
    },
    "kernelspec": {
      "name": "python3",
      "display_name": "Python 3"
    },
    "language_info": {
      "name": "python"
    }
  },
  "cells": [
    {
      "cell_type": "markdown",
      "metadata": {
        "id": "view-in-github",
        "colab_type": "text"
      },
      "source": [
        "<a href=\"https://colab.research.google.com/github/lenaphamthi/bai_tap_numpy/blob/main/bai_tap_numpy_4.ipynb\" target=\"_parent\"><img src=\"https://colab.research.google.com/assets/colab-badge.svg\" alt=\"Open In Colab\"/></a>"
      ]
    },
    {
      "cell_type": "markdown",
      "source": [
        "Câu 1: Sử dụng thư viện Numpy, hãy tạo một vector a có 7 chiều (tương ứng 7 phần tử) với giá trị các phần tử được sinh bằng hàm (kết quả xuất ra màn hình):\n",
        "- Ghi chú: sau mỗi lần sinh ra giá trị cho vector, hãy cho biết số chiều của vector được sinh ra và\n",
        "số chiều của vector chuyển vị của vector đó; cho biết kích thước của vector a và vector chuyển vị\n",
        "của vector a."
      ],
      "metadata": {
        "id": "GHcZhfDFDM48"
      }
    },
    {
      "cell_type": "markdown",
      "source": [
        "- np.arrange()"
      ],
      "metadata": {
        "id": "bSd6qrcdRhjL"
      }
    },
    {
      "cell_type": "code",
      "source": [
        "import numpy as np"
      ],
      "metadata": {
        "id": "7-2mfegxSs6Y"
      },
      "execution_count": 1,
      "outputs": []
    },
    {
      "cell_type": "code",
      "execution_count": null,
      "metadata": {
        "colab": {
          "base_uri": "https://localhost:8080/"
        },
        "id": "y3oboPzyDEOd",
        "outputId": "17e73fab-de2b-4f26-ab2d-20ead7717680"
      },
      "outputs": [
        {
          "output_type": "stream",
          "name": "stdout",
          "text": [
            "[1 2 3 4 5 6 7]\n",
            "so chieu cua vector a:  1\n",
            "so chieu cua vector chuyen vi vector a:  1\n",
            "kich thuoc cua vector a:  (7,)\n",
            "kich thuoc cua vector a chuyen vivector a:  (7,)\n"
          ]
        }
      ],
      "source": [
        "\n",
        "a =np.arange(1,8)\n",
        "print(a)\n",
        "print(\"so chieu cua vector a: \",a.ndim)\n",
        "print(\"so chieu cua vector chuyen vi vector a: \",a.T.ndim)\n",
        "print(\"kich thuoc cua vector a: \",a.shape)\n",
        "print(\"kich thuoc cua vector a chuyen vivector a: \",a.T.shape)"
      ]
    },
    {
      "cell_type": "markdown",
      "source": [
        "- np.linspace() "
      ],
      "metadata": {
        "id": "MdySYYcBRkHQ"
      }
    },
    {
      "cell_type": "code",
      "source": [
        "b=np.linspace(0,6,7)\n",
        "print(b)\n",
        "print(\"so chieu cua vector b: \",b.ndim)\n",
        "print(\"so chieu cua vector chuyen vi vector b: \",b.T.ndim)\n",
        "print(\"kich thuoc cua vector b : \",b.shape)\n",
        "print(\"kich thuoc cua vector chuyen vi vector b: \",b.T.shape)"
      ],
      "metadata": {
        "colab": {
          "base_uri": "https://localhost:8080/"
        },
        "id": "iauasWqPDeDV",
        "outputId": "a744fedb-1bb1-489f-89a4-e45a09e587a9"
      },
      "execution_count": null,
      "outputs": [
        {
          "output_type": "stream",
          "name": "stdout",
          "text": [
            "[0. 1. 2. 3. 4. 5. 6.]\n",
            "so chieu cua vector b:  1\n",
            "so chieu cua vector chuyen vi vector b:  1\n",
            "kich thuoc cua vector b :  (7,)\n",
            "kich thuoc cua vector chuyen vi vector b:  (7,)\n"
          ]
        }
      ]
    },
    {
      "cell_type": "markdown",
      "source": [
        "- np.logspace()"
      ],
      "metadata": {
        "id": "M_RAaN0GRo-K"
      }
    },
    {
      "cell_type": "code",
      "source": [
        "c=np.logspace(1,7,7)\n",
        "print(c)\n",
        "print(\"so chieu cua vector c: \",c.ndim)\n",
        "print(\"so chieu cua vector vector chuyen vi vector c: \",c.T.ndim)\n",
        "print(\"kich thuoc cua vector c: \",c.shape)\n",
        "print(\"kich thuoc cua vector chuyen vi vector c: \",c.T.shape)"
      ],
      "metadata": {
        "colab": {
          "base_uri": "https://localhost:8080/"
        },
        "id": "iC94VFGkDndb",
        "outputId": "04d889e5-27f8-41f4-e42e-38a598c5bf56"
      },
      "execution_count": null,
      "outputs": [
        {
          "output_type": "stream",
          "name": "stdout",
          "text": [
            "[1.e+01 1.e+02 1.e+03 1.e+04 1.e+05 1.e+06 1.e+07]\n",
            "so chieu cua vector c:  1\n",
            "so chieu cua vector vector chuyen vi vector c:  1\n",
            "kich thuoc cua vector c:  (7,)\n",
            "kich thuoc cua vector chuyen vi vector c:  (7,)\n"
          ]
        }
      ]
    },
    {
      "cell_type": "markdown",
      "source": [
        "- np.random.rand()"
      ],
      "metadata": {
        "id": "-IvJelsoRtV7"
      }
    },
    {
      "cell_type": "code",
      "source": [
        "d=np.random.rand(7)\n",
        "print(d)\n",
        "print(\"so chieu cua vector d: \",d.ndim)\n",
        "print(\"so chieu cua vector chuyen vi vector d: \",d.T.ndim)\n",
        "print(\"kich thuoc cua vector d: \",d.shape)\n",
        "print(\"kich thuoc cua vector chuyen vi vector d: \",d.T.shape)"
      ],
      "metadata": {
        "colab": {
          "base_uri": "https://localhost:8080/"
        },
        "id": "skpusBWiEN7k",
        "outputId": "80b4512f-ef56-4350-c697-124fc61112b4"
      },
      "execution_count": null,
      "outputs": [
        {
          "output_type": "stream",
          "name": "stdout",
          "text": [
            "[0.52101617 0.80052201 0.19406416 0.00399553 0.76087948 0.27395173\n",
            " 0.58599998]\n",
            "so chieu cua vector d:  1\n",
            "so chieu cua vector chuyen vi vector d:  1\n",
            "kich thuoc cua vector d:  (7,)\n",
            "kich thuoc cua vector chuyen vi vector d:  (7,)\n"
          ]
        }
      ]
    },
    {
      "cell_type": "markdown",
      "source": [
        "Câu 2: Sử dụng thư viện Numpy, hãy tạo ra ma trận A10x7 với giá trị các phần tử của ma trận A\n",
        "được sinh bởi:"
      ],
      "metadata": {
        "id": "5voWCBWSEXX8"
      }
    },
    {
      "cell_type": "markdown",
      "source": [
        "- np.arrange()\n"
      ],
      "metadata": {
        "id": "d8UX0YySR73o"
      }
    },
    {
      "cell_type": "code",
      "source": [
        "#ham arange()\n",
        "import numpy as np\n",
        "a = np.arange(1,71).reshape(10,7)\n",
        "print(a)\n",
        "print(\"so chieu cua ma tran A: \",a.ndim)\n",
        "print(\"so chieu cua ma tran chuyen vi A: \",a.T.ndim)\n",
        "print(\"so kich thuoc cua ma tran A: \",a.shape)\n",
        "print(\"so kich thuoc cua ma tran chuyen vi A: \",a.T.shape)"
      ],
      "metadata": {
        "id": "4h6FvQ8FKFHX",
        "colab": {
          "base_uri": "https://localhost:8080/"
        },
        "outputId": "46df12a8-e447-4ce2-d267-798fd167dfb0"
      },
      "execution_count": null,
      "outputs": [
        {
          "output_type": "stream",
          "name": "stdout",
          "text": [
            "[[ 1  2  3  4  5  6  7]\n",
            " [ 8  9 10 11 12 13 14]\n",
            " [15 16 17 18 19 20 21]\n",
            " [22 23 24 25 26 27 28]\n",
            " [29 30 31 32 33 34 35]\n",
            " [36 37 38 39 40 41 42]\n",
            " [43 44 45 46 47 48 49]\n",
            " [50 51 52 53 54 55 56]\n",
            " [57 58 59 60 61 62 63]\n",
            " [64 65 66 67 68 69 70]]\n",
            "so chieu cua ma tran A:  2\n",
            "so chieu cua ma tran chuyen vi A:  2\n",
            "so kich thuoc cua ma tran A:  (10, 7)\n",
            "so kich thuoc cua ma tran chuyen vi A:  (7, 10)\n"
          ]
        }
      ]
    },
    {
      "cell_type": "markdown",
      "source": [
        "- np.linspace()\n"
      ],
      "metadata": {
        "id": "HH7vNqgMR-AU"
      }
    },
    {
      "cell_type": "code",
      "source": [
        "#ham linspace()\n",
        "a = np.linspace(0,70,num=70).reshape(10,7)\n",
        "print(a)\n"
      ],
      "metadata": {
        "colab": {
          "base_uri": "https://localhost:8080/"
        },
        "id": "A-vJATlPxq8G",
        "outputId": "4de4c8a5-c0ab-4a1b-9234-83a812b3554d"
      },
      "execution_count": 29,
      "outputs": [
        {
          "output_type": "stream",
          "name": "stdout",
          "text": [
            "[[ 0.          1.01449275  2.02898551  3.04347826  4.05797101  5.07246377\n",
            "   6.08695652]\n",
            " [ 7.10144928  8.11594203  9.13043478 10.14492754 11.15942029 12.17391304\n",
            "  13.1884058 ]\n",
            " [14.20289855 15.2173913  16.23188406 17.24637681 18.26086957 19.27536232\n",
            "  20.28985507]\n",
            " [21.30434783 22.31884058 23.33333333 24.34782609 25.36231884 26.37681159\n",
            "  27.39130435]\n",
            " [28.4057971  29.42028986 30.43478261 31.44927536 32.46376812 33.47826087\n",
            "  34.49275362]\n",
            " [35.50724638 36.52173913 37.53623188 38.55072464 39.56521739 40.57971014\n",
            "  41.5942029 ]\n",
            " [42.60869565 43.62318841 44.63768116 45.65217391 46.66666667 47.68115942\n",
            "  48.69565217]\n",
            " [49.71014493 50.72463768 51.73913043 52.75362319 53.76811594 54.7826087\n",
            "  55.79710145]\n",
            " [56.8115942  57.82608696 58.84057971 59.85507246 60.86956522 61.88405797\n",
            "  62.89855072]\n",
            " [63.91304348 64.92753623 65.94202899 66.95652174 67.97101449 68.98550725\n",
            "  70.        ]]\n"
          ]
        }
      ]
    },
    {
      "cell_type": "code",
      "source": [
        "print(\"so chieu cua ma tran A: \",a.ndim)\n",
        "print(\"so chieu cua ma tran chuyen vi A: \",a.T.ndim)\n",
        "print(\"so kich thuoc cua ma tran A: \",a.shape)\n",
        "print(\"so kich thuoc cua ma tran chuyen vi A: \",a.T.shape)\n"
      ],
      "metadata": {
        "id": "RKxjcTAHXKk5",
        "outputId": "905148ca-799c-4b26-f1ca-31c344873308",
        "colab": {
          "base_uri": "https://localhost:8080/"
        }
      },
      "execution_count": 30,
      "outputs": [
        {
          "output_type": "stream",
          "name": "stdout",
          "text": [
            "so chieu cua ma tran A:  2\n",
            "so chieu cua ma tran chuyen vi A:  2\n",
            "so kich thuoc cua ma tran A:  (10, 7)\n",
            "so kich thuoc cua ma tran chuyen vi A:  (7, 10)\n"
          ]
        }
      ]
    },
    {
      "cell_type": "markdown",
      "source": [
        "- np.logspace()\n"
      ],
      "metadata": {
        "id": "X_GHe2MASAFK"
      }
    },
    {
      "cell_type": "code",
      "source": [
        "#hamlogspace()\n",
        "a = np.logspace(0,70,num=70).reshape(10,7)\n",
        "print(a)\n"
      ],
      "metadata": {
        "colab": {
          "base_uri": "https://localhost:8080/"
        },
        "id": "fnCvd9c2h6S2",
        "outputId": "dd5e365f-0f11-4d0f-8b2e-f9de22e8409a"
      },
      "execution_count": 31,
      "outputs": [
        {
          "output_type": "stream",
          "name": "stdout",
          "text": [
            "[[1.00000000e+00 1.03393385e+01 1.06901920e+02 1.10529514e+03\n",
            "  1.14280206e+04 1.18158173e+05 1.22167735e+06]\n",
            " [1.26313356e+07 1.30599655e+08 1.35031404e+09 1.39613539e+10\n",
            "  1.44351164e+11 1.49249555e+12 1.54314166e+13]\n",
            " [1.59550640e+14 1.64964807e+15 1.70562698e+16 1.76350547e+17\n",
            "  1.82334800e+18 1.88522122e+19 1.94919403e+20]\n",
            " [2.01533769e+21 2.08372585e+22 2.15443469e+23 2.22754295e+24\n",
            "  2.30313206e+25 2.38128619e+26 2.46209240e+27]\n",
            " [2.54564067e+28 2.63202406e+29 2.72133877e+30 2.81368427e+31\n",
            "  2.90916341e+32 3.00788252e+33 3.10995155e+34]\n",
            " [3.21548418e+35 3.32459793e+36 3.43741434e+37 3.55405904e+38\n",
            "  3.67466194e+39 3.79935737e+40 3.92828419e+41]\n",
            " [4.06158599e+42 4.19941123e+43 4.34191342e+44 4.48925126e+45\n",
            "  4.64158883e+46 4.79909581e+47 4.96194760e+48]\n",
            " [5.13032558e+49 5.30441728e+50 5.48441658e+51 5.67052394e+52\n",
            "  5.86294665e+53 6.06189899e+54 6.26760256e+55]\n",
            " [6.48028644e+56 6.70018750e+57 6.92755066e+58 7.16262912e+59\n",
            "  7.40568469e+60 7.65698808e+61 7.91681916e+62]\n",
            " [8.18546731e+63 8.46323172e+64 8.75042175e+65 9.04735724e+66\n",
            "  9.35436890e+67 9.67179864e+68 1.00000000e+70]]\n"
          ]
        }
      ]
    },
    {
      "cell_type": "code",
      "source": [
        "print(\"so chieu cua ma tran A: \",a.ndim)\n",
        "print(\"so chieu cua ma tran chuyen vi A: \",a.T.ndim)\n",
        "print(\"so kich thuoc cua ma tran A: \",a.shape)\n",
        "print(\"so kich thuoc cua ma tran chuyen vi A: \",a.T.shape)"
      ],
      "metadata": {
        "id": "L_D1UBG9XSnM",
        "outputId": "413ebf5a-e9b7-490b-fc68-50277346f302",
        "colab": {
          "base_uri": "https://localhost:8080/"
        }
      },
      "execution_count": 32,
      "outputs": [
        {
          "output_type": "stream",
          "name": "stdout",
          "text": [
            "so chieu cua ma tran A:  2\n",
            "so chieu cua ma tran chuyen vi A:  2\n",
            "so kich thuoc cua ma tran A:  (10, 7)\n",
            "so kich thuoc cua ma tran chuyen vi A:  (7, 10)\n"
          ]
        }
      ]
    },
    {
      "cell_type": "markdown",
      "source": [
        "- np.random.rand()"
      ],
      "metadata": {
        "id": "fshte_YISBrj"
      }
    },
    {
      "cell_type": "code",
      "source": [
        "#ham random.rand()\n",
        "a = np.random.rand(10,7)\n",
        "print(a)\n"
      ],
      "metadata": {
        "colab": {
          "base_uri": "https://localhost:8080/"
        },
        "id": "C_1oOHjuyHC6",
        "outputId": "0a63f362-0b24-4713-98a2-4b71f6f3a355"
      },
      "execution_count": 33,
      "outputs": [
        {
          "output_type": "stream",
          "name": "stdout",
          "text": [
            "[[0.11188501 0.43381919 0.54920513 0.62926117 0.45302361 0.31486457\n",
            "  0.16355361]\n",
            " [0.7734286  0.18778801 0.82625458 0.67435816 0.152132   0.41762627\n",
            "  0.26183805]\n",
            " [0.87624768 0.50319339 0.02008626 0.95426191 0.79732592 0.42165878\n",
            "  0.08768625]\n",
            " [0.13456757 0.67373324 0.68371035 0.48560884 0.40244456 0.99047837\n",
            "  0.97806871]\n",
            " [0.87322052 0.55701778 0.90157582 0.09990651 0.56441586 0.32981557\n",
            "  0.74077815]\n",
            " [0.74956902 0.97880527 0.02122395 0.18718873 0.28242924 0.31119221\n",
            "  0.80653964]\n",
            " [0.52515746 0.43127123 0.99893711 0.79034515 0.29837449 0.5653133\n",
            "  0.54740252]\n",
            " [0.78238639 0.62566654 0.41012806 0.31361569 0.89379063 0.28376019\n",
            "  0.65922105]\n",
            " [0.61187679 0.7984564  0.8502822  0.76390068 0.45805733 0.1867661\n",
            "  0.98601365]\n",
            " [0.6978405  0.98430423 0.17285385 0.69589281 0.73228405 0.14424199\n",
            "  0.51086673]]\n"
          ]
        }
      ]
    },
    {
      "cell_type": "code",
      "source": [
        "print(\"so chieu cua ma tran A: \",a.ndim)\n",
        "print(\"so chieu cua ma tran chuyen vi A: \",a.T.ndim)\n",
        "print(\"so kich thuoc cua ma tran A: \",a.shape)\n",
        "print(\"so kich thuoc cua ma tran chuyen vi A: \",a.T.shape)"
      ],
      "metadata": {
        "id": "00Fv86HgXWcP",
        "outputId": "0fe97f70-c916-4ca5-c4cd-e5547f61857a",
        "colab": {
          "base_uri": "https://localhost:8080/"
        }
      },
      "execution_count": 34,
      "outputs": [
        {
          "output_type": "stream",
          "name": "stdout",
          "text": [
            "so chieu cua ma tran A:  2\n",
            "so chieu cua ma tran chuyen vi A:  2\n",
            "so kich thuoc cua ma tran A:  (10, 7)\n",
            "so kich thuoc cua ma tran chuyen vi A:  (7, 10)\n"
          ]
        }
      ]
    },
    {
      "cell_type": "markdown",
      "source": [
        "Câu 3: Sử dụng thư viện Numpy, hãy:\n",
        "- Chuyển ma trận A ở câu 2 thành vector\n"
      ],
      "metadata": {
        "id": "zywZ6sTOzC8Y"
      }
    },
    {
      "cell_type": "code",
      "source": [
        "#chuyen ma tran o cau 2 thanh vector\n",
        "a.flatten()"
      ],
      "metadata": {
        "colab": {
          "base_uri": "https://localhost:8080/"
        },
        "id": "5oNecEkev98p",
        "outputId": "dd1a6e54-4829-459a-bf33-d1f85343bb34"
      },
      "execution_count": null,
      "outputs": [
        {
          "output_type": "execute_result",
          "data": {
            "text/plain": [
              "array([0.98740953, 0.87447793, 0.73467179, 0.3382906 , 0.66282275,\n",
              "       0.57066358, 0.89839512, 0.33089306, 0.59368739, 0.97914612,\n",
              "       0.04574198, 0.73788073, 0.59255612, 0.88655438, 0.46331292,\n",
              "       0.62182091, 0.29383419, 0.01283271, 0.24305635, 0.40276162,\n",
              "       0.50150864, 0.78144364, 0.1484967 , 0.25585557, 0.41411945,\n",
              "       0.83516669, 0.25587182, 0.20269876, 0.26020695, 0.05546035,\n",
              "       0.14032414, 0.14649455, 0.61083188, 0.66312297, 0.62343466,\n",
              "       0.52507712, 0.226851  , 0.39324424, 0.35005806, 0.53762588,\n",
              "       0.33814414, 0.8075551 , 0.29089733, 0.74196086, 0.79850487,\n",
              "       0.81980804, 0.84880796, 0.60652226, 0.76973679, 0.57730816,\n",
              "       0.72551115, 0.89949383, 0.39515186, 0.75217534, 0.69462737,\n",
              "       0.33770199, 0.79415672, 0.56794106, 0.69860579, 0.81259792,\n",
              "       0.59300803, 0.91188297, 0.35739584, 0.48018014, 0.39144706,\n",
              "       0.27544866, 0.44862229, 0.52582607, 0.17834108, 0.49109218])"
            ]
          },
          "metadata": {},
          "execution_count": 52
        }
      ]
    },
    {
      "cell_type": "markdown",
      "source": [
        "- Chuyển vector vừa được tạo ra ở câu trên thành ma trận."
      ],
      "metadata": {
        "id": "H2N49s5dSaR2"
      }
    },
    {
      "cell_type": "code",
      "source": [
        "#chuyen vector thanh ma tran\n",
        "a.reshape(10,7)"
      ],
      "metadata": {
        "colab": {
          "base_uri": "https://localhost:8080/"
        },
        "id": "5xwID9vl0tPX",
        "outputId": "93a0ad53-f850-4429-ac5f-b353705362f1"
      },
      "execution_count": null,
      "outputs": [
        {
          "output_type": "execute_result",
          "data": {
            "text/plain": [
              "array([[0.98740953, 0.87447793, 0.73467179, 0.3382906 , 0.66282275,\n",
              "        0.57066358, 0.89839512],\n",
              "       [0.33089306, 0.59368739, 0.97914612, 0.04574198, 0.73788073,\n",
              "        0.59255612, 0.88655438],\n",
              "       [0.46331292, 0.62182091, 0.29383419, 0.01283271, 0.24305635,\n",
              "        0.40276162, 0.50150864],\n",
              "       [0.78144364, 0.1484967 , 0.25585557, 0.41411945, 0.83516669,\n",
              "        0.25587182, 0.20269876],\n",
              "       [0.26020695, 0.05546035, 0.14032414, 0.14649455, 0.61083188,\n",
              "        0.66312297, 0.62343466],\n",
              "       [0.52507712, 0.226851  , 0.39324424, 0.35005806, 0.53762588,\n",
              "        0.33814414, 0.8075551 ],\n",
              "       [0.29089733, 0.74196086, 0.79850487, 0.81980804, 0.84880796,\n",
              "        0.60652226, 0.76973679],\n",
              "       [0.57730816, 0.72551115, 0.89949383, 0.39515186, 0.75217534,\n",
              "        0.69462737, 0.33770199],\n",
              "       [0.79415672, 0.56794106, 0.69860579, 0.81259792, 0.59300803,\n",
              "        0.91188297, 0.35739584],\n",
              "       [0.48018014, 0.39144706, 0.27544866, 0.44862229, 0.52582607,\n",
              "        0.17834108, 0.49109218]])"
            ]
          },
          "metadata": {},
          "execution_count": 53
        }
      ]
    },
    {
      "cell_type": "markdown",
      "source": [
        "Câu 4: Sử dụng thư viện Numpy, hãy:\n",
        "- Tạo ra 1 ma trận A10x15 với các giá trị được sinh ra bởi hàm logspace();\n"
      ],
      "metadata": {
        "id": "KvPygS00p6vG"
      }
    },
    {
      "cell_type": "code",
      "source": [
        "\n",
        "a = np.logspace(0,150,num=150).reshape(10,15)\n",
        "print(a)\n",
        "\n"
      ],
      "metadata": {
        "colab": {
          "base_uri": "https://localhost:8080/"
        },
        "id": "0Zj8_Vl3p8GA",
        "outputId": "6dea2f7e-4e93-46a4-d1fc-e058d52cf6fe"
      },
      "execution_count": 2,
      "outputs": [
        {
          "output_type": "stream",
          "name": "stdout",
          "text": [
            "[[1.00000000e+000 1.01557362e+001 1.03138977e+002 1.04745224e+003\n",
            "  1.06376485e+004 1.08033152e+005 1.09715619e+006 1.11424288e+007\n",
            "  1.13159567e+008 1.14921870e+009 1.16711619e+010 1.18529241e+011\n",
            "  1.20375170e+012 1.22249846e+013 1.24153719e+014]\n",
            " [1.26087241e+015 1.28050875e+016 1.30045090e+017 1.32070362e+018\n",
            "  1.34127175e+019 1.36216020e+020 1.38337396e+021 1.40491810e+022\n",
            "  1.42679775e+023 1.44901815e+024 1.47158460e+025 1.49450249e+026\n",
            "  1.51777730e+027 1.54141458e+028 1.56541998e+029]\n",
            " [1.58979923e+030 1.61455815e+031 1.63970266e+032 1.66523876e+033\n",
            "  1.69117254e+034 1.71751022e+035 1.74425806e+036 1.77142246e+037\n",
            "  1.79900992e+038 1.82702700e+039 1.85548042e+040 1.88437696e+041\n",
            "  1.91372352e+042 1.94352711e+043 1.97379486e+044]\n",
            " [2.00453398e+045 2.03575182e+046 2.06745584e+047 2.09965360e+048\n",
            "  2.13235280e+049 2.16556124e+050 2.19928686e+051 2.23353771e+052\n",
            "  2.26832196e+053 2.30364794e+054 2.33952406e+055 2.37595891e+056\n",
            "  2.41296118e+057 2.45053971e+058 2.48870348e+059]\n",
            " [2.52746159e+060 2.56682330e+061 2.60679802e+062 2.64739529e+063\n",
            "  2.68862481e+064 2.73049642e+065 2.77302012e+066 2.81620607e+067\n",
            "  2.86006458e+068 2.90460612e+069 2.94984134e+070 2.99578103e+071\n",
            "  3.04243618e+072 3.08981791e+073 3.13793754e+074]\n",
            " [3.18680658e+075 3.23643668e+076 3.28683970e+077 3.33802767e+078\n",
            "  3.39001283e+079 3.44280759e+080 3.49642455e+081 3.55087652e+082\n",
            "  3.60617651e+083 3.66233771e+084 3.71937355e+085 3.77729765e+086\n",
            "  3.83612383e+087 3.89586614e+088 3.95653887e+089]\n",
            " [4.01815648e+090 4.08073370e+091 4.14428548e+092 4.20882699e+093\n",
            "  4.27437364e+094 4.34094109e+095 4.40854524e+096 4.47720223e+097\n",
            "  4.54692846e+098 4.61774057e+099 4.68965549e+100 4.76269038e+101\n",
            "  4.83686269e+102 4.91219013e+103 4.98869069e+104]\n",
            " [5.06638264e+105 5.14528453e+106 5.22541521e+107 5.30679382e+108\n",
            "  5.38943979e+109 5.47337285e+110 5.55861305e+111 5.64518076e+112\n",
            "  5.73309663e+113 5.82238167e+114 5.91305720e+115 6.00514488e+116\n",
            "  6.09866670e+117 6.19364499e+118 6.29010244e+119]\n",
            " [6.38806207e+120 6.48754729e+121 6.58858186e+122 6.69118990e+123\n",
            "  6.79539592e+124 6.90122480e+125 7.00870182e+126 7.11785265e+127\n",
            "  7.22870335e+128 7.34128040e+129 7.45561067e+130 7.57172149e+131\n",
            "  7.68964057e+132 7.80939607e+133 7.93101660e+134]\n",
            " [8.05453121e+135 8.17996938e+136 8.30736107e+137 8.43673672e+138\n",
            "  8.56812721e+139 8.70156393e+140 8.83707874e+141 8.97470401e+142\n",
            "  9.11447260e+143 9.25641789e+144 9.40057378e+145 9.54697470e+146\n",
            "  9.69565562e+147 9.84665203e+148 1.00000000e+150]]\n"
          ]
        }
      ]
    },
    {
      "cell_type": "markdown",
      "source": [
        "- Hãy trích rút dòng thứ 3 của ma trận A (tương ứng với 1 vector hàng);\n"
      ],
      "metadata": {
        "id": "puMDQlqkSjvK"
      }
    },
    {
      "cell_type": "code",
      "source": [
        "print(\"hang thu 3 cua ma tran a: \")\n",
        "print(a[2:3])\n"
      ],
      "metadata": {
        "id": "RQ5Oh-XSTGPg",
        "outputId": "3a8d111f-eea7-4a1b-a7f5-c9486b84cc31",
        "colab": {
          "base_uri": "https://localhost:8080/"
        }
      },
      "execution_count": 4,
      "outputs": [
        {
          "output_type": "stream",
          "name": "stdout",
          "text": [
            "hang thu 3 cua ma tran a: \n",
            "[[1.58979923e+30 1.61455815e+31 1.63970266e+32 1.66523876e+33\n",
            "  1.69117254e+34 1.71751022e+35 1.74425806e+36 1.77142246e+37\n",
            "  1.79900992e+38 1.82702700e+39 1.85548042e+40 1.88437696e+41\n",
            "  1.91372352e+42 1.94352711e+43 1.97379486e+44]]\n"
          ]
        }
      ]
    },
    {
      "cell_type": "markdown",
      "source": [
        "- Hãy trích rút ra cột thứ 5 của ma trận A (tương ứng với 1 vector cột)."
      ],
      "metadata": {
        "id": "x1NhN7-7SlMH"
      }
    },
    {
      "cell_type": "code",
      "source": [
        "print(\"cot thu 5 cua ma tran a: \")\n",
        "print(a[:,4:5])"
      ],
      "metadata": {
        "id": "jaI5YKxtSmE8",
        "outputId": "be8d02b1-449a-49c8-9469-b991d458303d",
        "colab": {
          "base_uri": "https://localhost:8080/"
        }
      },
      "execution_count": 5,
      "outputs": [
        {
          "output_type": "stream",
          "name": "stdout",
          "text": [
            "cot thu 5 cua ma tran a: \n",
            "[[1.06376485e+004]\n",
            " [1.34127175e+019]\n",
            " [1.69117254e+034]\n",
            " [2.13235280e+049]\n",
            " [2.68862481e+064]\n",
            " [3.39001283e+079]\n",
            " [4.27437364e+094]\n",
            " [5.38943979e+109]\n",
            " [6.79539592e+124]\n",
            " [8.56812721e+139]]\n"
          ]
        }
      ]
    },
    {
      "cell_type": "markdown",
      "source": [
        "Câu 5: Thực hiện các yêu cầu sau:\n",
        "- Xây dựng hàm tính giá trị trung bình\n",
        "- Xây dựng hàm tính giá trị trung vị\n",
        "- Xây dựng hàm tính giá trị yếu vị\n",
        "- Xây dựng hàm tính phương sai\n",
        "- Xây dựng hàm tính độ lệch chuẩn\n",
        "- Hãy tạo ra ma trận A15x10 với các giá trị sinh bởi hàm arrange()\n",
        "- Áp dụng 5 hàm ở trên cho từng hàng của ma trận A\n",
        "- Áp dụng 5 hàm ở trên cho từng cột của ma trận A"
      ],
      "metadata": {
        "id": "g5w90fh4zgDI"
      }
    },
    {
      "cell_type": "markdown",
      "source": [
        "- Ham tinh gia tri trung binh: np.mean()"
      ],
      "metadata": {
        "id": "CyYabI3vUXqM"
      }
    },
    {
      "cell_type": "code",
      "source": [
        "x = np.array([1,2,3,4,5])\n",
        "print(\"tinh gia tri trung binh: \",np.mean(x))"
      ],
      "metadata": {
        "colab": {
          "base_uri": "https://localhost:8080/"
        },
        "id": "BFL5LP8CzhBB",
        "outputId": "6610b6bc-ea87-4e61-d844-ebbcab25659c"
      },
      "execution_count": 13,
      "outputs": [
        {
          "output_type": "stream",
          "name": "stdout",
          "text": [
            "tinh gia tri trung binh:  3.0\n"
          ]
        }
      ]
    },
    {
      "cell_type": "markdown",
      "source": [
        "- Ham tinh gia tri trung vi : np.median()"
      ],
      "metadata": {
        "id": "ChQuRwomTtYf"
      }
    },
    {
      "cell_type": "code",
      "source": [
        "\n",
        "X = np.array([2, 5, 3, 4,1, 7])\n",
        "print(\"tinh gia tri trung vi: \",np.median(X))"
      ],
      "metadata": {
        "id": "nbhGvj7PTtkw",
        "outputId": "02d9cb44-c16e-465c-93d0-9bcc88c00a5c",
        "colab": {
          "base_uri": "https://localhost:8080/"
        }
      },
      "execution_count": 6,
      "outputs": [
        {
          "output_type": "stream",
          "name": "stdout",
          "text": [
            "tinh gia tri trung vi:  3.5\n"
          ]
        }
      ]
    },
    {
      "cell_type": "markdown",
      "source": [
        "- Ham tinh gia tri yeu vi : np.nanmedian()"
      ],
      "metadata": {
        "id": "6iAJHeKXTy5f"
      }
    },
    {
      "cell_type": "code",
      "source": [
        "y = np.array([2, 5, 3, 4,1, 7,np.nan])\n",
        "print(\"tinh gia tri yeu vi: \",np.nanmedian(y))"
      ],
      "metadata": {
        "id": "c7okcnODTzHP",
        "outputId": "1a19109c-c920-4b83-9975-3592e83c7af7",
        "colab": {
          "base_uri": "https://localhost:8080/"
        }
      },
      "execution_count": 7,
      "outputs": [
        {
          "output_type": "stream",
          "name": "stdout",
          "text": [
            "tinh gia tri yeu vi:  3.5\n"
          ]
        }
      ]
    },
    {
      "cell_type": "markdown",
      "source": [
        "- Ham tinh phuong sai : np.var()"
      ],
      "metadata": {
        "id": "pxP9RhbWT7eZ"
      }
    },
    {
      "cell_type": "code",
      "source": [
        "Y = np.array([1,2,4,6,7])\n",
        "print(\"tinh phuong sai: \",np.var(Y))"
      ],
      "metadata": {
        "id": "uxHX-eUXT7sp",
        "outputId": "9f4c05d8-9e02-4278-f2c6-e4d1aa1f0094",
        "colab": {
          "base_uri": "https://localhost:8080/"
        }
      },
      "execution_count": 8,
      "outputs": [
        {
          "output_type": "stream",
          "name": "stdout",
          "text": [
            "tinh phuong sai:  5.2\n"
          ]
        }
      ]
    },
    {
      "cell_type": "markdown",
      "source": [
        "- Ham tinh do lech chuan : np.std()\n"
      ],
      "metadata": {
        "id": "dkRRNJwsUOQ0"
      }
    },
    {
      "cell_type": "code",
      "source": [
        "print(\"tinh do lech chuan: \", np.std(Y))"
      ],
      "metadata": {
        "id": "iZVtbDSUUQLR",
        "outputId": "1f6cc951-9fb7-4809-fe85-f8a5fbf451d6",
        "colab": {
          "base_uri": "https://localhost:8080/"
        }
      },
      "execution_count": 12,
      "outputs": [
        {
          "output_type": "stream",
          "name": "stdout",
          "text": [
            "tinh do lech chuan:  2.280350850198276\n"
          ]
        }
      ]
    },
    {
      "cell_type": "markdown",
      "source": [
        "- Hãy tạo ra ma trận A15x10 với các giá trị sinh bởi hàm arrange()\n",
        "- Áp dụng 5 hàm ở trên cho từng hàng của ma trận A\n",
        "- Áp dụng 5 hàm ở trên cho từng cột của ma trận A"
      ],
      "metadata": {
        "id": "eaBmeuMoUeVD"
      }
    },
    {
      "cell_type": "markdown",
      "source": [
        "tính giá trị trung bình"
      ],
      "metadata": {
        "id": "ECAjvvChVeQr"
      }
    },
    {
      "cell_type": "code",
      "source": [
        "#GT trung binh\n",
        "a = np.arange(1,151).reshape(15,10)\n",
        "print(a)\n"
      ],
      "metadata": {
        "colab": {
          "base_uri": "https://localhost:8080/"
        },
        "id": "NmYSPdRA87Ws",
        "outputId": "5940c2e6-b340-4eb3-faf2-c22a6bb67d3f"
      },
      "execution_count": 18,
      "outputs": [
        {
          "output_type": "stream",
          "name": "stdout",
          "text": [
            "[[  1   2   3   4   5   6   7   8   9  10]\n",
            " [ 11  12  13  14  15  16  17  18  19  20]\n",
            " [ 21  22  23  24  25  26  27  28  29  30]\n",
            " [ 31  32  33  34  35  36  37  38  39  40]\n",
            " [ 41  42  43  44  45  46  47  48  49  50]\n",
            " [ 51  52  53  54  55  56  57  58  59  60]\n",
            " [ 61  62  63  64  65  66  67  68  69  70]\n",
            " [ 71  72  73  74  75  76  77  78  79  80]\n",
            " [ 81  82  83  84  85  86  87  88  89  90]\n",
            " [ 91  92  93  94  95  96  97  98  99 100]\n",
            " [101 102 103 104 105 106 107 108 109 110]\n",
            " [111 112 113 114 115 116 117 118 119 120]\n",
            " [121 122 123 124 125 126 127 128 129 130]\n",
            " [131 132 133 134 135 136 137 138 139 140]\n",
            " [141 142 143 144 145 146 147 148 149 150]]\n"
          ]
        }
      ]
    },
    {
      "cell_type": "code",
      "source": [
        "print(\"gia tri trung binh tung hang cua ma tran a: \")\n",
        "print(np.mean(a,axis=1))\n"
      ],
      "metadata": {
        "id": "xBmkpPOeUuRM",
        "outputId": "c27e92db-017e-4625-d3f9-c384b9cd8591",
        "colab": {
          "base_uri": "https://localhost:8080/"
        }
      },
      "execution_count": 16,
      "outputs": [
        {
          "output_type": "stream",
          "name": "stdout",
          "text": [
            "gia tri trung binh tung hang cua ma tran a: \n",
            "[  5.5  15.5  25.5  35.5  45.5  55.5  65.5  75.5  85.5  95.5 105.5 115.5\n",
            " 125.5 135.5 145.5]\n"
          ]
        }
      ]
    },
    {
      "cell_type": "code",
      "source": [
        "print(\"gia tri trung binh tung cot cua ma tran a: \")\n",
        "print(np.mean(a,axis=0))"
      ],
      "metadata": {
        "id": "qYSUsy7iUzlO",
        "outputId": "3d703fca-23c7-4991-e7de-b34f4d948abf",
        "colab": {
          "base_uri": "https://localhost:8080/"
        }
      },
      "execution_count": 17,
      "outputs": [
        {
          "output_type": "stream",
          "name": "stdout",
          "text": [
            "gia tri trung binh tung cot cua ma tran a: \n",
            "[71. 72. 73. 74. 75. 76. 77. 78. 79. 80.]\n"
          ]
        }
      ]
    },
    {
      "cell_type": "markdown",
      "source": [
        "tính giá trị trung vị "
      ],
      "metadata": {
        "id": "N-OzxlSAViRK"
      }
    },
    {
      "cell_type": "code",
      "source": [
        "#GT trung vi\n",
        "a = np.arange(1,151).reshape(15,10)\n",
        "print(a)\n"
      ],
      "metadata": {
        "colab": {
          "base_uri": "https://localhost:8080/"
        },
        "id": "TjtP47qNlRMj",
        "outputId": "2df198b5-2ab9-4f18-c519-88dde1015b3e"
      },
      "execution_count": 21,
      "outputs": [
        {
          "output_type": "stream",
          "name": "stdout",
          "text": [
            "[[  1   2   3   4   5   6   7   8   9  10]\n",
            " [ 11  12  13  14  15  16  17  18  19  20]\n",
            " [ 21  22  23  24  25  26  27  28  29  30]\n",
            " [ 31  32  33  34  35  36  37  38  39  40]\n",
            " [ 41  42  43  44  45  46  47  48  49  50]\n",
            " [ 51  52  53  54  55  56  57  58  59  60]\n",
            " [ 61  62  63  64  65  66  67  68  69  70]\n",
            " [ 71  72  73  74  75  76  77  78  79  80]\n",
            " [ 81  82  83  84  85  86  87  88  89  90]\n",
            " [ 91  92  93  94  95  96  97  98  99 100]\n",
            " [101 102 103 104 105 106 107 108 109 110]\n",
            " [111 112 113 114 115 116 117 118 119 120]\n",
            " [121 122 123 124 125 126 127 128 129 130]\n",
            " [131 132 133 134 135 136 137 138 139 140]\n",
            " [141 142 143 144 145 146 147 148 149 150]]\n"
          ]
        }
      ]
    },
    {
      "cell_type": "code",
      "source": [
        "print(\"gia tri trung vi tung hang cua ma tran a: \")\n",
        "print(np.median(a,axis=1))\n"
      ],
      "metadata": {
        "id": "-mMjhP_MVFfo",
        "outputId": "824250f8-7d21-419e-a5ed-16c219cceadb",
        "colab": {
          "base_uri": "https://localhost:8080/"
        }
      },
      "execution_count": 22,
      "outputs": [
        {
          "output_type": "stream",
          "name": "stdout",
          "text": [
            "gia tri trung vi tung hang cua ma tran a: \n",
            "[  5.5  15.5  25.5  35.5  45.5  55.5  65.5  75.5  85.5  95.5 105.5 115.5\n",
            " 125.5 135.5 145.5]\n"
          ]
        }
      ]
    },
    {
      "cell_type": "code",
      "source": [
        "print(\"gia tri trung binh tung cot cua ma tran a: \")\n",
        "print(np.median(a,axis =0))"
      ],
      "metadata": {
        "id": "E7Mno8xtVHMd",
        "outputId": "b19b18be-80ba-42e0-93de-cafd3fe3d3b9",
        "colab": {
          "base_uri": "https://localhost:8080/"
        }
      },
      "execution_count": 23,
      "outputs": [
        {
          "output_type": "stream",
          "name": "stdout",
          "text": [
            "gia tri trung binh tung cot cua ma tran a: \n",
            "[71. 72. 73. 74. 75. 76. 77. 78. 79. 80.]\n"
          ]
        }
      ]
    },
    {
      "cell_type": "markdown",
      "source": [
        "tính giá trị phương sai "
      ],
      "metadata": {
        "id": "rf8t-xxWVlDK"
      }
    },
    {
      "cell_type": "code",
      "source": [
        "#GT phuong sai\n",
        "a = np.arange(1,151).reshape(15,10)\n",
        "print(a)\n"
      ],
      "metadata": {
        "colab": {
          "base_uri": "https://localhost:8080/"
        },
        "id": "g9JVVdJd1--J",
        "outputId": "3e74b9bb-0445-46d7-9db9-816fce793b54"
      },
      "execution_count": null,
      "outputs": [
        {
          "output_type": "stream",
          "name": "stdout",
          "text": [
            "[[  1   2   3   4   5   6   7   8   9  10]\n",
            " [ 11  12  13  14  15  16  17  18  19  20]\n",
            " [ 21  22  23  24  25  26  27  28  29  30]\n",
            " [ 31  32  33  34  35  36  37  38  39  40]\n",
            " [ 41  42  43  44  45  46  47  48  49  50]\n",
            " [ 51  52  53  54  55  56  57  58  59  60]\n",
            " [ 61  62  63  64  65  66  67  68  69  70]\n",
            " [ 71  72  73  74  75  76  77  78  79  80]\n",
            " [ 81  82  83  84  85  86  87  88  89  90]\n",
            " [ 91  92  93  94  95  96  97  98  99 100]\n",
            " [101 102 103 104 105 106 107 108 109 110]\n",
            " [111 112 113 114 115 116 117 118 119 120]\n",
            " [121 122 123 124 125 126 127 128 129 130]\n",
            " [131 132 133 134 135 136 137 138 139 140]\n",
            " [141 142 143 144 145 146 147 148 149 150]]\n",
            "phuong sai tung hang cua ma tran a:  [8.25 8.25 8.25 8.25 8.25 8.25 8.25 8.25 8.25 8.25 8.25 8.25 8.25 8.25\n",
            " 8.25]\n",
            "phuong sai tung cot cua ma tran a:  [1866.66666667 1866.66666667 1866.66666667 1866.66666667 1866.66666667\n",
            " 1866.66666667 1866.66666667 1866.66666667 1866.66666667 1866.66666667]\n"
          ]
        }
      ]
    },
    {
      "cell_type": "code",
      "source": [
        "print(\"phuong sai tung hang cua ma tran a: \")\n",
        "print(np.var(a,axis=1))\n"
      ],
      "metadata": {
        "id": "Ba5p4jr6Vp3_",
        "outputId": "a98ce1cb-0391-42f3-ecc9-8c377e9b549b",
        "colab": {
          "base_uri": "https://localhost:8080/"
        }
      },
      "execution_count": 24,
      "outputs": [
        {
          "output_type": "stream",
          "name": "stdout",
          "text": [
            "phuong sai tung hang cua ma tran a: \n",
            "[8.25 8.25 8.25 8.25 8.25 8.25 8.25 8.25 8.25 8.25 8.25 8.25 8.25 8.25\n",
            " 8.25]\n"
          ]
        }
      ]
    },
    {
      "cell_type": "code",
      "source": [
        "print(\"phuong sai tung cot cua ma tran a: \") \n",
        "print(np.var(a,axis =0))"
      ],
      "metadata": {
        "id": "8EwLBRhDVqCp",
        "outputId": "1b299a18-64c8-4559-9ee0-5ca9d6cca9fc",
        "colab": {
          "base_uri": "https://localhost:8080/"
        }
      },
      "execution_count": 25,
      "outputs": [
        {
          "output_type": "stream",
          "name": "stdout",
          "text": [
            "phuong sai tung cot cua ma tran a: \n",
            "[1866.66666667 1866.66666667 1866.66666667 1866.66666667 1866.66666667\n",
            " 1866.66666667 1866.66666667 1866.66666667 1866.66666667 1866.66666667]\n"
          ]
        }
      ]
    },
    {
      "cell_type": "markdown",
      "source": [
        "tính giá trị độ lệch chuẩn "
      ],
      "metadata": {
        "id": "qG3WCAMmV0V8"
      }
    },
    {
      "cell_type": "code",
      "source": [
        "#GT do lech chuan\n",
        "a = np.arange(1,151).reshape(15,10)\n",
        "print(a)\n"
      ],
      "metadata": {
        "colab": {
          "base_uri": "https://localhost:8080/"
        },
        "id": "zgfWXKU92A8q",
        "outputId": "3726abc3-1798-47fb-e313-14950f468486"
      },
      "execution_count": null,
      "outputs": [
        {
          "output_type": "stream",
          "name": "stdout",
          "text": [
            "[[  1   2   3   4   5   6   7   8   9  10]\n",
            " [ 11  12  13  14  15  16  17  18  19  20]\n",
            " [ 21  22  23  24  25  26  27  28  29  30]\n",
            " [ 31  32  33  34  35  36  37  38  39  40]\n",
            " [ 41  42  43  44  45  46  47  48  49  50]\n",
            " [ 51  52  53  54  55  56  57  58  59  60]\n",
            " [ 61  62  63  64  65  66  67  68  69  70]\n",
            " [ 71  72  73  74  75  76  77  78  79  80]\n",
            " [ 81  82  83  84  85  86  87  88  89  90]\n",
            " [ 91  92  93  94  95  96  97  98  99 100]\n",
            " [101 102 103 104 105 106 107 108 109 110]\n",
            " [111 112 113 114 115 116 117 118 119 120]\n",
            " [121 122 123 124 125 126 127 128 129 130]\n",
            " [131 132 133 134 135 136 137 138 139 140]\n",
            " [141 142 143 144 145 146 147 148 149 150]]\n",
            "do lech chuan tung hang cua ma tran a:  [2.87228132 2.87228132 2.87228132 2.87228132 2.87228132 2.87228132\n",
            " 2.87228132 2.87228132 2.87228132 2.87228132 2.87228132 2.87228132\n",
            " 2.87228132 2.87228132 2.87228132]\n",
            "do lech chuan tung cot cua ma tran a:  [43.20493799 43.20493799 43.20493799 43.20493799 43.20493799 43.20493799\n",
            " 43.20493799 43.20493799 43.20493799 43.20493799]\n"
          ]
        }
      ]
    },
    {
      "cell_type": "code",
      "source": [
        "print(\"do lech chuan tung hang cua ma tran a: \")\n",
        "print(np.std(a,axis=1))"
      ],
      "metadata": {
        "id": "LfJL4TUQV4cl",
        "outputId": "dc485722-5534-47ac-a83f-3e0795e2b328",
        "colab": {
          "base_uri": "https://localhost:8080/"
        }
      },
      "execution_count": 26,
      "outputs": [
        {
          "output_type": "stream",
          "name": "stdout",
          "text": [
            "do lech chuan tung hang cua ma tran a: \n",
            "[2.87228132 2.87228132 2.87228132 2.87228132 2.87228132 2.87228132\n",
            " 2.87228132 2.87228132 2.87228132 2.87228132 2.87228132 2.87228132\n",
            " 2.87228132 2.87228132 2.87228132]\n"
          ]
        }
      ]
    },
    {
      "cell_type": "code",
      "source": [
        "print(\"do lech chuan tung cot cua ma tran a: \")\n",
        "print(np.std(a,axis =0))"
      ],
      "metadata": {
        "id": "z3uhT4g4V4m2",
        "outputId": "fafdc03a-c2ab-498a-f43d-2eb7a1232471",
        "colab": {
          "base_uri": "https://localhost:8080/"
        }
      },
      "execution_count": 27,
      "outputs": [
        {
          "output_type": "stream",
          "name": "stdout",
          "text": [
            "do lech chuan tung cot cua ma tran a: \n",
            "[43.20493799 43.20493799 43.20493799 43.20493799 43.20493799 43.20493799\n",
            " 43.20493799 43.20493799 43.20493799 43.20493799]\n"
          ]
        }
      ]
    }
  ]
}