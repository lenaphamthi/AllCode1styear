{
  "nbformat": 4,
  "nbformat_minor": 0,
  "metadata": {
    "colab": {
      "name": "baitaptailop.ipynb",
      "provenance": [],
      "authorship_tag": "ABX9TyO2mg1xEMXAgekZTKIugM89",
      "include_colab_link": true
    },
    "kernelspec": {
      "name": "python3",
      "display_name": "Python 3"
    },
    "language_info": {
      "name": "python"
    }
  },
  "cells": [
    {
      "cell_type": "markdown",
      "metadata": {
        "id": "view-in-github",
        "colab_type": "text"
      },
      "source": [
        "<a href=\"https://colab.research.google.com/github/lenaphamthi/github_colab/blob/master/baitaptailop.ipynb\" target=\"_parent\"><img src=\"https://colab.research.google.com/assets/colab-badge.svg\" alt=\"Open In Colab\"/></a>"
      ]
    },
    {
      "cell_type": "markdown",
      "metadata": {
        "id": "D3hB9f4DAFi-"
      },
      "source": [
        "BÀI TẬP LẬP TRÌNH CHƯƠNG 2\n",
        "\n",
        "Bài 1: Lập trình nhập vào từ bàn phím 2 số nguyên và tính:\n",
        "\n",
        "Tổng của 2 số\n",
        "Tích của 2 số\n",
        "Hiệu của 2 số\n",
        "Phép chia lấy phần dư của 2 số\n",
        "Phép chia lấy phần nguyên của 2 số\n",
        "Kết quả xuất ra màn hình"
      ]
    },
    {
      "cell_type": "code",
      "metadata": {
        "colab": {
          "base_uri": "https://localhost:8080/"
        },
        "id": "hsdsrSeF_65n",
        "outputId": "9b662e4c-c0fc-4430-c2be-e8c34850473a"
      },
      "source": [
        "a = int(input(\"a=\"))\n",
        "b = int(input(\"b=\"))\n",
        "#Tong cua 2 so nguyen\n",
        "c=a+b\n",
        "print(\"a+b =\",c)\n",
        "#Tich cua 2 so nguyen\n",
        "c=a*b\n",
        "print(\"a*b =\",c)\n",
        "#Hieu cua 2 so nguyen\n",
        "c=a-b\n",
        "print(\"a-b =\",c)\n",
        "#Phep chia lay phan du cua 2 so nguyen\n",
        "c=a%b\n",
        "print(\"a%b =\",c)\n",
        "#Phep chia lay phan nguyen cua 2 so nguyen\n",
        "c=a//b\n",
        "print(\"a//b =\",c)\n",
        "\n"
      ],
      "execution_count": 1,
      "outputs": [
        {
          "output_type": "stream",
          "name": "stdout",
          "text": [
            "a=25\n",
            "b=24\n",
            "a+b = 49\n",
            "a*b = 600\n",
            "a-b = 1\n",
            "a%b = 1\n",
            "a//b = 1\n"
          ]
        }
      ]
    },
    {
      "cell_type": "markdown",
      "metadata": {
        "id": "7VQS4U-V_94X"
      },
      "source": [
        "Bài 2: Lập trình nhập vào từ bàn phím 2 số thực và tính:\n",
        "\n",
        "Tổng của 2 số\n",
        "Tích của 2 số\n",
        "Hiệu của 2 số\n",
        "Thương của 2 số\n",
        "Kết quả xuất ra màn hình"
      ]
    },
    {
      "cell_type": "code",
      "metadata": {
        "colab": {
          "base_uri": "https://localhost:8080/"
        },
        "id": "Ftq2FyR7ACZB",
        "outputId": "eb6f1538-0242-45df-a834-fd9856f9176f"
      },
      "source": [
        "a = float(input(\"a=\"))\n",
        "b= float(input(\"b=\"))\n",
        "#Tong cua 2 so thuc\n",
        "c=a+b\n",
        "print(\"a+b =\",c)\n",
        "#Hieu cua 2 so thuc\n",
        "c=a-b\n",
        "print(\"a-b =\",c)\n",
        "#Tich cua 2 so thuc\n",
        "c=a*b\n",
        "print(\"a*b =\",c)\n",
        "#Thuong cua 2 so thuc\n",
        "c=a/b\n",
        "print(\"a/b =\",c)"
      ],
      "execution_count": 2,
      "outputs": [
        {
          "output_type": "stream",
          "name": "stdout",
          "text": [
            "a=2.5\n",
            "b=2.4\n",
            "a+b = 4.9\n",
            "a-b = 0.10000000000000009\n",
            "a*b = 6.0\n",
            "a/b = 1.0416666666666667\n"
          ]
        }
      ]
    },
    {
      "cell_type": "markdown",
      "metadata": {
        "id": "Td-rEwnPAcQp"
      },
      "source": [
        "Bài 3: (Sử dụng các hàm toán học) Nhập một số từ bàn phím và tính:\n",
        "\n",
        "Trị tuyệt đối\n",
        "Lấy phần nguyên của số\n",
        "Chuyển đổi thành số thực\n",
        "(nhập thêm 1 số từ bàn phím) và tính lũy thừa  xy \n",
        "Tính căn bậc hai\n",
        "Kết quả xuất ra màn hình"
      ]
    },
    {
      "cell_type": "code",
      "metadata": {
        "colab": {
          "base_uri": "https://localhost:8080/"
        },
        "id": "ig6kOAcSAArX",
        "outputId": "18617e69-206d-41e7-c991-8ef5fc8dbced"
      },
      "source": [
        "import math\n",
        "x=float(input(\"x= \"))\n",
        "y=float(input(\"y= \"))\n",
        "#Tri tuyet doi\n",
        "a=abs(x)\n",
        "print(\"tri tuyet doi cua x la \", a)\n",
        "#Lay phan nguyen cua so\n",
        "a=int(x)\n",
        "print(\"phan nguyen cua x la \",a)\n",
        "#Chuyen doi thanh so thuc\n",
        "a=float(x)\n",
        "print(\"chuyen doi x thanh so thuc\",a)\n",
        "#Tinh luy thua x mu y\n",
        "a=x**y\n",
        "print(\"luy thua \", a)\n",
        "#Tinh can bac hai\n",
        "a = math.sqrt(abs(x))\n",
        "print(\"can bac hai cua x la \",a)\n"
      ],
      "execution_count": 15,
      "outputs": [
        {
          "output_type": "stream",
          "name": "stdout",
          "text": [
            "x= -2\n",
            "y= 5\n",
            "tri tuyet doi cua x la  2.0\n",
            "phan nguyen cua x la  -2\n",
            "chuyen doi x thanh so thuc -2.0\n",
            "luy thua  -32.0\n",
            "can bac hai cua x la  1.4142135623730951\n"
          ]
        }
      ]
    },
    {
      "cell_type": "markdown",
      "metadata": {
        "id": "iVpkgpbDEoc4"
      },
      "source": [
        "Bài 4: Nhập 2 số từ bàn phím và thực hiện các phép so sánh sau giữa 2 số:\n",
        "\n",
        "≥ \n",
        "≤ \n",
        "> \n",
        "< \n",
        "≠ \n",
        "Kết quả xuất ra màn hình"
      ]
    },
    {
      "cell_type": "code",
      "metadata": {
        "colab": {
          "base_uri": "https://localhost:8080/"
        },
        "id": "q_xi5IecEskI",
        "outputId": "336c0170-d0f1-4de3-8e80-5238a5fc3461"
      },
      "source": [
        "x = int(input(\"x = \"))\n",
        "y = int(input(\"y = \"))\n",
        "print( x >= y)\n",
        "print( x <= y)\n",
        "print( x > y)\n",
        "print( x < y)\n",
        "print( x != y)"
      ],
      "execution_count": 16,
      "outputs": [
        {
          "output_type": "stream",
          "name": "stdout",
          "text": [
            "x = 25\n",
            "y = 24\n",
            "True\n",
            "False\n",
            "True\n",
            "False\n",
            "True\n"
          ]
        }
      ]
    },
    {
      "cell_type": "markdown",
      "metadata": {
        "id": "qDZ4bQzmEy_X"
      },
      "source": [
        "Bài 5: Nhập 1 chuỗi ký tự từ bàn phím:\n",
        "\n",
        "Chuyển thành chuỗi in hoa\n",
        "Chuyển thành chuỗi in thường\n",
        "Kết quả xuất ra màn hình"
      ]
    },
    {
      "cell_type": "code",
      "metadata": {
        "colab": {
          "base_uri": "https://localhost:8080/"
        },
        "id": "I1Vef0e1Eylm",
        "outputId": "e22aa62d-573a-4adf-f51a-1b7ae31b3c19"
      },
      "source": [
        "#chuyen thanh in hoa\n",
        "print(\"xin chao cac ban\".upper())\n",
        "#chuyen thanh in thuong\n",
        "print(\"XIN CHAO CAC BAN\".lower())"
      ],
      "execution_count": 18,
      "outputs": [
        {
          "output_type": "stream",
          "name": "stdout",
          "text": [
            "XIN CHAO CAC BAN\n",
            "xin chao cac ban\n"
          ]
        }
      ]
    },
    {
      "cell_type": "markdown",
      "metadata": {
        "id": "Be1pUmgsFIUA"
      },
      "source": [
        "Bài 6: Xuất ra màn hình 1 chuỗi ký từ nằm trên nhiều hàng (có thể là 1 bài thơ tùy ý bạn lựa chọn)"
      ]
    },
    {
      "cell_type": "code",
      "metadata": {
        "colab": {
          "base_uri": "https://localhost:8080/"
        },
        "id": "215u4KWTFMWO",
        "outputId": "46d1e8cf-0edd-42f3-b69b-fb8f5d56f0cf"
      },
      "source": [
        "print(\"Cảm ơn đời mỗi sớm mai thức dậy\")\n",
        "print(\"Ta có thêm ngày nữa để yêu thương\")\n"
      ],
      "execution_count": 19,
      "outputs": [
        {
          "output_type": "stream",
          "name": "stdout",
          "text": [
            "Cảm ơn đời mỗi sớm mai thức dậy\n",
            "Ta có thêm ngày nữa để yêu thương\n"
          ]
        }
      ]
    }
  ]
}