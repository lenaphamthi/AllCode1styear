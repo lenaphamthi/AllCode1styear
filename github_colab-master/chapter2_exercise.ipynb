{
  "nbformat": 4,
  "nbformat_minor": 0,
  "metadata": {
    "colab": {
      "name": "chapter2-exercise.ipynb",
      "provenance": [],
      "include_colab_link": true
    },
    "kernelspec": {
      "name": "python3",
      "display_name": "Python 3"
    }
  },
  "cells": [
    {
      "cell_type": "markdown",
      "metadata": {
        "id": "view-in-github",
        "colab_type": "text"
      },
      "source": [
        "<a href=\"https://colab.research.google.com/github/lenaphamthi/github_colab/blob/master/chapter2_exercise.ipynb\" target=\"_parent\"><img src=\"https://colab.research.google.com/assets/colab-badge.svg\" alt=\"Open In Colab\"/></a>"
      ]
    },
    {
      "cell_type": "markdown",
      "metadata": {
        "id": "sMJ5KoiBMARd"
      },
      "source": [
        "**BÀI TẬP LẬP TRÌNH CHƯƠNG 2**\n",
        "\n",
        "Bài 1: Lập trình nhập vào từ bàn phím 2 số nguyên và tính:\n",
        "\n",
        "\n",
        "1.   Tổng của 2 số\n",
        "2.   Tích của 2 số\n",
        "3.   Hiệu của 2 số\n",
        "4.   Phép chia lấy phần dư của 2 số\n",
        "5.   Phép chia lấy phần nguyên của 2 số\n",
        "\n",
        "Kết quả xuất ra màn hình\n",
        "\n"
      ]
    },
    {
      "cell_type": "code",
      "metadata": {
        "id": "Os5z0wPpL1Nk",
        "colab": {
          "base_uri": "https://localhost:8080/"
        },
        "outputId": "73baa408-333b-4b1f-d29b-324d34ee8ade"
      },
      "source": [
        "#Your code here\n",
        "a = input(\"a=\")\n",
        "b= input(\"b=\")\n",
        "a = int(a)\n",
        "b= int(b)\n",
        "#Tong cua 2 so nguyen\n",
        "c=a+b\n",
        "print(\"a+b =\",c)\n",
        "#Tich cua 2 so nguyen\n",
        "c=a*b\n",
        "print(\"a*b =\",c)\n",
        "#Hieu cua 2 so nguyen\n",
        "c=a-b\n",
        "print(\"a-b =\",c)\n",
        "#Phep chia lay phan du cua 2 so nguyen\n",
        "c=a%b\n",
        "print(\"a%b =\",c)\n",
        "#Phep chia lay phan nguyen cua 2 so nguyen\n",
        "c=a//b\n",
        "print(\"a//b =\",c)\n"
      ],
      "execution_count": null,
      "outputs": [
        {
          "output_type": "stream",
          "name": "stdout",
          "text": [
            "a=2\n",
            "b=5\n",
            "a+b = 7\n",
            "a*b = 10\n",
            "a-b = -3\n",
            "a%b = 2\n",
            "a//b = 0\n"
          ]
        }
      ]
    },
    {
      "cell_type": "markdown",
      "metadata": {
        "id": "j2suJwVPM5Zk"
      },
      "source": [
        "Bài 2: Lập trình nhập vào từ bàn phím 2 số thực và tính:\n",
        "\n",
        "1.   Tổng của 2 số\n",
        "2.   Tích của 2 số\n",
        "3.   Hiệu của 2 số\n",
        "4.   Thương của 2 số\n",
        "\n",
        "Kết quả xuất ra màn hình"
      ]
    },
    {
      "cell_type": "code",
      "metadata": {
        "id": "fmlD-ggRMh9q",
        "colab": {
          "base_uri": "https://localhost:8080/"
        },
        "outputId": "bff1d7f2-1db2-4ef3-e637-0bc641683eb1"
      },
      "source": [
        "#Your code here\n",
        "a = input(\"a=\")\n",
        "b= input(\"b=\")\n",
        "a = float(a)\n",
        "b= float(b)\n",
        "#Tong cua 2 so thuc\n",
        "c=a+b\n",
        "print(\"a+b =\",c)\n",
        "#Hieu cua 2 so thuc\n",
        "c=a-b\n",
        "print(\"a-b =\",c)\n",
        "#Tich cua 2 so thuc\n",
        "c=a*b\n",
        "print(\"a*b =\",c)\n",
        "#Thuong cua 2 so thuc\n",
        "c=a/b\n",
        "print(\"a/b =\",c)\n",
        "\n"
      ],
      "execution_count": null,
      "outputs": [
        {
          "output_type": "stream",
          "name": "stdout",
          "text": [
            "a=2.5\n",
            "b=2.4\n",
            "a+b = 4.9\n",
            "a-b = 0.10000000000000009\n",
            "a*b = 6.0\n",
            "a/b = 1.0416666666666667\n"
          ]
        }
      ]
    },
    {
      "cell_type": "markdown",
      "metadata": {
        "id": "sOCly6AvNUAN"
      },
      "source": [
        "Bài 3: (Sử dụng các hàm toán học) Nhập một số từ bàn phím và tính:\n",
        "\n",
        "\n",
        "\n",
        "1.   Trị tuyệt đối\n",
        "2.   Lấy phần nguyên của số\n",
        "3.   Chuyển đổi thành số thực\n",
        "4.   (nhập thêm 1 số từ bàn phím) và tính lũy thừa $ x^y $\n",
        "5.   Tính căn bậc hai\n",
        "\n",
        "Kết quả xuất ra màn hình\n",
        "\n"
      ]
    },
    {
      "cell_type": "code",
      "metadata": {
        "id": "XNKN4yAoOUAa",
        "colab": {
          "base_uri": "https://localhost:8080/"
        },
        "outputId": "46ee7b44-6a22-4c03-f7f5-3ac4ffb82e52"
      },
      "source": [
        "#Your code here\n",
        "import math\n",
        "x=float(input(\"x= \"))\n",
        "y=float(input(\"y= \"))\n",
        "#Tri tuyet doi\n",
        "a=abs(x)\n",
        "print(\"tri tuyet doi cua x la \", a)\n",
        "#Lay phan nguyen cua so\n",
        "a=int(x)\n",
        "print(\"phan nguyen cua x la \",a)\n",
        "#Chuyen doi thanh so thuc\n",
        "a=float(x)\n",
        "print(\"chuyen doi x thanh so thuc\",a)\n",
        "#Tinh luy thua x mu y\n",
        "a=x**y\n",
        "print(\"luy thua \", a)\n",
        "#Tinh can bac hai\n",
        "a=math.sqrt(x)\n",
        "print(\"can bac hai cua x la \",a)\n",
        "\n",
        "\n",
        "\n"
      ],
      "execution_count": 9,
      "outputs": [
        {
          "output_type": "stream",
          "name": "stdout",
          "text": [
            "x= 2\n",
            "y= 5\n",
            "tri tuyet doi cua x la  2.0\n",
            "phan nguyen cua x la  2\n",
            "chuyen doi x thanh so thuc 2.0\n",
            "luy thua  32.0\n",
            "can bac hai cua x la  1.4142135623730951\n"
          ]
        }
      ]
    },
    {
      "cell_type": "markdown",
      "metadata": {
        "id": "79zQGrU5Od-d"
      },
      "source": [
        "Bài 4: Nhập 2 số từ bàn phím và thực hiện các phép so sánh sau giữa 2 số:\n",
        "\n",
        "\n",
        "\n",
        "1.   $ \\geq $\n",
        "2.   $ \\leq $\n",
        "3.   $ > $\n",
        "4.   $ < $\n",
        "5.   $ \\neq $\n",
        "\n",
        "Kết quả xuất ra màn hình\n"
      ]
    },
    {
      "cell_type": "code",
      "metadata": {
        "id": "qePknJEaP1tL",
        "outputId": "6fe28aa0-bf47-414e-e4ae-e24aae1fe581",
        "colab": {
          "base_uri": "https://localhost:8080/"
        }
      },
      "source": [
        "#Your code here\n",
        "X = int(input(\"x = \"))\n",
        "y = int(input(\"y = \"))\n",
        "print( x >= y)\n",
        "print( x <= y)\n",
        "print( x > y)\n",
        "print( x < y)\n",
        "print( x != y)"
      ],
      "execution_count": 17,
      "outputs": [
        {
          "output_type": "stream",
          "name": "stdout",
          "text": [
            "x = 5\n",
            "y = 7\n",
            "False\n",
            "True\n",
            "False\n",
            "True\n",
            "True\n"
          ]
        }
      ]
    },
    {
      "cell_type": "markdown",
      "metadata": {
        "id": "90lU8sTXP4hu"
      },
      "source": [
        "Bài 5: Nhập 1 chuỗi ký tự từ bàn phím:\n",
        "\n",
        "\n",
        "\n",
        "1.   Chuyển thành chuỗi in hoa\n",
        "2.   Chuyển thành chuỗi in thường\n",
        "\n",
        "Kết quả xuất ra màn hình\n",
        "\n",
        "\n",
        "\n"
      ]
    },
    {
      "cell_type": "code",
      "metadata": {
        "id": "PWIIssukQXja",
        "outputId": "19a326a2-bdd7-4a8a-e582-dc8f654373db",
        "colab": {
          "base_uri": "https://localhost:8080/"
        }
      },
      "source": [
        "#Your code here\n",
        "#Chuyển thành chuỗi in hoa\n",
        "print (\"xin chao cac ban\".upper())\n",
        "#Chuyển thành chuỗi in thường\n",
        "print(\"XIN CHAO CAC BAN\".lower())\n",
        "\n"
      ],
      "execution_count": 19,
      "outputs": [
        {
          "output_type": "stream",
          "name": "stdout",
          "text": [
            "XIN CHAO CAC BAN\n",
            "xin chao cac ban\n"
          ]
        }
      ]
    },
    {
      "cell_type": "markdown",
      "metadata": {
        "id": "gv9n9-gMQZ7O"
      },
      "source": [
        "Bài 6: Xuất ra màn hình 1 chuỗi ký từ nằm trên nhiều hàng (có thể là 1 bài thơ tùy ý bạn lựa chọn)"
      ]
    },
    {
      "cell_type": "code",
      "metadata": {
        "id": "ZcjBCkQOQoS0",
        "outputId": "4948acc2-65e2-4499-9d21-d9a1fef6096e",
        "colab": {
          "base_uri": "https://localhost:8080/"
        }
      },
      "source": [
        "#Your code here\n",
        "print(\"Cảm ơn đời mỗi sớm mai thức dậy\")\n",
        "print(\"Ta có thêm ngày nữa để yêu thương\")\n"
      ],
      "execution_count": 25,
      "outputs": [
        {
          "output_type": "stream",
          "name": "stdout",
          "text": [
            "Cảm ơn đời mỗi sớm mai thức dậy\n",
            "Ta có thêm ngày nữa để yêu thương\n"
          ]
        }
      ]
    }
  ]
}